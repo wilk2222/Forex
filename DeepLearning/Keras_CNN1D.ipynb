{
 "cells": [
  {
   "cell_type": "code",
   "execution_count": 1,
   "id": "7633b67d-e460-4794-9860-a4bf253ad58c",
   "metadata": {},
   "outputs": [
    {
     "name": "stdout",
     "output_type": "stream",
     "text": [
      "Writing DeepLearning/Keras_CNN1D.py\n"
     ]
    }
   ],
   "source": [
    "%%writefile DeepLearning/Keras_CNN1D.py\n",
    "from keras.models import Sequential\n",
    "from keras.layers import Dense, Conv1D, MaxPooling1D, Flatten, Dropout, BatchNormalization\n",
    "\n",
    "class Keras_CNN1D:\n",
    "    def __init__(self, input_shape, output_units, num_filters=32, filter_size=3, pool_size=2, hidden_layers=3, units=100, dropout_fraction=0.2):\n",
    "        self.input_shape = input_shape\n",
    "        self.output_units = output_units\n",
    "        self.num_filters = num_filters\n",
    "        self.filter_size = filter_size\n",
    "        self.pool_size = pool_size\n",
    "        self.hidden_layers = hidden_layers\n",
    "        self.units = units\n",
    "        self.dropout_fraction = dropout_fraction\n",
    "        self.model = self.build_model()\n",
    "\n",
    "    def build_model(self):\n",
    "        model = Sequential()\n",
    "        \n",
    "        # Input layer\n",
    "        model.add(Conv1D(filters=self.num_filters, kernel_size=self.filter_size, activation='relu', input_shape=self.input_shape))\n",
    "        model.add(MaxPooling1D(pool_size=self.pool_size))\n",
    "        model.add(BatchNormalization())\n",
    "        \n",
    "        # Hidden layers\n",
    "        for i in range(self.hidden_layers - 1):\n",
    "            model.add(Conv1D(filters=self.num_filters, kernel_size=self.filter_size, activation='relu'))\n",
    "            model.add(MaxPooling1D(pool_size=self.pool_size))\n",
    "            model.add(BatchNormalization())\n",
    "            model.add(Dropout(self.dropout_fraction))\n",
    "        \n",
    "        # Output layer\n",
    "        model.add(Flatten())\n",
    "        model.add(Dense(units=self.units, activation='relu'))\n",
    "        model.add(Dense(units=self.output_units))\n",
    "        \n",
    "        # Compile the model\n",
    "        model.compile(optimizer='adam', loss='mse', metrics=['mae'])\n",
    "        return model\n",
    "\n",
    "    def fit(self, X_train, y_train, epochs, batch_size):\n",
    "        self.model.fit(X_train, y_train, epochs=epochs, batch_size=batch_size)\n",
    "\n",
    "    def predict(self, X_test):\n",
    "        return self.model.predict(X_test)"
   ]
  },
  {
   "cell_type": "code",
   "execution_count": null,
   "id": "e3ddb73b-d9d6-455d-82a8-149ec6dc6fcb",
   "metadata": {},
   "outputs": [],
   "source": []
  }
 ],
 "metadata": {
  "kernelspec": {
   "display_name": "Python 3 (ipykernel)",
   "language": "python",
   "name": "python3"
  },
  "language_info": {
   "codemirror_mode": {
    "name": "ipython",
    "version": 3
   },
   "file_extension": ".py",
   "mimetype": "text/x-python",
   "name": "python",
   "nbconvert_exporter": "python",
   "pygments_lexer": "ipython3",
   "version": "3.10.4"
  }
 },
 "nbformat": 4,
 "nbformat_minor": 5
}
