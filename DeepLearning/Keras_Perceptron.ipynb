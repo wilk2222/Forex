{
 "cells": [
  {
   "cell_type": "code",
   "execution_count": 1,
   "id": "db5640e3-2ebe-4039-817d-0f24f30d0f3a",
   "metadata": {},
   "outputs": [
    {
     "name": "stdout",
     "output_type": "stream",
     "text": [
      "Writing DeepLearning/Keras_Perceptron.py\n"
     ]
    }
   ],
   "source": [
    "%%writefile DeepLearning/Keras_Perceptron.py\n",
    "from keras.models import Sequential\n",
    "from keras.layers import Dense, Activation\n",
    "from keras import backend as K\n",
    "\n",
    "class Keras_Perceptron:\n",
    "    def __init__(self, input_shape, output_units):\n",
    "        self.input_shape = input_shape\n",
    "        self.output_units = output_units\n",
    "        self.model = self.build_model()\n",
    "\n",
    "    def build_model(self):\n",
    "        model = Sequential()\n",
    "\n",
    "        # Input layer\n",
    "        model.add(Dense(units=self.output_units, input_shape=(self.input_shape,)))\n",
    "        model.add(Activation('sigmoid'))\n",
    "\n",
    "        # Compile the model\n",
    "        model.compile(loss='binary_crossentropy', optimizer='adam', metrics=['accuracy'])\n",
    "        return model\n",
    "\n",
    "    def fit(self, X_train, y_train, epochs, batch_size):\n",
    "        # Train the model\n",
    "        self.model.fit(X_train, y_train, epochs=epochs, batch_size=batch_size, verbose=2)\n",
    "\n",
    "    def predict(self, X_test):\n",
    "        # Generate predictions using the trained model\n",
    "        predictions = self.model.predict(X_test)\n",
    "        return (predictions > 0.5).astype(int)"
   ]
  },
  {
   "cell_type": "code",
   "execution_count": null,
   "id": "d99cd98e-045b-4750-a4e0-4ffccdbf0a24",
   "metadata": {},
   "outputs": [],
   "source": []
  }
 ],
 "metadata": {
  "kernelspec": {
   "display_name": "Python 3 (ipykernel)",
   "language": "python",
   "name": "python3"
  },
  "language_info": {
   "codemirror_mode": {
    "name": "ipython",
    "version": 3
   },
   "file_extension": ".py",
   "mimetype": "text/x-python",
   "name": "python",
   "nbconvert_exporter": "python",
   "pygments_lexer": "ipython3",
   "version": "3.10.4"
  }
 },
 "nbformat": 4,
 "nbformat_minor": 5
}
