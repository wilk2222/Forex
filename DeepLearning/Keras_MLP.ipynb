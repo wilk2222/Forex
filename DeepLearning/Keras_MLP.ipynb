{
 "cells": [
  {
   "cell_type": "code",
   "execution_count": 1,
   "id": "1f9c5a13-67a1-4561-97fc-2d2e152bf437",
   "metadata": {},
   "outputs": [
    {
     "name": "stdout",
     "output_type": "stream",
     "text": [
      "Writing DeepLearning/Keras_MLP.py\n"
     ]
    }
   ],
   "source": [
    "%%writefile DeepLearning/Keras_MLP.py\n",
    "from keras.models import Sequential\n",
    "from keras.layers import Dense, Activation\n",
    "from keras import backend as K\n",
    "\n",
    "class Keras_MLP:\n",
    "    def __init__(self, input_shape, output_units, hidden_layers=[32, 16], activation='relu'):\n",
    "        self.input_shape = input_shape\n",
    "        self.output_units = output_units\n",
    "        self.hidden_layers = hidden_layers\n",
    "        self.activation = activation\n",
    "        self.model = self.build_model()\n",
    "\n",
    "    def build_model(self):\n",
    "        model = Sequential()\n",
    "\n",
    "        # Input layer\n",
    "        model.add(Dense(units=self.hidden_layers[0], input_shape=(self.input_shape,)))\n",
    "        model.add(Activation(self.activation))\n",
    "\n",
    "        # Hidden layers\n",
    "        for layer_size in self.hidden_layers[1:]:\n",
    "            model.add(Dense(units=layer_size))\n",
    "            model.add(Activation(self.activation))\n",
    "\n",
    "        # Output layer\n",
    "        model.add(Dense(units=self.output_units))\n",
    "        model.add(Activation('softmax'))\n",
    "\n",
    "        # Compile the model\n",
    "        model.compile(loss='categorical_crossentropy', optimizer='adam', metrics=['accuracy'])\n",
    "        return model\n",
    "\n",
    "    def fit(self, X_train, y_train, epochs, batch_size):\n",
    "        # Train the model\n",
    "        self.model.fit(X_train, y_train, epochs=epochs, batch_size=batch_size, verbose=2)\n",
    "\n",
    "    def predict(self, X_test):\n",
    "        # Generate predictions using the trained model\n",
    "        predictions = self.model.predict(X_test)\n",
    "        return predictions.argmax(axis=-1)"
   ]
  },
  {
   "cell_type": "code",
   "execution_count": null,
   "id": "8076c96f-5998-4656-a43e-cf86df314bb0",
   "metadata": {},
   "outputs": [],
   "source": []
  }
 ],
 "metadata": {
  "kernelspec": {
   "display_name": "Python 3 (ipykernel)",
   "language": "python",
   "name": "python3"
  },
  "language_info": {
   "codemirror_mode": {
    "name": "ipython",
    "version": 3
   },
   "file_extension": ".py",
   "mimetype": "text/x-python",
   "name": "python",
   "nbconvert_exporter": "python",
   "pygments_lexer": "ipython3",
   "version": "3.10.4"
  }
 },
 "nbformat": 4,
 "nbformat_minor": 5
}
