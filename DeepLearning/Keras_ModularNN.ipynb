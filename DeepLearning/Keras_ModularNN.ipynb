{
 "cells": [
  {
   "cell_type": "code",
   "execution_count": 1,
   "id": "dc97d268-e6b8-4d6c-9b8d-3f1c92ca87dd",
   "metadata": {},
   "outputs": [
    {
     "name": "stdout",
     "output_type": "stream",
     "text": [
      "Writing DeepLearning/ModularNN.py\n"
     ]
    }
   ],
   "source": [
    "%%writefile DeepLearning/ModularNN.py\n",
    "from keras.models import Model\n",
    "from keras.layers import Input, Dense, Dropout\n",
    "\n",
    "class ModularNN:\n",
    "    def __init__(self, input_shape, output_shape, hidden_layers):\n",
    "        self.input_shape = input_shape\n",
    "        self.output_shape = output_shape\n",
    "        self.hidden_layers = hidden_layers\n",
    "        self.model = self.build_model()\n",
    "\n",
    "    def build_model(self):\n",
    "        inputs = Input(shape=self.input_shape)\n",
    "        x = inputs\n",
    "\n",
    "        for units, activation, dropout in self.hidden_layers:\n",
    "            x = Dense(units, activation=activation)(x)\n",
    "            if dropout > 0:\n",
    "                x = Dropout(dropout)(x)\n",
    "\n",
    "        outputs = Dense(self.output_shape, activation='softmax')(x)\n",
    "        model = Model(inputs=inputs, outputs=outputs)\n",
    "        model.compile(loss='categorical_crossentropy', optimizer='adam', metrics=['accuracy'])\n",
    "\n",
    "        return model\n",
    "\n",
    "    def fit(self, X_train, y_train, epochs, batch_size):\n",
    "        self.model.fit(X_train, y_train, epochs=epochs, batch_size=batch_size, verbose=2)\n",
    "\n",
    "    def predict(self, X_test):\n",
    "        predictions = self.model.predict(X_test)\n",
    "        return predictions"
   ]
  },
  {
   "cell_type": "code",
   "execution_count": null,
   "id": "b95369b2-99ab-40e9-91a0-2a841c4ea57f",
   "metadata": {},
   "outputs": [],
   "source": []
  }
 ],
 "metadata": {
  "kernelspec": {
   "display_name": "Python 3 (ipykernel)",
   "language": "python",
   "name": "python3"
  },
  "language_info": {
   "codemirror_mode": {
    "name": "ipython",
    "version": 3
   },
   "file_extension": ".py",
   "mimetype": "text/x-python",
   "name": "python",
   "nbconvert_exporter": "python",
   "pygments_lexer": "ipython3",
   "version": "3.10.4"
  }
 },
 "nbformat": 4,
 "nbformat_minor": 5
}
