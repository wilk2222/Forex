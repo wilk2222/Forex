{
 "cells": [
  {
   "cell_type": "code",
   "execution_count": 1,
   "id": "93a69151-06a7-480c-b18f-24b701aab5cc",
   "metadata": {},
   "outputs": [
    {
     "name": "stdout",
     "output_type": "stream",
     "text": [
      "Writing DeepLearning/Keras_SNN.py\n"
     ]
    }
   ],
   "source": [
    "%%writefile DeepLearning/Keras_SNN.py\n",
    "from keras.models import Sequential\n",
    "from keras.layers import Dense, Dropout, InputLayer, Flatten, TimeDistributed\n",
    "from keras.layers import LSTM, Conv2D, MaxPooling2D, Reshape, Activation\n",
    "from keras.constraints import max_norm\n",
    "from keras import backend as K\n",
    "import numpy as np\n",
    "\n",
    "class Keras_SNN:\n",
    "    def __init__(self, input_shape, output_units):\n",
    "        self.input_shape = input_shape\n",
    "        self.output_units = output_units\n",
    "        self.model = self.build_model()\n",
    "\n",
    "    def build_model(self):\n",
    "        model = Sequential()\n",
    "\n",
    "        # Input layer\n",
    "        model.add(InputLayer(input_shape=self.input_shape))\n",
    "        model.add(Reshape((28, 28, 1)))\n",
    "\n",
    "        # Convolutional layer\n",
    "        model.add(Conv2D(filters=32, kernel_size=(3, 3), activation='relu', padding='same'))\n",
    "        model.add(MaxPooling2D(pool_size=(2, 2)))\n",
    "\n",
    "        # Flatten output\n",
    "        model.add(Flatten())\n",
    "\n",
    "        # Spiking layers\n",
    "        model.add(Dense(units=64, activation='relu', use_bias=False))\n",
    "        model.add(Dropout(0.5))\n",
    "        model.add(Dense(units=self.output_units, activation='softmax', use_bias=False))\n",
    "        model.add(Activation('tanh'))\n",
    "\n",
    "        # Compile the model\n",
    "        model.compile(loss='categorical_crossentropy', optimizer='adam', metrics=['accuracy'])\n",
    "        return model\n",
    "\n",
    "    def fit(self, X_train, y_train, epochs, batch_size):\n",
    "        # Convert input data to spike trains\n",
    "        X_train = np.abs(np.random.normal(loc=X_train, scale=0.5)).astype(int)\n",
    "        X_train[X_train > 1] = 1\n",
    "\n",
    "        # Convert labels to one-hot vectors\n",
    "        y_train = np.eye(self.output_units)[y_train]\n",
    "\n",
    "        # Train the model\n",
    "        self.model.fit(X_train, y_train, epochs=epochs, batch_size=batch_size, verbose=2)\n",
    "\n",
    "    def predict(self, X_test):\n",
    "        # Convert input data to spike trains\n",
    "        X_test = np.abs(np.random.normal(loc=X_test, scale=0.5)).astype(int)\n",
    "        X_test[X_test > 1] = 1\n",
    "\n",
    "        # Generate predictions using the trained model\n",
    "        predictions = self.model.predict(X_test)\n",
    "        return np.argmax(predictions, axis=1)"
   ]
  },
  {
   "cell_type": "code",
   "execution_count": null,
   "id": "99829e45-9d9a-49be-a9ce-377945684bd1",
   "metadata": {},
   "outputs": [],
   "source": []
  }
 ],
 "metadata": {
  "kernelspec": {
   "display_name": "Python 3 (ipykernel)",
   "language": "python",
   "name": "python3"
  },
  "language_info": {
   "codemirror_mode": {
    "name": "ipython",
    "version": 3
   },
   "file_extension": ".py",
   "mimetype": "text/x-python",
   "name": "python",
   "nbconvert_exporter": "python",
   "pygments_lexer": "ipython3",
   "version": "3.10.4"
  }
 },
 "nbformat": 4,
 "nbformat_minor": 5
}
