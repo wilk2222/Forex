{
 "cells": [
  {
   "cell_type": "code",
   "execution_count": 1,
   "id": "3d6d82a1-2b6f-4fad-9729-58f0a772ea10",
   "metadata": {},
   "outputs": [
    {
     "name": "stdout",
     "output_type": "stream",
     "text": [
      "Writing DeepLearning/Keras_FFNN.py\n"
     ]
    }
   ],
   "source": [
    "%%writefile DeepLearning/Keras_FFNN.py\n",
    "from keras.models import Sequential\n",
    "from keras.layers import Dense, Dropout\n",
    "\n",
    "class Keras_FFNN:\n",
    "    def __init__(self, input_shape, output_units, hidden_layers, units, dropout_fraction):\n",
    "        self.input_shape = input_shape\n",
    "        self.output_units = output_units\n",
    "        self.hidden_layers = hidden_layers\n",
    "        self.units = units\n",
    "        self.dropout_fraction = dropout_fraction\n",
    "        self.model = self.build_model()\n",
    "\n",
    "    def build_model(self, activation):\n",
    "        self.activation = activation\n",
    "        \n",
    "        model = Sequential()\n",
    "        \n",
    "        # Input layer\n",
    "        model.add(Dense(units=self.units, activation, input_shape=self.input_shape))\n",
    "        model.add(Dropout(self.dropout_fraction))\n",
    "        \n",
    "        # Hidden layers\n",
    "        for i in range(self.hidden_layers - 1):\n",
    "            model.add(Dense(units=self.units, activation))\n",
    "            model.add(Dropout(self.dropout_fraction))\n",
    "        \n",
    "        # Output layer\n",
    "        model.add(Dense(units=self.output_units))\n",
    "        \n",
    "        # Compile the model\n",
    "        model.compile(optimizer='adam', loss='mse', metrics=['mae'])\n",
    "        return model\n",
    "\n",
    "    def fit(self, X_train, y_train, epochs, batch_size):\n",
    "        self.model.fit(X_train, y_train, epochs=epochs, batch_size=batch_size)\n",
    "\n",
    "    def predict(self, X_test):\n",
    "        return self.model.predict(X_test)"
   ]
  },
  {
   "cell_type": "code",
   "execution_count": null,
   "id": "36faa78f-79c8-4044-8b9b-0ede344db26d",
   "metadata": {},
   "outputs": [],
   "source": []
  }
 ],
 "metadata": {
  "kernelspec": {
   "display_name": "Python 3 (ipykernel)",
   "language": "python",
   "name": "python3"
  },
  "language_info": {
   "codemirror_mode": {
    "name": "ipython",
    "version": 3
   },
   "file_extension": ".py",
   "mimetype": "text/x-python",
   "name": "python",
   "nbconvert_exporter": "python",
   "pygments_lexer": "ipython3",
   "version": "3.10.4"
  }
 },
 "nbformat": 4,
 "nbformat_minor": 5
}
