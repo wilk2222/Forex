{
 "cells": [
  {
   "cell_type": "code",
   "execution_count": 2,
   "id": "95df4c0c-6125-4f59-8cf7-9ae3084f57a2",
   "metadata": {},
   "outputs": [
    {
     "name": "stdout",
     "output_type": "stream",
     "text": [
      "Writing DeepLearning/Keras_RNN.py\n"
     ]
    }
   ],
   "source": [
    "%%writefile DeepLearning/Keras_RNN.py\n",
    "from keras.models import Sequential\n",
    "from keras.layers import Dense, SimpleRNN, Dropout, BatchNormalization\n",
    "\n",
    "class Keras_RNN:\n",
    "    def __init__(self, input_shape, output_units, hidden_layers, units, dropout_fraction):\n",
    "        self.input_shape = input_shape\n",
    "        self.output_units = output_units\n",
    "        self.hidden_layers = hidden_layers\n",
    "        self.units = units\n",
    "        self.dropout_fraction = dropout_fraction\n",
    "        self.model = self.build_model()\n",
    "\n",
    "    def build_model(self):\n",
    "        model = Sequential()\n",
    "        \n",
    "        # Input layer\n",
    "        model.add(SimpleRNN(units=self.units, return_sequences=True, input_shape=self.input_shape))\n",
    "        model.add(BatchNormalization())\n",
    "        model.add(Dropout(self.dropout_fraction))\n",
    "        \n",
    "        # Hidden layers\n",
    "        for i in range(self.hidden_layers - 1):\n",
    "            model.add(SimpleRNN(units=self.units, return_sequences=True))\n",
    "            model.add(BatchNormalization())\n",
    "            model.add(Dropout(self.dropout_fraction))\n",
    "        \n",
    "        # Output layer\n",
    "        model.add(SimpleRNN(units=self.output_units))\n",
    "        model.add(Dense(units=self.output_units))\n",
    "        \n",
    "        # Compile the model\n",
    "        model.compile(optimizer='adam', loss='mse', metrics=['mae'])\n",
    "        return model\n",
    "\n",
    "    def fit(self, X_train, y_train, epochs, batch_size):\n",
    "        self.model.fit(X_train, y_train, epochs=epochs, batch_size=batch_size)\n",
    "\n",
    "    def predict(self, X_test):\n",
    "        return self.model.predict(X_test)"
   ]
  },
  {
   "cell_type": "code",
   "execution_count": null,
   "id": "1432e7fb-48a3-417a-80a2-b78ff7b99a12",
   "metadata": {},
   "outputs": [],
   "source": []
  }
 ],
 "metadata": {
  "kernelspec": {
   "display_name": "Python 3 (ipykernel)",
   "language": "python",
   "name": "python3"
  },
  "language_info": {
   "codemirror_mode": {
    "name": "ipython",
    "version": 3
   },
   "file_extension": ".py",
   "mimetype": "text/x-python",
   "name": "python",
   "nbconvert_exporter": "python",
   "pygments_lexer": "ipython3",
   "version": "3.10.4"
  }
 },
 "nbformat": 4,
 "nbformat_minor": 5
}
