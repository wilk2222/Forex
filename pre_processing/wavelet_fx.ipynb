{
 "cells": [
  {
   "cell_type": "code",
   "execution_count": 1,
   "id": "af717e42-e346-406e-83ea-06b428a075fa",
   "metadata": {},
   "outputs": [],
   "source": [
    "import pandas as pd\n",
    "import numpy as np\n",
    "import matplotlib.pyplot as plt\n",
    "import pywt\n",
    "\n",
    "def wavelet_denoising(data): \n",
    "#def wavelet_denoising(data, w='db4', level=1)\n",
    "    wavelet = 'db4'\n",
    "    \n",
    "    # Calculate a threshold for each level of wavelet coefficients\n",
    "    threshold = np.std(data) * np.sqrt(2 * np.log(len(data)))\n",
    "    \n",
    "    \"\"\"\n",
    "    sigma = (1/0.6745) * np.median(np.abs(coeff[-level]))\n",
    "    threshold = sigma * np.sqrt(2 * np.log(len(data)))\n",
    "    \"\"\"\n",
    "    \n",
    "    # Decompose the data into wavelet coefficients\n",
    "    coeffs = pywt.wavedec(data, wavelet, mode='per')\n",
    "    \n",
    "    # Set coefficients below the threshold to zero\n",
    "    coeffs[1:] = (pywt.threshold(i, value=threshold, mode='soft') for i in coeffs[1:])\n",
    "     \n",
    "    # Reconstruct the signal using the denoised wavelet coefficients\n",
    "    denoised = pywt.waverec(coeffs, wavelet, mode='per')\n",
    "    \n",
    "    return denoised[:len(data)]\n",
    "\n",
    "def denoising(list_):\n",
    "    output=[]\n",
    "    for item in list_:\n",
    "        output.append(wavelet_denoising(item))\n",
    "    return output"
   ]
  }
 ],
 "metadata": {
  "kernelspec": {
   "display_name": "Python 3 (ipykernel)",
   "language": "python",
   "name": "python3"
  },
  "language_info": {
   "codemirror_mode": {
    "name": "ipython",
    "version": 3
   },
   "file_extension": ".py",
   "mimetype": "text/x-python",
   "name": "python",
   "nbconvert_exporter": "python",
   "pygments_lexer": "ipython3",
   "version": "3.10.4"
  }
 },
 "nbformat": 4,
 "nbformat_minor": 5
}
