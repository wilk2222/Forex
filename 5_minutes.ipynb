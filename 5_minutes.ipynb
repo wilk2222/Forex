{
 "cells": [
  {
   "cell_type": "code",
   "execution_count": 27,
   "id": "9b2ce8f2-2267-4e5a-b503-5641dde20b3c",
   "metadata": {
    "tags": []
   },
   "outputs": [],
   "source": [
    "# Import basic libraries\n",
    "import pandas as pd\n",
    "import numpy as np\n",
    "import io\n",
    "import os\n",
    "import sys\n",
    "import requests"
   ]
  },
  {
   "cell_type": "code",
   "execution_count": 28,
   "id": "3d33b86c-3479-42dc-8aee-65f2fcab8bfa",
   "metadata": {
    "tags": []
   },
   "outputs": [],
   "source": [
    "# Import Technical Application and Wavelet denoising functions\n",
    "from pre_processing import ta_features as ta\n",
    "from pre_processing import wavelet_fx as denoise"
   ]
  },
  {
   "cell_type": "code",
   "execution_count": 29,
   "id": "bc45be98-c01b-45a5-91c0-10cfdfc8226e",
   "metadata": {
    "tags": []
   },
   "outputs": [],
   "source": [
    "# Import neural network libraries\n",
    "from sklearn.preprocessing import MinMaxScaler\n",
    "from keras.models import Sequential\n",
    "from keras.layers import Dense, LSTM, Dropout\n",
    "from keras.layers import BatchNormalization\n",
    "from keras.utils import plot_model\n",
    "from tensorflow.keras.callbacks import EarlyStopping"
   ]
  },
  {
   "cell_type": "code",
   "execution_count": 30,
   "id": "681141f1-442e-4cb9-ada8-cdfabb51d0ef",
   "metadata": {
    "tags": []
   },
   "outputs": [],
   "source": [
    "# Import Graph libraries\n",
    "import matplotlib.pyplot as plt"
   ]
  },
  {
   "cell_type": "code",
   "execution_count": 31,
   "id": "359e9cab-c1b5-428f-bea7-9065566e3d13",
   "metadata": {
    "tags": []
   },
   "outputs": [],
   "source": [
    "def import_historical_dataframes_from_folder(folder_path):\n",
    "    \"\"\"\n",
    "    Imports all CSV files from a folder with separator='\\t' and returns a dictionary of dataframes.\n",
    "\n",
    "    Parameters:\n",
    "    folder_path (str): The path to the folder containing the CSV files.\n",
    "\n",
    "    Returns:\n",
    "    dict: A dictionary mapping CSV file names to their corresponding dataframes.\n",
    "    \"\"\"\n",
    "    dataframes = {}\n",
    "    for filename in os.listdir(folder_path):\n",
    "        if filename.endswith('.csv'):\n",
    "            filepath = os.path.join(folder_path, filename)\n",
    "            df_name = filename[:-4]  # remove .csv extension from filename\n",
    "            df = pd.read_csv(filepath, sep='\\t')\n",
    "            df = df.rename(columns = {'<DATE>':'Date','<OPEN>':'open', '<HIGH>':'high', '<LOW>':'low', '<CLOSE>':'close','<TICKVOL>':'tickvol','<VOL>':'volume','<SPREAD>':'spread'})\n",
    "            df = df.drop(columns=['<TIME>'])\n",
    "\n",
    "            # Keep only the last 1000 values\n",
    "            df = df.tail(1000)\n",
    "\n",
    "            dataframes[df_name] = df\n",
    "    return dataframes\n",
    "\n",
    "data_M5 = 'data/Historical_Data/5M'\n",
    "dataframes_M5 = import_historical_dataframes_from_folder(data_M5)"
   ]
  },
  {
   "cell_type": "code",
   "execution_count": 32,
   "id": "a18e37c9-033f-4b1a-bd72-5cf1531e985b",
   "metadata": {
    "tags": []
   },
   "outputs": [],
   "source": [
    "def import_validation_dataframes_from_folder(folder_path):\n",
    "    \"\"\"\n",
    "    Imports all CSV files from a folder with separator='\\t' and returns a dictionary of dataframes.\n",
    "\n",
    "    Parameters:\n",
    "    folder_path (str): The path to the folder containing the CSV files.\n",
    "\n",
    "    Returns:\n",
    "    dict: A dictionary mapping CSV file names to their corresponding dataframes.\n",
    "    \"\"\"\n",
    "    dataframes = {}\n",
    "    for filename in os.listdir(folder_path):\n",
    "        if filename.endswith('.csv'):\n",
    "            filepath = os.path.join(folder_path, filename)\n",
    "            df_name = filename[:-4]  # remove .csv extension from filename\n",
    "            df = pd.read_csv(filepath, sep='\\t')\n",
    "            df = df.rename(columns = {'<DATE>':'Date','<OPEN>':'open', '<HIGH>':'high', '<LOW>':'low', '<CLOSE>':'close','<TICKVOL>':'tickvol','<VOL>':'volume','<SPREAD>':'spread'})\n",
    "            df = df.drop(columns=['<TIME>'])\n",
    "            dataframes[df_name] = df\n",
    "    return dataframes\n",
    "\n",
    "validation_data_M5 = 'data/Validation_Data/5M'\n",
    "validation_dataframes_M5 = import_validation_dataframes_from_folder(validation_data_M5)"
   ]
  },
  {
   "cell_type": "code",
   "execution_count": 33,
   "id": "0bed4065-8912-4c1e-ba1d-b1885468603c",
   "metadata": {
    "tags": []
   },
   "outputs": [
    {
     "name": "stdout",
     "output_type": "stream",
     "text": [
      "dict_keys(['EURCHF_M5_202301020005_202304141530', 'EURGBP_M5_202301020005_202304141530', 'EURJPY_M5_202301020005_202304141530', 'EURUSD_M5_202301020005_202304141530', 'GBPCHF_M5_202301020155_202304141530', 'GBPJPY_M5_202301020010_202304141530', 'GBPUSD_M5_202301020005_202304141530', 'USDCHF_M5_202301020010_202304141530', 'USDJPY_M5_202301020005_202304141530'])\n"
     ]
    }
   ],
   "source": [
    "print(dataframes_M5.keys())"
   ]
  },
  {
   "cell_type": "code",
   "execution_count": 34,
   "id": "54c9f8d8-97b1-4a29-afc0-a4d4af244a19",
   "metadata": {
    "tags": []
   },
   "outputs": [
    {
     "name": "stdout",
     "output_type": "stream",
     "text": [
      "dict_keys(['EURCHF_M5_202304141535_202304242355', 'EURGBP_M5_202304141535_202304242355', 'EURJPY_M5_202304141535_202304242355', 'EURUSD_M5_202304141535_202304242355', 'GBPCHF_M5_202304141535_202304242355', 'GBPJPY_M5_202304141535_202304242355', 'GBPUSD_M5_202304141535_202304242355', 'USDCHF_M5_202304141535_202304242355', 'USDJPY_M5_202304141535_202304242355'])\n"
     ]
    }
   ],
   "source": [
    "print(validation_dataframes_M5.keys())"
   ]
  },
  {
   "cell_type": "code",
   "execution_count": 35,
   "id": "6fed3fb9-0313-4071-9654-dea86ea85e69",
   "metadata": {
    "tags": []
   },
   "outputs": [],
   "source": [
    "import warnings\n",
    "warnings.filterwarnings('ignore')\n",
    "\n",
    "data_EURCHF = dataframes_M5['EURCHF_M5_202301020005_202304141530']\n",
    "data_EURGBP = dataframes_M5['EURGBP_M5_202301020005_202304141530']\n",
    "data_EURJPY = dataframes_M5['EURJPY_M5_202301020005_202304141530']\n",
    "data_EURUSD = dataframes_M5['EURUSD_M5_202301020005_202304141530']\n",
    "data_GBPCHF = dataframes_M5['GBPCHF_M5_202301020155_202304141530']\n",
    "data_GBPJPY = dataframes_M5['GBPJPY_M5_202301020010_202304141530']\n",
    "data_GBPUSD = dataframes_M5['GBPUSD_M5_202301020005_202304141530']\n",
    "data_USDCHF = dataframes_M5['USDCHF_M5_202301020010_202304141530']\n",
    "data_USDJPY = dataframes_M5['USDJPY_M5_202301020005_202304141530']\n",
    "\n",
    "ta_data_EURCHF = ta.TA_APPLICATION(data_EURCHF)\n",
    "ta_data_EURGBP = ta.TA_APPLICATION(data_EURGBP)\n",
    "ta_data_EURJPY = ta.TA_APPLICATION(data_EURJPY)\n",
    "ta_data_EURUSD = ta.TA_APPLICATION(data_EURUSD)\n",
    "ta_data_GBPCHF = ta.TA_APPLICATION(data_GBPCHF)\n",
    "ta_data_GBPJPY = ta.TA_APPLICATION(data_GBPJPY)\n",
    "ta_data_GBPUSD = ta.TA_APPLICATION(data_GBPUSD)\n",
    "ta_data_USDCHF = ta.TA_APPLICATION(data_USDCHF)\n",
    "ta_data_USDJPY = ta.TA_APPLICATION(data_USDJPY)"
   ]
  },
  {
   "cell_type": "code",
   "execution_count": 36,
   "id": "dab9395a-cced-4e00-bb32-1da92f2d4f2a",
   "metadata": {
    "tags": []
   },
   "outputs": [],
   "source": [
    "def import_historical_dataframes_from_folder(folder_path):\n",
    "    \"\"\"\n",
    "    Imports all CSV files from a folder with separator='\\t' and returns a dictionary of dataframes.\n",
    "\n",
    "    Parameters:\n",
    "    folder_path (str): The path to the folder containing the CSV files.\n",
    "\n",
    "    Returns:\n",
    "    dict: A dictionary mapping CSV file names to their corresponding dataframes.\n",
    "    \"\"\"\n",
    "    dataframes = {}\n",
    "    for filename in os.listdir(folder_path):\n",
    "        if filename.endswith('.csv'):\n",
    "            filepath = os.path.join(folder_path, filename)\n",
    "            df_name = filename[:-4]  # remove .csv extension from filename\n",
    "            df = pd.read_csv(filepath, sep='\\t')\n",
    "            df = df.rename(columns = {'<DATE>':'Date','<OPEN>':'open', '<HIGH>':'high', '<LOW>':'low', '<CLOSE>':'close','<TICKVOL>':'tickvol','<VOL>':'volume','<SPREAD>':'spread'})\n",
    "            df = df.drop(columns=['<TIME>'])\n",
    "\n",
    "            # Keep only the last 1000 values\n",
    "            df = df.tail(1000)\n",
    "\n",
    "            dataframes[df_name] = df\n",
    "    return dataframes\n",
    "\n",
    "data_M5 = 'data/Historical_Data/5M'\n",
    "dataframes_M5 = import_historical_dataframes_from_folder(data_M5)"
   ]
  },
  {
   "cell_type": "code",
   "execution_count": 37,
   "id": "6f9be9c3-e540-42bc-a413-3922bbe96878",
   "metadata": {},
   "outputs": [
    {
     "name": "stdout",
     "output_type": "stream",
     "text": [
      "dict_keys(['EURCHF_M5_202301020005_202304141530', 'EURGBP_M5_202301020005_202304141530', 'EURJPY_M5_202301020005_202304141530', 'EURUSD_M5_202301020005_202304141530', 'GBPCHF_M5_202301020155_202304141530', 'GBPJPY_M5_202301020010_202304141530', 'GBPUSD_M5_202301020005_202304141530', 'USDCHF_M5_202301020010_202304141530', 'USDJPY_M5_202301020005_202304141530'])\n"
     ]
    }
   ],
   "source": [
    "print(dataframes_M5.keys())"
   ]
  },
  {
   "cell_type": "code",
   "execution_count": 38,
   "id": "757ffe01-0ce5-4fc3-8d8e-5ae2f4b096a7",
   "metadata": {
    "tags": []
   },
   "outputs": [],
   "source": [
    "def preprocess_dataframe(data):\n",
    "    data['open_wave'], data['high_wave'], data['low_wave'], data['close_wave'] = denoise.denoising([data['open'], data['high'], data['low'], data['close']])\n",
    "    data = data[['open_wave', 'high_wave', 'low_wave', 'close_wave', 'tickvol', 'volume', 'spread']]\n",
    "    data = ta.TA_WAVE_APPLICATION(data)\n",
    "    return data\n",
    "\n",
    "ta_denoised_data_EURCHF = preprocess_dataframe(dataframes_M5['EURCHF_M5_202301020005_202304141530'])\n",
    "ta_denoised_data_EURGBP = preprocess_dataframe(dataframes_M5['EURGBP_M5_202301020005_202304141530'])\n",
    "ta_denoised_data_EURJPY = preprocess_dataframe(dataframes_M5['EURJPY_M5_202301020005_202304141530'])\n",
    "ta_denoised_data_EURUSD = preprocess_dataframe(dataframes_M5['EURUSD_M5_202301020005_202304141530'])\n",
    "ta_denoised_data_GBPCHF = preprocess_dataframe(dataframes_M5['GBPCHF_M5_202301020155_202304141530'])\n",
    "ta_denoised_data_GBPJPY = preprocess_dataframe(dataframes_M5['GBPJPY_M5_202301020010_202304141530'])\n",
    "ta_denoised_data_GBPUSD = preprocess_dataframe(dataframes_M5['GBPUSD_M5_202301020005_202304141530'])\n",
    "ta_denoised_data_USDCHF = preprocess_dataframe(dataframes_M5['USDCHF_M5_202301020010_202304141530'])\n",
    "ta_denoised_data_USDJPY = preprocess_dataframe(dataframes_M5['USDJPY_M5_202301020005_202304141530'])\n",
    "\n",
    "ta_denoised_data_EURCHF = ta.TA_WAVE_APPLICATION(ta_denoised_data_EURCHF)\n",
    "ta_denoised_data_EURGBP = ta.TA_WAVE_APPLICATION(ta_denoised_data_EURGBP)\n",
    "ta_denoised_data_EURJPY = ta.TA_WAVE_APPLICATION(ta_denoised_data_EURJPY)\n",
    "ta_denoised_data_EURUSD = ta.TA_WAVE_APPLICATION(ta_denoised_data_EURUSD)\n",
    "ta_denoised_data_GBPCHF = ta.TA_WAVE_APPLICATION(ta_denoised_data_GBPCHF)\n",
    "ta_denoised_data_GBPJPY = ta.TA_WAVE_APPLICATION(ta_denoised_data_GBPJPY)\n",
    "ta_denoised_data_GBPUSD = ta.TA_WAVE_APPLICATION(ta_denoised_data_GBPUSD)\n",
    "ta_denoised_data_USDCHF = ta.TA_WAVE_APPLICATION(ta_denoised_data_USDCHF)\n",
    "ta_denoised_data_USDJPY = ta.TA_WAVE_APPLICATION(ta_denoised_data_USDJPY)"
   ]
  },
  {
   "cell_type": "code",
   "execution_count": 39,
   "id": "f22bb2f3-5b56-4378-acfc-be6f31ab3237",
   "metadata": {
    "tags": []
   },
   "outputs": [
    {
     "name": "stdout",
     "output_type": "stream",
     "text": [
      "Market volatility EURCHF:  0.00021875373995497644\n"
     ]
    }
   ],
   "source": [
    "data_EURCHF['price_change'] = data_EURCHF['close'].diff()\n",
    "volatility = np.std(data_EURCHF['price_change'])\n",
    "print(\"Market volatility EURCHF: \", volatility)"
   ]
  },
  {
   "cell_type": "code",
   "execution_count": 40,
   "id": "71886ecd-7113-49ac-ae68-5a440caea54a",
   "metadata": {
    "tags": []
   },
   "outputs": [
    {
     "name": "stdout",
     "output_type": "stream",
     "text": [
      "Market volatility EURGBP:  0.00016393994612529632\n"
     ]
    }
   ],
   "source": [
    "data_EURGBP['price_change'] = data_EURGBP['close'].diff()\n",
    "volatility = np.std(data_EURGBP['price_change'])\n",
    "print(\"Market volatility EURGBP: \", volatility)"
   ]
  },
  {
   "cell_type": "code",
   "execution_count": 41,
   "id": "fbce59a6-9146-4b14-a968-b25fa967c62e",
   "metadata": {
    "tags": []
   },
   "outputs": [
    {
     "name": "stdout",
     "output_type": "stream",
     "text": [
      "Market volatility EURJPY:  0.043877299433690314\n"
     ]
    }
   ],
   "source": [
    "data_EURJPY['price_change'] = data_EURJPY['close'].diff()\n",
    "volatility = np.std(data_EURJPY['price_change'])\n",
    "print(\"Market volatility EURJPY: \", volatility)"
   ]
  },
  {
   "cell_type": "code",
   "execution_count": 42,
   "id": "a8261104-bb4d-434e-975a-ebfc33fb10e4",
   "metadata": {
    "tags": []
   },
   "outputs": [
    {
     "name": "stdout",
     "output_type": "stream",
     "text": [
      "Market volatility EURUSD:  0.00033927659498881696\n"
     ]
    }
   ],
   "source": [
    "data_EURUSD['price_change'] = data_EURUSD['close'].diff()\n",
    "volatility = np.std(data_EURUSD['price_change'])\n",
    "print(\"Market volatility EURUSD: \", volatility)"
   ]
  },
  {
   "cell_type": "code",
   "execution_count": 43,
   "id": "b49ccca6-bcc9-4d9c-b888-0328c9c64ec1",
   "metadata": {
    "tags": []
   },
   "outputs": [
    {
     "name": "stdout",
     "output_type": "stream",
     "text": [
      "Market volatility GBPCHF:  0.00028852852783397\n"
     ]
    }
   ],
   "source": [
    "data_GBPCHF['price_change'] = data_GBPCHF['close'].diff()\n",
    "volatility = np.std(data_GBPCHF['price_change'])\n",
    "print(\"Market volatility GBPCHF: \", volatility)"
   ]
  },
  {
   "cell_type": "code",
   "execution_count": 44,
   "id": "74bfe869-7f58-42bd-8b5e-ff3e9932d77d",
   "metadata": {
    "tags": []
   },
   "outputs": [
    {
     "name": "stdout",
     "output_type": "stream",
     "text": [
      "Market volatility GBPJPY:  0.05157738738587033\n"
     ]
    }
   ],
   "source": [
    "data_GBPJPY['price_change'] = data_GBPJPY['close'].diff()\n",
    "volatility = np.std(data_GBPJPY['price_change'])\n",
    "print(\"Market volatility GBPJPY: \", volatility)"
   ]
  },
  {
   "cell_type": "code",
   "execution_count": 45,
   "id": "a6ec87c0-af9c-4c3a-9ac6-9f9b490f0ebf",
   "metadata": {
    "tags": []
   },
   "outputs": [
    {
     "name": "stdout",
     "output_type": "stream",
     "text": [
      "Market volatility GBPUSD:  0.0003978636458208401\n"
     ]
    }
   ],
   "source": [
    "data_GBPUSD['price_change'] = data_GBPUSD['close'].diff()\n",
    "volatility = np.std(data_GBPUSD['price_change'])\n",
    "print(\"Market volatility GBPUSD: \", volatility)"
   ]
  },
  {
   "cell_type": "code",
   "execution_count": 46,
   "id": "d1c8d85c-af28-4980-917c-e0269e3f3e6b",
   "metadata": {
    "tags": []
   },
   "outputs": [
    {
     "name": "stdout",
     "output_type": "stream",
     "text": [
      "Market volatility USDCHF:  0.00029458164558145866\n"
     ]
    }
   ],
   "source": [
    "data_USDCHF['price_change'] = data_USDCHF['close'].diff()\n",
    "volatility = np.std(data_USDCHF['price_change'])\n",
    "print(\"Market volatility USDCHF: \", volatility)"
   ]
  },
  {
   "cell_type": "code",
   "execution_count": 47,
   "id": "8240c4b7-e6c5-4859-9e08-8051803a8951",
   "metadata": {
    "tags": []
   },
   "outputs": [
    {
     "name": "stdout",
     "output_type": "stream",
     "text": [
      "Market volatility USDJPY:  0.051424930884829766\n"
     ]
    }
   ],
   "source": [
    "data_USDJPY['price_change'] = data_USDJPY['close'].diff()\n",
    "volatility = np.std(data_USDJPY['price_change'])\n",
    "print(\"Market volatility USDJPY: \", volatility)"
   ]
  },
  {
   "cell_type": "markdown",
   "id": "fed5c0d2-8f0a-407c-802a-5e4e83fbbfef",
   "metadata": {
    "tags": []
   },
   "source": [
    "**PREDICTION USING PURE DATASET**"
   ]
  },
  {
   "cell_type": "code",
   "execution_count": 58,
   "id": "40655a04-86d6-4d9e-a159-8194d7af546b",
   "metadata": {
    "tags": []
   },
   "outputs": [],
   "source": [
    "from keras.layers import SimpleRNN, Dense, Dropout, GRU, Conv1D, Flatten, MaxPooling1D, Input\n",
    "from keras.models import Model\n",
    "from keras.optimizers import Adam\n",
    "from keras.models import Sequential\n",
    "from keras.layers import LSTM, Dense, Dropout, BatchNormalization\n",
    "from keras.callbacks import EarlyStopping\n",
    "\n",
    "from keras.layers import SimpleRNN, Dense, Dropout, GRU, Conv1D, Flatten, MaxPooling1D, Input\n",
    "from keras.models import Model\n",
    "from keras.optimizers import Adam\n",
    "from keras.models import Sequential\n",
    "from keras.layers import LSTM, Dense, Dropout, BatchNormalization\n",
    "\n",
    "# Define the LSTM model\n",
    "def create_forex_lstm_model(input_shape, output_units, hidden_layers, units, dropout_rate):\n",
    "    model = Sequential()\n",
    "    \n",
    "    # Input layer with Batch Normalization\n",
    "    model.add(LSTM(units, return_sequences=True, input_shape=input_shape))\n",
    "    model.add(BatchNormalization())\n",
    "    model.add(Dropout(dropout_rate))\n",
    "    \n",
    "    # Hidden layers with Batch Normalization\n",
    "    for _ in range(hidden_layers - 1):\n",
    "        model.add(LSTM(units, return_sequences=True))\n",
    "        model.add(BatchNormalization())\n",
    "        model.add(Dropout(dropout_rate))\n",
    "    \n",
    "    # Final hidden layer with Batch Normalization\n",
    "    model.add(LSTM(units))\n",
    "    model.add(BatchNormalization())\n",
    "    model.add(Dropout(dropout_rate))\n",
    "    \n",
    "    # Output layer\n",
    "    model.add(Dense(output_units))\n",
    "    \n",
    "    model.compile(optimizer='adam', loss='mse')\n",
    "    return model\n",
    "\n",
    "def create_rnn_model(input_shape, output_units, hidden_layers, units, dropout_rate):\n",
    "    model = Sequential()\n",
    "    model.add(SimpleRNN(units, return_sequences=True, input_shape=input_shape))\n",
    "    model.add(BatchNormalization())\n",
    "    model.add(Dropout(dropout_rate))\n",
    "    \n",
    "    for _ in range(hidden_layers - 1):\n",
    "        model.add(SimpleRNN(units, return_sequences=True))\n",
    "        model.add(BatchNormalization())\n",
    "        model.add(Dropout(dropout_rate))\n",
    "        \n",
    "    model.add(SimpleRNN(units))\n",
    "    model.add(BatchNormalization())\n",
    "    model.add(Dropout(dropout_rate))\n",
    "    model.add(Dense(output_units))\n",
    "    \n",
    "    model.compile(optimizer='adam', loss='mse')\n",
    "    return model\n",
    "\n",
    "def create_gru_model(input_shape, output_units, hidden_layers, units, dropout_rate):\n",
    "    model = Sequential()\n",
    "    model.add(GRU(units, return_sequences=True, input_shape=input_shape))\n",
    "    model.add(Dropout(dropout_rate))\n",
    "    \n",
    "    for _ in range(hidden_layers - 1):\n",
    "        model.add(GRU(units, return_sequences=True))\n",
    "        model.add(Dropout(dropout_rate))\n",
    "        \n",
    "    model.add(GRU(units))\n",
    "    model.add(Dropout(dropout_rate))\n",
    "    model.add(Dense(output_units))\n",
    "    \n",
    "    model.compile(optimizer='adam', loss='mse')\n",
    "    return model\n",
    "\n",
    "def create_ffnn_model(input_shape, output_units, hidden_layers, units, dropout_rate):\n",
    "    model = Sequential()\n",
    "    model.add(Flatten(input_shape=input_shape))\n",
    "    \n",
    "    for _ in range(hidden_layers):\n",
    "        model.add(Dense(units))\n",
    "        model.add(Dropout(dropout_rate))\n",
    "        \n",
    "    model.add(Dense(output_units))\n",
    "    \n",
    "    model.compile(optimizer='adam', loss='mse')\n",
    "    return model\n",
    "\n",
    "def create_hybrid_model(input_shape, output_units, model_types, units, dropout_rate):\n",
    "    model = Sequential()\n",
    "\n",
    "    model_constructors = {\n",
    "        \"LSTM\": LSTM,\n",
    "        \"RNN\": SimpleRNN,\n",
    "        \"GRU\": GRU,\n",
    "    }\n",
    "\n",
    "    for i, model_type in enumerate(model_types):\n",
    "        if model_type in model_constructors:\n",
    "            if i == 0:\n",
    "                model.add(model_constructors[model_type](units, return_sequences=True, input_shape=input_shape))\n",
    "            else:\n",
    "                model.add(model_constructors[model_type](units, return_sequences=True))\n",
    "\n",
    "        elif model_type == \"FFNN\":\n",
    "            if i == 0:\n",
    "                model.add(Flatten(input_shape=input_shape))\n",
    "                model.add(Dense(units))\n",
    "            else:\n",
    "                model.add(Dense(units))\n",
    "        else:\n",
    "            raise ValueError(\"Invalid model type: \", model_type)\n",
    "            \n",
    "        model.add(Dropout(dropout_rate))\n",
    "\n",
    "    if model_types[-1] in model_constructors:\n",
    "        model.add(model_constructors[model_types[-1]](units, return_sequences=True))\n",
    "    \n",
    "    model.add(Flatten())\n",
    "    model.add(Dropout(dropout_rate))\n",
    "    model.add(Dense(output_units))\n",
    "\n",
    "    model.compile(optimizer='adam', loss='mse')\n",
    "    return model"
   ]
  },
  {
   "cell_type": "markdown",
   "id": "e25d839d-fd06-4204-b901-263be6694bbb",
   "metadata": {},
   "source": [
    "**Initizalize Neural Networks**"
   ]
  },
  {
   "cell_type": "code",
   "execution_count": 263,
   "id": "102ccec5-858f-4b3d-89e3-80a58937c41d",
   "metadata": {
    "tags": []
   },
   "outputs": [],
   "source": [
    "# Create and train the RNN model\n",
    "\n",
    "model = create_rnn_model(input_shape=(X_train.shape[1], len(feature_columns)), output_units=future_days, hidden_layers=1 , units=50, dropout_rate=0.01)\n",
    "\n",
    "\n",
    "# model = create_rnn_model(input_shape=(X_train.shape[1], len(feature_columns)), output_units=future_days, hidden_layers=2 , units=50, dropout_rate=0.01)\n",
    "# model = create_rnn_model(input_shape=(X_train.shape[1], len(feature_columns)), output_units=future_days, hidden_layers=1 , units=50, dropout_rate=0.1)\n",
    "# model = create_rnn_model(input_shape=(X_train.shape[1], len(feature_columns)), output_units=future_days, hidden_layers=2 , units=50, dropout_rate=0.2)\n",
    "# model = create_rnn_model(input_shape=(X_train.shape[1], len(feature_columns)), output_units=future_days, hidden_layers=1 , units=50, dropout_rate=0.3)\n",
    "\n",
    "# model = create_rnn_model(input_shape=(X_train.shape[1], len(feature_columns)), output_units=future_days, hidden_layers=1 , units=100, dropout_rate=0.001)\n",
    "# model = create_rnn_model(input_shape=(X_train.shape[1], len(feature_columns)), output_units=future_days, hidden_layers=2 , units=100, dropout_rate=0.01)\n",
    "# model = create_rnn_model(input_shape=(X_train.shape[1], len(feature_columns)), output_units=future_days, hidden_layers=1 , units=100, dropout_rate=0.1)\n",
    "# model = create_rnn_model(input_shape=(X_train.shape[1], len(feature_columns)), output_units=future_days, hidden_layers=2 , units=100, dropout_rate=0.2)\n",
    "# model = create_rnn_model(input_shape=(X_train.shape[1], len(feature_columns)), output_units=future_days, hidden_layers=1 , units=100, dropout_rate=0.3)\n",
    "\n",
    "# # # Create and train the LSTM model\n",
    "# model = create_LSTM_model(input_shape=(X_train.shape[1], len(feature_columns)), output_units=future_days, hidden_layers=1 , units=50, dropout_rate=0.001)\n",
    "# model = create_LSTM_model(input_shape=(X_train.shape[1], len(feature_columns)), output_units=future_days, hidden_layers=2 , units=50, dropout_rate=0.01)\n",
    "# model = create_LSTM_model(input_shape=(X_train.shape[1], len(feature_columns)), output_units=future_days, hidden_layers=1 , units=50, dropout_rate=0.1)\n",
    "# model = create_LSTM_model(input_shape=(X_train.shape[1], len(feature_columns)), output_units=future_days, hidden_layers=2 , units=50, dropout_rate=0.2)\n",
    "# model = create_LSTM_model(input_shape=(X_train.shape[1], len(feature_columns)), output_units=future_days, hidden_layers=1 , units=50, dropout_rate=0.3)\n",
    "\n",
    "model = create_forex_lstm_model(input_shape=(X_train.shape[1], len(feature_columns)), output_units=future_days, hidden_layers=1 , units=100, dropout_rate=0.3)\n",
    "\n",
    "# model = create_LSTM_model(input_shape=(X_train.shape[1], len(feature_columns)), output_units=future_days, hidden_layers=1 , units=100, dropout_rate=0.001)\n",
    "# model = create_LSTM_model(input_shape=(X_train.shape[1], len(feature_columns)), output_units=future_days, hidden_layers=2 , units=100, dropout_rate=0.01)\n",
    "# model = create_LSTM_model(input_shape=(X_train.shape[1], len(feature_columns)), output_units=future_days, hidden_layers=1 , units=100, dropout_rate=0.1)\n",
    "# model = create_LSTM_model(input_shape=(X_train.shape[1], len(feature_columns)), output_units=future_days, hidden_layers=2 , units=100, dropout_rate=0.2)\n",
    "# model = create_LSTM_model(input_shape=(X_train.shape[1], len(feature_columns)), output_units=future_days, hidden_layers=1 , units=100, dropout_rate=0.3)\n",
    "\n",
    "# # Create and train the GRU model\n",
    "# model = create_gru_model(input_shape=(X_train.shape[1], len(feature_columns)), output_units=future_days, hidden_layers=1 , units=50, dropout_rate=0.001)\n",
    "# model = create_gru_model(input_shape=(X_train.shape[1], len(feature_columns)), output_units=future_days, hidden_layers=2 , units=50, dropout_rate=0.01)\n",
    "# model = create_gru_model(input_shape=(X_train.shape[1], len(feature_columns)), output_units=future_days, hidden_layers=1 , units=50, dropout_rate=0.1)\n",
    "# model = create_gru_model(input_shape=(X_train.shape[1], len(feature_columns)), output_units=future_days, hidden_layers=2 , units=50, dropout_rate=0.2)\n",
    "# model = create_gru_model(input_shape=(X_train.shape[1], len(feature_columns)), output_units=future_days, hidden_layers=1 , units=50, dropout_rate=0.3)\n",
    "\n",
    "# model = create_gru_model(input_shape=(X_train.shape[1], len(feature_columns)), output_units=future_days, hidden_layers=1 , units=100, dropout_rate=0.001)\n",
    "# model = create_gru_model(input_shape=(X_train.shape[1], len(feature_columns)), output_units=future_days, hidden_layers=2 , units=100, dropout_rate=0.01)\n",
    "# model = create_gru_model(input_shape=(X_train.shape[1], len(feature_columns)), output_units=future_days, hidden_layers=1 , units=100, dropout_rate=0.1)\n",
    "# model = create_gru_model(input_shape=(X_train.shape[1], len(feature_columns)), output_units=future_days, hidden_layers=2 , units=100, dropout_rate=0.2)\n",
    "\n",
    "\n",
    "\n",
    "# model = create_gru_model(input_shape=(X_train.shape[1], len(feature_columns)), output_units=future_days, hidden_layers=1 , units=100, dropout_rate=0.3)\n",
    "\n",
    "# # Create and train the Hybrid model\n",
    "\n",
    "# Best score: -0.396758 with params: {'batch_size': 16, 'dropout_rate': 0.3, 'epochs': 20, 'hidden_layers': 1, 'model_type': 'LSTM', 'units': 100}\n",
    "# Best score: -0.496311 with params: {'batch_size': 16, 'dropout_rate': 0.01, 'epochs': 20, 'hidden_layers': 1, 'model_type': 'RNN', 'units': 50}\n",
    "# Best score: -0.110193 with params: {'batch_size': 32, 'dropout_rate': 0.3, 'epochs': 20, 'hidden_layers': 1, 'model_type': 'GRU', 'units': 100}\n",
    "\n",
    "\n",
    "\n",
    "# model = create_hybrid_model(input_shape=(X_train.shape[1], len(feature_columns)), output_units=future_days, model_types=[\"FFNN\", \"LSTM\"], units=100, dropout_rate=0.01)"
   ]
  },
  {
   "cell_type": "markdown",
   "id": "679f5174-d009-4d8b-a992-38d6dc6349f2",
   "metadata": {},
   "source": [
    "**EURCHF_M5**"
   ]
  },
  {
   "cell_type": "code",
   "execution_count": 264,
   "id": "198df910-8ca4-44bb-996c-54e6df7b75ff",
   "metadata": {},
   "outputs": [
    {
     "name": "stdout",
     "output_type": "stream",
     "text": [
      "False\n",
      "Target variable: close_wave\n",
      "Selected features:\n",
      "open_wave\n",
      "high_wave\n",
      "low_wave\n",
      "close_wave\n",
      "KAMA\n",
      "bb_bbm\n",
      "bb_bbh\n",
      "bb_bbl\n",
      "EMA\n",
      "SMA13\n",
      "SMA21\n",
      "SMA34\n"
     ]
    }
   ],
   "source": [
    "import numpy as np\n",
    "import pandas as pd\n",
    "import matplotlib.pyplot as plt\n",
    "from sklearn.preprocessing import StandardScaler\n",
    "from sklearn.impute import SimpleImputer\n",
    "from sklearn.metrics import mean_squared_error\n",
    "from keras.models import Sequential\n",
    "from keras.layers import LSTM, Dense, Dropout\n",
    "\n",
    "# data = ta_data_EURCHF\n",
    "# Uncomment for Prediction using Denoised OHLC + TA values \n",
    "data = ta_denoised_data_EURCHF\n",
    "\n",
    "# Window size for tuning\n",
    "window_size = 28\n",
    "# Number of future days to predict\n",
    "future_days = 7\n",
    "\n",
    "# Set up window for rolling data\n",
    "def window_data(data, window, feature_col_numbers, target_col_number):\n",
    "    X = []\n",
    "    y = []\n",
    "    for i in range(len(data) - window - future_days):\n",
    "        features = data.iloc[i:(i + window), feature_col_numbers]\n",
    "        target = data.iloc[(i + window):(i + window + future_days), target_col_number]\n",
    "        X.append(features)\n",
    "        y.append(target)\n",
    "    return np.array(X), np.array(y).reshape(-1, future_days)\n",
    "\n",
    "# Features with high correlation for pure data\n",
    "# feature_columns = [1,2,3,4,9,28,29,30,33,37,38,39]\n",
    "\n",
    "# Features with high correlation for Wavelet Denoised data\n",
    "feature_columns = [0,1,2,3,8,27,28,29,32,36,37,38]\n",
    "\n",
    "# target_column = 4 # Close value\n",
    "\n",
    "target_column = 3 # Close value for Denoised Data\n",
    "\n",
    "# Prepare the input and output arrays for the LSTM model\n",
    "X, y = window_data(data, window_size, feature_columns, target_column)\n",
    "\n",
    "# Scale the data using StandardScaler (Z-score normalization)\n",
    "scaler = StandardScaler()\n",
    "X = X.reshape(X.shape[0], -1)\n",
    "X = scaler.fit_transform(X)\n",
    "X = X.reshape(X.shape[0], window_size, len(feature_columns))\n",
    "\n",
    "# # Scale the data using MinMaxScaler\n",
    "# scaler = MinMaxScaler()\n",
    "# X = X.reshape(X.shape[0], -1)\n",
    "# X = scaler.fit_transform(X)\n",
    "# X = X.reshape(X.shape[0], window_size, len(feature_columns))\n",
    "\n",
    "scaler.fit(y)\n",
    "y = scaler.transform(y)\n",
    "\n",
    "# Split the data into training and testing sets\n",
    "split = int(0.8 * len(X))\n",
    "X_train = X[:split]\n",
    "X_test = X[split:]\n",
    "y_train = y[:split]\n",
    "y_test = y[split:]\n",
    "\n",
    "def impute_missing_values(X):\n",
    "    for i in range(X.shape[2]):\n",
    "        feature_values = X[:, :, i].flatten()\n",
    "        feature_mean = np.nanmean(feature_values)\n",
    "        feature_isnan = np.isnan(X[:, :, i])\n",
    "        X[:, :, i][feature_isnan] = feature_mean\n",
    "    return X\n",
    "\n",
    "X_train = impute_missing_values(X_train)\n",
    "X_test = impute_missing_values(X_test)\n",
    "\n",
    "print(np.isnan(X_train).any())\n",
    "\n",
    "print(f\"Target variable: {data.columns[target_column]}\")\n",
    "print(\"Selected features:\")\n",
    "for col in feature_columns:\n",
    "    print(data.columns[col])"
   ]
  },
  {
   "cell_type": "code",
   "execution_count": 265,
   "id": "8856a46a-148d-4e9a-ba9a-5eb14302e66c",
   "metadata": {},
   "outputs": [
    {
     "name": "stdout",
     "output_type": "stream",
     "text": [
      "Epoch 1/50\n",
      "49/49 [==============================] - 5s 34ms/step - loss: 1.2023 - val_loss: 0.9203\n",
      "Epoch 2/50\n",
      "49/49 [==============================] - 1s 19ms/step - loss: 0.8587 - val_loss: 0.8347\n",
      "Epoch 3/50\n",
      "49/49 [==============================] - 1s 19ms/step - loss: 0.7603 - val_loss: 0.6135\n",
      "Epoch 4/50\n",
      "49/49 [==============================] - 1s 20ms/step - loss: 0.6691 - val_loss: 0.2431\n",
      "Epoch 5/50\n",
      "49/49 [==============================] - 1s 20ms/step - loss: 0.5817 - val_loss: 0.1791\n",
      "Epoch 6/50\n",
      "49/49 [==============================] - 1s 21ms/step - loss: 0.5288 - val_loss: 0.2226\n",
      "Epoch 7/50\n",
      "49/49 [==============================] - 1s 22ms/step - loss: 0.4532 - val_loss: 0.1276\n",
      "Epoch 8/50\n",
      "49/49 [==============================] - 1s 20ms/step - loss: 0.3967 - val_loss: 0.1279\n",
      "Epoch 9/50\n",
      "49/49 [==============================] - 1s 20ms/step - loss: 0.3671 - val_loss: 0.1409\n",
      "Epoch 10/50\n",
      "49/49 [==============================] - 1s 28ms/step - loss: 0.3173 - val_loss: 0.1601\n",
      "Epoch 11/50\n",
      "49/49 [==============================] - 1s 22ms/step - loss: 0.2952 - val_loss: 0.1502\n",
      "Epoch 12/50\n",
      "49/49 [==============================] - 1s 20ms/step - loss: 0.2700 - val_loss: 0.1521\n"
     ]
    },
    {
     "data": {
      "image/png": "[encoded data removed]",
      "text/plain": [
       "<Figure size 432x288 with 1 Axes>"
      ]
     },
     "metadata": {
      "needs_background": "light"
     },
     "output_type": "display_data"
    },
    {
     "name": "stdout",
     "output_type": "stream",
     "text": [
      "7/7 [==============================] - 1s 8ms/step\n"
     ]
    },
    {
     "data": {
      "image/png": "[encoded data removed]",
      "text/plain": [
       "<Figure size 432x288 with 1 Axes>"
      ]
     },
     "metadata": {
      "needs_background": "light"
     },
     "output_type": "display_data"
    },
    {
     "name": "stdout",
     "output_type": "stream",
     "text": [
      "Day 1: 3.380070091356287e-07\n",
      "Day 2: 3.872687860085924e-07\n",
      "Day 3: 4.25019438597269e-07\n",
      "Day 4: 3.8636253398638284e-07\n",
      "Day 5: 4.662440493371754e-07\n",
      "Day 6: 4.805532105238166e-07\n",
      "Day 7: 6.709624668418094e-07\n",
      "Overall Mean Squared Error: 4.506310706329535e-07\n"
     ]
    }
   ],
   "source": [
    "# Apply early stopping\n",
    "early_stopping = EarlyStopping(monitor='val_loss', patience=5, restore_best_weights=True)\n",
    "\n",
    "history = model.fit(X_train, y_train, epochs=50, batch_size=16, validation_data=(X_test, y_test), callbacks=[early_stopping])\n",
    "\n",
    "# Plot the training and validation loss curves\n",
    "plt.plot(history.history['loss'], 'bo', label='Training loss')\n",
    "plt.plot(history.history['val_loss'], 'b', label='Validation loss')\n",
    "plt.title('Training and Validation loss')\n",
    "plt.xlabel('Epochs')\n",
    "plt.ylabel('Loss')\n",
    "plt.legend()\n",
    "plt.show()\n",
    "\n",
    "# Make predictions using the trained model on the test data\n",
    "predicted = model.predict(X_test)\n",
    "predicted_prices = scaler.inverse_transform(predicted)\n",
    "real_prices = scaler.inverse_transform(y_test)\n",
    "\n",
    "# Calculate the mean squared error for each day\n",
    "mse_by_day = mean_squared_error(real_prices, predicted_prices, multioutput='raw_values')\n",
    "\n",
    "# Create a DataFrame with the real and predicted prices for the first test sample\n",
    "forex = pd.DataFrame({\n",
    "    \"Real\": real_prices[0],\n",
    "    \"Predicted\": predicted_prices[0]\n",
    "})\n",
    "\n",
    "# Plot the real and predicted prices for the first test sample\n",
    "plot = forex.plot.line()\n",
    "plot.set_title(f'Prediction plot for the first test sample')\n",
    "plt.xlabel('Days')\n",
    "plt.ylabel('Price')\n",
    "plt.show()\n",
    "\n",
    "# Print the mean squared error for each day\n",
    "for i, mse in enumerate(mse_by_day):\n",
    "    print(f\"Day {i + 1}: {mse}\")\n",
    "\n",
    "# Calculate and print the overall mean squared error\n",
    "overall_mse = mean_squared_error(real_prices, predicted_prices)\n",
    "print(f\"Overall Mean Squared Error: {overall_mse}\")"
   ]
  },
  {
   "cell_type": "code",
   "execution_count": 266,
   "id": "d8e6d6c0-13f6-486f-b4d2-719ba2f74fd5",
   "metadata": {
    "tags": []
   },
   "outputs": [
    {
     "name": "stdout",
     "output_type": "stream",
     "text": [
      "1/1 [==============================] - 0s 19ms/step\n"
     ]
    },
    {
     "data": {
      "image/png": "[encoded data removed]",
      "text/plain": [
       "<Figure size 432x288 with 1 Axes>"
      ]
     },
     "metadata": {
      "needs_background": "light"
     },
     "output_type": "display_data"
    }
   ],
   "source": [
    "from sklearn.metrics import mean_absolute_error, mean_squared_error, r2_score\n",
    "\n",
    "EURCHF_M5_202304141535_202304242355 = validation_dataframes_M5['EURCHF_M5_202304141535_202304242355']\n",
    "EURCHF_M5_202304141535_202304242355 = EURCHF_M5_202304141535_202304242355.head(7)\n",
    "\n",
    "# Make predictions using the trained model on the last window of historical data\n",
    "last_window = X[-1].reshape(1, window_size, len(feature_columns))\n",
    "predicted_future = model.predict(last_window)\n",
    "predicted_future_prices = scaler.inverse_transform(predicted_future)\n",
    "\n",
    "# Create a DataFrame with the historical data\n",
    "historical_data = data.iloc[:, target_column].values[-window_size:]\n",
    "historical_df = pd.DataFrame({\n",
    "    \"Price\": historical_data,\n",
    "    \"Type\": \"Historical\"\n",
    "})\n",
    "\n",
    "# Create a DataFrame with the predicted future data\n",
    "predicted_data = np.concatenate((historical_data[-1:], predicted_future_prices.ravel()))\n",
    "predicted_df = pd.DataFrame({\n",
    "    \"Price\": predicted_data,\n",
    "    \"Type\": \"Predicted\"\n",
    "}, index=range(len(historical_data) - 1, len(historical_data) + future_days))\n",
    "\n",
    "# Extract validation data from the provided variable\n",
    "validation_data = EURCHF_M5_202304141535_202304242355.iloc[:, target_column].values\n",
    "\n",
    "# Create a DataFrame with the validation data\n",
    "validation_df = pd.DataFrame({\n",
    "    \"Price\": validation_data,\n",
    "    \"Type\": \"Validation\"\n",
    "}, index=range(len(historical_data) - 1, len(historical_data) - 1 + len(validation_data)))\n",
    "\n",
    "# Concatenate historical, predicted, and validation DataFrames\n",
    "historical_predicted_validation = pd.concat([historical_df, predicted_df, validation_df], axis=0)\n",
    "\n",
    "# Plot the historical, predicted, and validation data\n",
    "ax = historical_predicted_validation[historical_predicted_validation['Type'] == 'Historical']['Price'].plot(color='blue', label='Historical')\n",
    "historical_predicted_validation[historical_predicted_validation['Type'] == 'Predicted']['Price'].plot(color='red', label='Predicted', ax=ax)\n",
    "historical_predicted_validation[historical_predicted_validation['Type'] == 'Validation']['Price'].plot(color='green', label='Validation', ax=ax)\n",
    "plt.title('Historical, Predicted, and Validation Prices')\n",
    "plt.xlabel('Days')\n",
    "plt.ylabel('Price')\n",
    "plt.legend()\n",
    "plt.show()"
   ]
  },
  {
   "cell_type": "code",
   "execution_count": 267,
   "id": "4def4fa2-1366-410b-8f12-fb7b5eb77fcd",
   "metadata": {},
   "outputs": [
    {
     "name": "stdout",
     "output_type": "stream",
     "text": [
      "Mean Absolute Error: 0.0004696836267451105\n",
      "Mean Squared Error: 4.506310706329535e-07\n",
      "Root Mean Squared Error: 0.0006712906007333586\n",
      "Mean Absolute Percentage Error: 0.047796010322176126\n",
      "R-squared: 0.05548592081275978\n",
      "Day 1:\n",
      "  Mean Absolute Error (MAE): 0.0006077402114867958\n",
      "  Mean Squared Error (MSE): 3.693481646580153e-07\n",
      "  Root Mean Squared Error (RMSE): 0.0006077402114867958\n",
      "  Mean Absolute Percentage Error (MAPE): 0.06182190239426233\n",
      "Day 2:\n",
      "  Mean Absolute Error (MAE): 0.00048220680236821245\n",
      "  Mean Squared Error (MSE): 2.325234002501763e-07\n",
      "  Root Mean Squared Error (RMSE): 0.00048220680236821245\n",
      "  Mean Absolute Percentage Error (MAPE): 0.049043133587076515\n",
      "Day 3:\n",
      "  Mean Absolute Error (MAE): 0.0004659347343445308\n",
      "  Mean Squared Error (MSE): 2.170951766687085e-07\n",
      "  Root Mean Squared Error (RMSE): 0.0004659347343445308\n",
      "  Mean Absolute Percentage Error (MAPE): 0.04738817309729471\n",
      "Day 4:\n",
      "  Mean Absolute Error (MAE): 0.0005758479690551876\n",
      "  Mean Squared Error (MSE): 3.3160088346498435e-07\n",
      "  Root Mean Squared Error (RMSE): 0.0005758479690551876\n",
      "  Mean Absolute Percentage Error (MAPE): 0.05855922236568374\n",
      "Day 5:\n",
      "  Mean Absolute Error (MAE): 0.0011992190170287964\n",
      "  Mean Squared Error (MSE): 1.4381262508035128e-06\n",
      "  Root Mean Squared Error (RMSE): 0.0011992190170287964\n",
      "  Mean Absolute Percentage Error (MAPE): 0.12189910518904595\n",
      "Day 6:\n",
      "  Mean Absolute Error (MAE): 0.0006650489616394362\n",
      "  Mean Squared Error (MSE): 4.4229012137769224e-07\n",
      "  Root Mean Squared Error (RMSE): 0.0006650489616394362\n",
      "  Mean Absolute Percentage Error (MAPE): 0.06762888828727817\n",
      "Day 7:\n",
      "  Mean Absolute Error (MAE): 0.00016608263015749358\n",
      "  Mean Squared Error (MSE): 2.7583440040030798e-08\n",
      "  Root Mean Squared Error (RMSE): 0.00016608263015749358\n",
      "  Mean Absolute Percentage Error (MAPE): 0.016891018668255965\n"
     ]
    }
   ],
   "source": [
    "from sklearn.metrics import mean_absolute_error, mean_squared_error, r2_score\n",
    "import numpy as np\n",
    "\n",
    "def mean_absolute_percentage_error(y_true, y_pred):\n",
    "    y_true, y_pred = np.array(y_true), np.array(y_pred)\n",
    "    return np.mean(np.abs((y_true - y_pred) / y_true)) * 100\n",
    "\n",
    "# Assuming real_prices and predicted_prices have the correct values\n",
    "mae = mean_absolute_error(real_prices, predicted_prices)\n",
    "mse = mean_squared_error(real_prices, predicted_prices)\n",
    "rmse = np.sqrt(mse)\n",
    "mape = mean_absolute_percentage_error(real_prices, predicted_prices)\n",
    "r2 = r2_score(real_prices, predicted_prices)\n",
    "\n",
    "print(f\"Mean Absolute Error: {mae}\")\n",
    "print(f\"Mean Squared Error: {mse}\")\n",
    "print(f\"Root Mean Squared Error: {rmse}\")\n",
    "print(f\"Mean Absolute Percentage Error: {mape}\")\n",
    "print(f\"R-squared: {r2}\")\n",
    "\n",
    "# Extract the predicted and validation prices for each day\n",
    "predicted_daily_prices = predicted_future_prices[:future_days].reshape(-1, 1)\n",
    "validation_daily_prices = validation_data[:future_days].reshape(-1, 1)\n",
    "\n",
    "# Calculate the metrics for each day\n",
    "for i in range(len(predicted_daily_prices)):\n",
    "    mae = mean_absolute_error(validation_daily_prices[i], predicted_daily_prices[i])\n",
    "    mse = mean_squared_error(validation_daily_prices[i], predicted_daily_prices[i])\n",
    "    rmse = np.sqrt(mse)\n",
    "    mape = mean_absolute_percentage_error(validation_daily_prices[i], predicted_daily_prices[i])\n",
    "\n",
    "    print(f\"Day {i + 1}:\")\n",
    "    print(f\"  Mean Absolute Error (MAE): {mae}\")\n",
    "    print(f\"  Mean Squared Error (MSE): {mse}\")\n",
    "    print(f\"  Root Mean Squared Error (RMSE): {rmse}\")\n",
    "    print(f\"  Mean Absolute Percentage Error (MAPE): {mape}\") \n",
    "    # print(f\"  Accuracy: {accuracy}%\")"
   ]
  },
  {
   "cell_type": "markdown",
   "id": "b8784261-8015-49ec-a341-561e5dd1afc6",
   "metadata": {},
   "source": [
    "**EURGBP_M5**"
   ]
  },
  {
   "cell_type": "code",
   "execution_count": 268,
   "id": "344ce5d1-a927-4201-a68e-99c3a825681c",
   "metadata": {},
   "outputs": [
    {
     "name": "stdout",
     "output_type": "stream",
     "text": [
      "False\n",
      "Target variable: close_wave\n",
      "Selected features:\n",
      "open_wave\n",
      "high_wave\n",
      "low_wave\n",
      "close_wave\n",
      "KAMA\n",
      "bb_bbm\n",
      "bb_bbh\n",
      "bb_bbl\n",
      "EMA\n",
      "SMA13\n",
      "SMA21\n",
      "SMA34\n"
     ]
    }
   ],
   "source": [
    "# data = ta_data_EURGBP\n",
    "# Uncomment for Prediction using Denoised OHLC + TA values \n",
    "data = ta_denoised_data_EURGBP\n",
    "\n",
    "# Window size for tuning\n",
    "window_size = 28\n",
    "# Number of future days to predict\n",
    "future_days = 7\n",
    "\n",
    "# Set up window for rolling data\n",
    "def window_data(data, window, feature_col_numbers, target_col_number):\n",
    "    X = []\n",
    "    y = []\n",
    "    for i in range(len(data) - window - future_days):\n",
    "        features = data.iloc[i:(i + window), feature_col_numbers]\n",
    "        target = data.iloc[(i + window):(i + window + future_days), target_col_number]\n",
    "        X.append(features)\n",
    "        y.append(target)\n",
    "    return np.array(X), np.array(y).reshape(-1, future_days)\n",
    "\n",
    "# Features with high correlation for pure data\n",
    "# feature_columns = [1,2,3,4,9,28,29,30,33,37,38,39]\n",
    "\n",
    "# Features with high correlation for Wavelet Denoised data\n",
    "feature_columns = [0,1,2,3,8,27,28,29,32,36,37,38]\n",
    "\n",
    "# target_column = 4 # Close value\n",
    "\n",
    "target_column = 3 # Close value for Denoised Data\n",
    "\n",
    "# Prepare the input and output arrays for the LSTM model\n",
    "X, y = window_data(data, window_size, feature_columns, target_column)\n",
    "\n",
    "# Scale the data using StandardScaler (Z-score normalization)\n",
    "scaler = StandardScaler()\n",
    "X = X.reshape(X.shape[0], -1)\n",
    "X = scaler.fit_transform(X)\n",
    "X = X.reshape(X.shape[0], window_size, len(feature_columns))\n",
    "\n",
    "# # Scale the data using MinMaxScaler\n",
    "# scaler = MinMaxScaler()\n",
    "# X = X.reshape(X.shape[0], -1)\n",
    "# X = scaler.fit_transform(X)\n",
    "# X = X.reshape(X.shape[0], window_size, len(feature_columns))\n",
    "\n",
    "scaler.fit(y)\n",
    "y = scaler.transform(y)\n",
    "\n",
    "# Split the data into training and testing sets\n",
    "split = int(0.8 * len(X))\n",
    "X_train = X[:split]\n",
    "X_test = X[split:]\n",
    "y_train = y[:split]\n",
    "y_test = y[split:]\n",
    "\n",
    "def impute_missing_values(X):\n",
    "    for i in range(X.shape[2]):\n",
    "        feature_values = X[:, :, i].flatten()\n",
    "        feature_mean = np.nanmean(feature_values)\n",
    "        feature_isnan = np.isnan(X[:, :, i])\n",
    "        X[:, :, i][feature_isnan] = feature_mean\n",
    "    return X\n",
    "\n",
    "X_train = impute_missing_values(X_train)\n",
    "X_test = impute_missing_values(X_test)\n",
    "\n",
    "print(np.isnan(X_train).any())\n",
    "\n",
    "print(f\"Target variable: {data.columns[target_column]}\")\n",
    "print(\"Selected features:\")\n",
    "for col in feature_columns:\n",
    "    print(data.columns[col])"
   ]
  },
  {
   "cell_type": "code",
   "execution_count": 269,
   "id": "f740ac49-620e-40ad-a094-aaec4dd92fdb",
   "metadata": {},
   "outputs": [
    {
     "name": "stdout",
     "output_type": "stream",
     "text": [
      "Epoch 1/50\n",
      "49/49 [==============================] - 1s 20ms/step - loss: 0.6967 - val_loss: 0.4421\n",
      "Epoch 2/50\n",
      "49/49 [==============================] - 1s 19ms/step - loss: 0.4352 - val_loss: 0.2681\n",
      "Epoch 3/50\n",
      "49/49 [==============================] - 1s 19ms/step - loss: 0.3317 - val_loss: 0.2859\n",
      "Epoch 4/50\n",
      "49/49 [==============================] - 1s 19ms/step - loss: 0.2649 - val_loss: 0.3249\n",
      "Epoch 5/50\n",
      "49/49 [==============================] - 1s 19ms/step - loss: 0.2266 - val_loss: 0.3228\n",
      "Epoch 6/50\n",
      "49/49 [==============================] - 1s 19ms/step - loss: 0.2044 - val_loss: 0.3043\n",
      "Epoch 7/50\n",
      "49/49 [==============================] - 1s 19ms/step - loss: 0.1855 - val_loss: 0.3362\n"
     ]
    },
    {
     "data": {
      "image/png": "[encoded data removed]",
      "text/plain": [
       "<Figure size 432x288 with 1 Axes>"
      ]
     },
     "metadata": {
      "needs_background": "light"
     },
     "output_type": "display_data"
    },
    {
     "name": "stdout",
     "output_type": "stream",
     "text": [
      "7/7 [==============================] - 0s 11ms/step\n"
     ]
    },
    {
     "data": {
      "image/png": "[encoded data removed]",
      "text/plain": [
       "<Figure size 432x288 with 1 Axes>"
      ]
     },
     "metadata": {
      "needs_background": "light"
     },
     "output_type": "display_data"
    },
    {
     "name": "stdout",
     "output_type": "stream",
     "text": [
      "Day 1: 1.2003324743710062e-06\n",
      "Day 2: 8.136996250832454e-07\n",
      "Day 3: 4.6994797767804004e-07\n",
      "Day 4: 8.680246108203017e-07\n",
      "Day 5: 5.625510785628043e-07\n",
      "Day 6: 1.0168109671519287e-06\n",
      "Day 7: 1.526019122790479e-06\n",
      "Overall Mean Squared Error: 9.224836937796864e-07\n"
     ]
    }
   ],
   "source": [
    "# Apply early stopping\n",
    "early_stopping = EarlyStopping(monitor='val_loss', patience=5, restore_best_weights=True)\n",
    "\n",
    "history = model.fit(X_train, y_train, epochs=50, batch_size=16, validation_data=(X_test, y_test), callbacks=[early_stopping])\n",
    "\n",
    "# Plot the training and validation loss curves\n",
    "plt.plot(history.history['loss'], 'bo', label='Training loss')\n",
    "plt.plot(history.history['val_loss'], 'b', label='Validation loss')\n",
    "plt.title('Training and Validation loss')\n",
    "plt.xlabel('Epochs')\n",
    "plt.ylabel('Loss')\n",
    "plt.legend()\n",
    "plt.show()\n",
    "\n",
    "# Make predictions using the trained model on the test data\n",
    "predicted = model.predict(X_test)\n",
    "predicted_prices = scaler.inverse_transform(predicted)\n",
    "real_prices = scaler.inverse_transform(y_test)\n",
    "\n",
    "# Calculate the mean squared error for each day\n",
    "mse_by_day = mean_squared_error(real_prices, predicted_prices, multioutput='raw_values')\n",
    "\n",
    "# Create a DataFrame with the real and predicted prices for the first test sample\n",
    "forex = pd.DataFrame({\n",
    "    \"Real\": real_prices[0],\n",
    "    \"Predicted\": predicted_prices[0]\n",
    "})\n",
    "\n",
    "# Plot the real and predicted prices for the first test sample\n",
    "plot = forex.plot.line()\n",
    "plot.set_title(f'Prediction plot for the first test sample')\n",
    "plt.xlabel('Days')\n",
    "plt.ylabel('Price')\n",
    "plt.show()\n",
    "\n",
    "# Print the mean squared error for each day\n",
    "for i, mse in enumerate(mse_by_day):\n",
    "    print(f\"Day {i + 1}: {mse}\")\n",
    "\n",
    "# Calculate and print the overall mean squared error\n",
    "overall_mse = mean_squared_error(real_prices, predicted_prices)\n",
    "print(f\"Overall Mean Squared Error: {overall_mse}\")"
   ]
  },
  {
   "cell_type": "code",
   "execution_count": 270,
   "id": "4f8eb467-4ed8-4f37-be98-4b1decd47770",
   "metadata": {},
   "outputs": [
    {
     "name": "stdout",
     "output_type": "stream",
     "text": [
      "1/1 [==============================] - 0s 21ms/step\n"
     ]
    },
    {
     "data": {
      "image/png": "[encoded data removed]",
      "text/plain": [
       "<Figure size 432x288 with 1 Axes>"
      ]
     },
     "metadata": {
      "needs_background": "light"
     },
     "output_type": "display_data"
    }
   ],
   "source": [
    "from sklearn.metrics import mean_absolute_error, mean_squared_error, r2_score\n",
    "\n",
    "EURGBP_M5_202304141535_202304242355 = validation_dataframes_M5['EURGBP_M5_202304141535_202304242355']\n",
    "EURGBP_M5_202304141535_202304242355 = EURGBP_M5_202304141535_202304242355.head(7)\n",
    "\n",
    "# Make predictions using the trained model on the last window of historical data\n",
    "last_window = X[-1].reshape(1, window_size, len(feature_columns))\n",
    "predicted_future = model.predict(last_window)\n",
    "predicted_future_prices = scaler.inverse_transform(predicted_future)\n",
    "\n",
    "# Create a DataFrame with the historical data\n",
    "historical_data = data.iloc[:, target_column].values[-window_size:]\n",
    "historical_df = pd.DataFrame({\n",
    "    \"Price\": historical_data,\n",
    "    \"Type\": \"Historical\"\n",
    "})\n",
    "\n",
    "# Create a DataFrame with the predicted future data\n",
    "predicted_data = np.concatenate((historical_data[-1:], predicted_future_prices.ravel()))\n",
    "predicted_df = pd.DataFrame({\n",
    "    \"Price\": predicted_data,\n",
    "    \"Type\": \"Predicted\"\n",
    "}, index=range(len(historical_data) - 1, len(historical_data) + future_days))\n",
    "\n",
    "# Extract validation data from the provided variable\n",
    "validation_data = EURGBP_M5_202304141535_202304242355.iloc[:, target_column].values\n",
    "\n",
    "# Create a DataFrame with the validation data\n",
    "validation_df = pd.DataFrame({\n",
    "    \"Price\": validation_data,\n",
    "    \"Type\": \"Validation\"\n",
    "}, index=range(len(historical_data) - 1, len(historical_data) - 1 + len(validation_data)))\n",
    "\n",
    "# Concatenate historical, predicted, and validation DataFrames\n",
    "historical_predicted_validation = pd.concat([historical_df, predicted_df, validation_df], axis=0)\n",
    "\n",
    "# Plot the historical, predicted, and validation data\n",
    "ax = historical_predicted_validation[historical_predicted_validation['Type'] == 'Historical']['Price'].plot(color='blue', label='Historical')\n",
    "historical_predicted_validation[historical_predicted_validation['Type'] == 'Predicted']['Price'].plot(color='red', label='Predicted', ax=ax)\n",
    "historical_predicted_validation[historical_predicted_validation['Type'] == 'Validation']['Price'].plot(color='green', label='Validation', ax=ax)\n",
    "plt.title('Historical, Predicted, and Validation Prices')\n",
    "plt.xlabel('Days')\n",
    "plt.ylabel('Price')\n",
    "plt.legend()\n",
    "plt.show()"
   ]
  },
  {
   "cell_type": "code",
   "execution_count": 271,
   "id": "d3e2c3bf-3ee9-4f13-adb2-6e81050f4278",
   "metadata": {},
   "outputs": [
    {
     "name": "stdout",
     "output_type": "stream",
     "text": [
      "Mean Absolute Error: 0.0008334801494868043\n",
      "Mean Squared Error: 9.224836937796864e-07\n",
      "Root Mean Squared Error: 0.0009604601468981868\n",
      "Mean Absolute Percentage Error: 0.09437273553218013\n",
      "R-squared: -1.303802233128361\n",
      "Day 1:\n",
      "  Mean Absolute Error (MAE): 0.002178655071258584\n",
      "  Mean Squared Error (MSE): 4.746537919520745e-06\n",
      "  Root Mean Squared Error (RMSE): 0.002178655071258584\n",
      "  Mean Absolute Percentage Error (MAPE): 0.24647649914682143\n",
      "Day 2:\n",
      "  Mean Absolute Error (MAE): 0.0021530597877502666\n",
      "  Mean Squared Error (MSE): 4.635666449627223e-06\n",
      "  Root Mean Squared Error (RMSE): 0.0021530597877502666\n",
      "  Mean Absolute Percentage Error (MAPE): 0.24353951471605945\n",
      "Day 3:\n",
      "  Mean Absolute Error (MAE): 0.0016501165390014894\n",
      "  Mean Squared Error (MSE): 2.7228845922862537e-06\n",
      "  Root Mean Squared Error (RMSE): 0.0016501165390014894\n",
      "  Mean Absolute Percentage Error (MAPE): 0.18669644611659097\n",
      "Day 4:\n",
      "  Mean Absolute Error (MAE): 0.0017153051567078137\n",
      "  Mean Squared Error (MSE): 2.9422717806284174e-06\n",
      "  Root Mean Squared Error (RMSE): 0.0017153051567078137\n",
      "  Mean Absolute Percentage Error (MAPE): 0.19407856313591157\n",
      "Day 5:\n",
      "  Mean Absolute Error (MAE): 0.0013409396934509488\n",
      "  Mean Squared Error (MSE): 1.7981192614723245e-06\n",
      "  Root Mean Squared Error (RMSE): 0.0013409396934509488\n",
      "  Mean Absolute Percentage Error (MAPE): 0.15174494086671067\n",
      "Day 6:\n",
      "  Mean Absolute Error (MAE): 0.0013469499397278373\n",
      "  Mean Squared Error (MSE): 1.8142741401328244e-06\n",
      "  Root Mean Squared Error (RMSE): 0.0013469499397278373\n",
      "  Mean Absolute Percentage Error (MAPE): 0.15247684345670462\n",
      "Day 7:\n",
      "  Mean Absolute Error (MAE): 0.0016298411369323196\n",
      "  Mean Squared Error (MSE): 2.656382131636836e-06\n",
      "  Root Mean Squared Error (RMSE): 0.0016298411369323196\n",
      "  Mean Absolute Percentage Error (MAPE): 0.1844650712390153\n"
     ]
    }
   ],
   "source": [
    "from sklearn.metrics import mean_absolute_error, mean_squared_error, r2_score\n",
    "import numpy as np\n",
    "\n",
    "def mean_absolute_percentage_error(y_true, y_pred):\n",
    "    y_true, y_pred = np.array(y_true), np.array(y_pred)\n",
    "    return np.mean(np.abs((y_true - y_pred) / y_true)) * 100\n",
    "\n",
    "# Assuming real_prices and predicted_prices have the correct values\n",
    "mae = mean_absolute_error(real_prices, predicted_prices)\n",
    "mse = mean_squared_error(real_prices, predicted_prices)\n",
    "rmse = np.sqrt(mse)\n",
    "mape = mean_absolute_percentage_error(real_prices, predicted_prices)\n",
    "r2 = r2_score(real_prices, predicted_prices)\n",
    "\n",
    "print(f\"Mean Absolute Error: {mae}\")\n",
    "print(f\"Mean Squared Error: {mse}\")\n",
    "print(f\"Root Mean Squared Error: {rmse}\")\n",
    "print(f\"Mean Absolute Percentage Error: {mape}\")\n",
    "print(f\"R-squared: {r2}\")\n",
    "\n",
    "# Extract the predicted and validation prices for each day\n",
    "predicted_daily_prices = predicted_future_prices[:future_days].reshape(-1, 1)\n",
    "validation_daily_prices = validation_data[:future_days].reshape(-1, 1)\n",
    "\n",
    "# Calculate the metrics for each day\n",
    "for i in range(len(predicted_daily_prices)):\n",
    "    mae = mean_absolute_error(validation_daily_prices[i], predicted_daily_prices[i])\n",
    "    mse = mean_squared_error(validation_daily_prices[i], predicted_daily_prices[i])\n",
    "    rmse = np.sqrt(mse)\n",
    "    mape = mean_absolute_percentage_error(validation_daily_prices[i], predicted_daily_prices[i])\n",
    "\n",
    "    print(f\"Day {i + 1}:\")\n",
    "    print(f\"  Mean Absolute Error (MAE): {mae}\")\n",
    "    print(f\"  Mean Squared Error (MSE): {mse}\")\n",
    "    print(f\"  Root Mean Squared Error (RMSE): {rmse}\")\n",
    "    print(f\"  Mean Absolute Percentage Error (MAPE): {mape}\") \n",
    "    # print(f\"  Accuracy: {accuracy}%\")"
   ]
  },
  {
   "cell_type": "markdown",
   "id": "0c49e438-e44c-4ebc-a7c9-222a8fa0d309",
   "metadata": {},
   "source": [
    "**EURJPY_M5**"
   ]
  },
  {
   "cell_type": "code",
   "execution_count": 272,
   "id": "820e860a-a1e6-4418-b871-1d4186515164",
   "metadata": {},
   "outputs": [
    {
     "name": "stdout",
     "output_type": "stream",
     "text": [
      "False\n",
      "Target variable: close_wave\n",
      "Selected features:\n",
      "open_wave\n",
      "high_wave\n",
      "low_wave\n",
      "close_wave\n",
      "KAMA\n",
      "bb_bbm\n",
      "bb_bbh\n",
      "bb_bbl\n",
      "EMA\n",
      "SMA13\n",
      "SMA21\n",
      "SMA34\n"
     ]
    }
   ],
   "source": [
    "# data = ta_data_EURJPY\n",
    "# Uncomment for Prediction using Denoised OHLC + TA values \n",
    "data = ta_denoised_data_EURJPY\n",
    "\n",
    "# Window size for tuning\n",
    "window_size = 28\n",
    "# Number of future days to predict\n",
    "future_days = 7\n",
    "\n",
    "# Set up window for rolling data\n",
    "def window_data(data, window, feature_col_numbers, target_col_number):\n",
    "    X = []\n",
    "    y = []\n",
    "    for i in range(len(data) - window - future_days):\n",
    "        features = data.iloc[i:(i + window), feature_col_numbers]\n",
    "        target = data.iloc[(i + window):(i + window + future_days), target_col_number]\n",
    "        X.append(features)\n",
    "        y.append(target)\n",
    "    return np.array(X), np.array(y).reshape(-1, future_days)\n",
    "\n",
    "# Features with high correlation for pure data\n",
    "# feature_columns = [1,2,3,4,9,28,29,30,33,37,38,39]\n",
    "\n",
    "# Features with high correlation for Wavelet Denoised data\n",
    "feature_columns = [0,1,2,3,8,27,28,29,32,36,37,38]\n",
    "\n",
    "# target_column = 4 # Close value\n",
    "\n",
    "target_column = 3 # Close value for Denoised Data\n",
    "\n",
    "# Prepare the input and output arrays for the LSTM model\n",
    "X, y = window_data(data, window_size, feature_columns, target_column)\n",
    "\n",
    "# Scale the data using StandardScaler (Z-score normalization)\n",
    "scaler = StandardScaler()\n",
    "X = X.reshape(X.shape[0], -1)\n",
    "X = scaler.fit_transform(X)\n",
    "X = X.reshape(X.shape[0], window_size, len(feature_columns))\n",
    "\n",
    "# # Scale the data using MinMaxScaler\n",
    "# scaler = MinMaxScaler()\n",
    "# X = X.reshape(X.shape[0], -1)\n",
    "# X = scaler.fit_transform(X)\n",
    "# X = X.reshape(X.shape[0], window_size, len(feature_columns))\n",
    "\n",
    "scaler.fit(y)\n",
    "y = scaler.transform(y)\n",
    "\n",
    "# Split the data into training and testing sets\n",
    "split = int(0.8 * len(X))\n",
    "X_train = X[:split]\n",
    "X_test = X[split:]\n",
    "y_train = y[:split]\n",
    "y_test = y[split:]\n",
    "\n",
    "def impute_missing_values(X):\n",
    "    for i in range(X.shape[2]):\n",
    "        feature_values = X[:, :, i].flatten()\n",
    "        feature_mean = np.nanmean(feature_values)\n",
    "        feature_isnan = np.isnan(X[:, :, i])\n",
    "        X[:, :, i][feature_isnan] = feature_mean\n",
    "    return X\n",
    "\n",
    "X_train = impute_missing_values(X_train)\n",
    "X_test = impute_missing_values(X_test)\n",
    "\n",
    "print(np.isnan(X_train).any())\n",
    "\n",
    "print(f\"Target variable: {data.columns[target_column]}\")\n",
    "print(\"Selected features:\")\n",
    "for col in feature_columns:\n",
    "    print(data.columns[col])"
   ]
  },
  {
   "cell_type": "code",
   "execution_count": 273,
   "id": "0ee39673-dbe3-47d7-ae63-7b70e55e89df",
   "metadata": {},
   "outputs": [
    {
     "name": "stdout",
     "output_type": "stream",
     "text": [
      "Epoch 1/50\n",
      "49/49 [==============================] - 1s 22ms/step - loss: 0.3552 - val_loss: 0.1105\n",
      "Epoch 2/50\n",
      "49/49 [==============================] - 1s 22ms/step - loss: 0.2731 - val_loss: 0.1027\n",
      "Epoch 3/50\n",
      "49/49 [==============================] - 1s 18ms/step - loss: 0.2514 - val_loss: 0.1133\n",
      "Epoch 4/50\n",
      "49/49 [==============================] - 1s 28ms/step - loss: 0.2379 - val_loss: 0.1250\n",
      "Epoch 5/50\n",
      "49/49 [==============================] - 1s 19ms/step - loss: 0.1868 - val_loss: 0.1055\n",
      "Epoch 6/50\n",
      "49/49 [==============================] - 1s 19ms/step - loss: 0.1729 - val_loss: 0.1158\n",
      "Epoch 7/50\n",
      "49/49 [==============================] - 1s 19ms/step - loss: 0.1947 - val_loss: 0.1397\n"
     ]
    },
    {
     "data": {
      "image/png": "[encoded data removed]",
      "text/plain": [
       "<Figure size 432x288 with 1 Axes>"
      ]
     },
     "metadata": {
      "needs_background": "light"
     },
     "output_type": "display_data"
    },
    {
     "name": "stdout",
     "output_type": "stream",
     "text": [
      "7/7 [==============================] - 0s 7ms/step\n"
     ]
    },
    {
     "data": {
      "image/png": "[encoded data removed]",
      "text/plain": [
       "<Figure size 432x288 with 1 Axes>"
      ]
     },
     "metadata": {
      "needs_background": "light"
     },
     "output_type": "display_data"
    },
    {
     "name": "stdout",
     "output_type": "stream",
     "text": [
      "Day 1: 0.011017430626246627\n",
      "Day 2: 0.01063086201399852\n",
      "Day 3: 0.0123719235043443\n",
      "Day 4: 0.02134818001163349\n",
      "Day 5: 0.021774344600384674\n",
      "Day 6: 0.02316010224898937\n",
      "Day 7: 0.02165564689891738\n",
      "Overall Mean Squared Error: 0.017422641414930624\n"
     ]
    }
   ],
   "source": [
    "# Apply early stopping\n",
    "early_stopping = EarlyStopping(monitor='val_loss', patience=5, restore_best_weights=True)\n",
    "\n",
    "history = model.fit(X_train, y_train, epochs=50, batch_size=16, validation_data=(X_test, y_test), callbacks=[early_stopping])\n",
    "\n",
    "# Plot the training and validation loss curves\n",
    "plt.plot(history.history['loss'], 'bo', label='Training loss')\n",
    "plt.plot(history.history['val_loss'], 'b', label='Validation loss')\n",
    "plt.title('Training and Validation loss')\n",
    "plt.xlabel('Epochs')\n",
    "plt.ylabel('Loss')\n",
    "plt.legend()\n",
    "plt.show()\n",
    "\n",
    "# Make predictions using the trained model on the test data\n",
    "predicted = model.predict(X_test)\n",
    "predicted_prices = scaler.inverse_transform(predicted)\n",
    "real_prices = scaler.inverse_transform(y_test)\n",
    "\n",
    "# Calculate the mean squared error for each day\n",
    "mse_by_day = mean_squared_error(real_prices, predicted_prices, multioutput='raw_values')\n",
    "\n",
    "# Create a DataFrame with the real and predicted prices for the first test sample\n",
    "forex = pd.DataFrame({\n",
    "    \"Real\": real_prices[0],\n",
    "    \"Predicted\": predicted_prices[0]\n",
    "})\n",
    "\n",
    "# Plot the real and predicted prices for the first test sample\n",
    "plot = forex.plot.line()\n",
    "plot.set_title(f'Prediction plot for the first test sample')\n",
    "plt.xlabel('Days')\n",
    "plt.ylabel('Price')\n",
    "plt.show()\n",
    "\n",
    "# Print the mean squared error for each day\n",
    "for i, mse in enumerate(mse_by_day):\n",
    "    print(f\"Day {i + 1}: {mse}\")\n",
    "\n",
    "# Calculate and print the overall mean squared error\n",
    "overall_mse = mean_squared_error(real_prices, predicted_prices)\n",
    "print(f\"Overall Mean Squared Error: {overall_mse}\")"
   ]
  },
  {
   "cell_type": "code",
   "execution_count": 274,
   "id": "46304457-51ab-4ab6-9306-1a016252cf07",
   "metadata": {},
   "outputs": [
    {
     "name": "stdout",
     "output_type": "stream",
     "text": [
      "1/1 [==============================] - 0s 18ms/step\n"
     ]
    },
    {
     "data": {
      "image/png": "[encoded data removed]",
      "text/plain": [
       "<Figure size 432x288 with 1 Axes>"
      ]
     },
     "metadata": {
      "needs_background": "light"
     },
     "output_type": "display_data"
    }
   ],
   "source": [
    "from sklearn.metrics import mean_absolute_error, mean_squared_error, r2_score\n",
    "\n",
    "EURJPY_M5_202304141535_202304242355 = validation_dataframes_M5['EURJPY_M5_202304141535_202304242355']\n",
    "EURJPY_M5_202304141535_202304242355 = EURJPY_M5_202304141535_202304242355.head(7)\n",
    "\n",
    "# Make predictions using the trained model on the last window of historical data\n",
    "last_window = X[-1].reshape(1, window_size, len(feature_columns))\n",
    "predicted_future = model.predict(last_window)\n",
    "predicted_future_prices = scaler.inverse_transform(predicted_future)\n",
    "\n",
    "# Create a DataFrame with the historical data\n",
    "historical_data = data.iloc[:, target_column].values[-window_size:]\n",
    "historical_df = pd.DataFrame({\n",
    "    \"Price\": historical_data,\n",
    "    \"Type\": \"Historical\"\n",
    "})\n",
    "\n",
    "# Create a DataFrame with the predicted future data\n",
    "predicted_data = np.concatenate((historical_data[-1:], predicted_future_prices.ravel()))\n",
    "predicted_df = pd.DataFrame({\n",
    "    \"Price\": predicted_data,\n",
    "    \"Type\": \"Predicted\"\n",
    "}, index=range(len(historical_data) - 1, len(historical_data) + future_days))\n",
    "\n",
    "# Extract validation data from the provided variable\n",
    "validation_data = EURJPY_M5_202304141535_202304242355.iloc[:, target_column].values\n",
    "\n",
    "# Create a DataFrame with the validation data\n",
    "validation_df = pd.DataFrame({\n",
    "    \"Price\": validation_data,\n",
    "    \"Type\": \"Validation\"\n",
    "}, index=range(len(historical_data) - 1, len(historical_data) - 1 + len(validation_data)))\n",
    "\n",
    "# Concatenate historical, predicted, and validation DataFrames\n",
    "historical_predicted_validation = pd.concat([historical_df, predicted_df, validation_df], axis=0)\n",
    "\n",
    "# Plot the historical, predicted, and validation data\n",
    "ax = historical_predicted_validation[historical_predicted_validation['Type'] == 'Historical']['Price'].plot(color='blue', label='Historical')\n",
    "historical_predicted_validation[historical_predicted_validation['Type'] == 'Predicted']['Price'].plot(color='red', label='Predicted', ax=ax)\n",
    "historical_predicted_validation[historical_predicted_validation['Type'] == 'Validation']['Price'].plot(color='green', label='Validation', ax=ax)\n",
    "plt.title('Historical, Predicted, and Validation Prices')\n",
    "plt.xlabel('Days')\n",
    "plt.ylabel('Price')\n",
    "plt.legend()\n",
    "plt.show()"
   ]
  },
  {
   "cell_type": "code",
   "execution_count": 275,
   "id": "2933cd47-1afc-458c-90e3-3318dc9c3c09",
   "metadata": {},
   "outputs": [
    {
     "name": "stdout",
     "output_type": "stream",
     "text": [
      "Mean Absolute Error: 0.09137416344111074\n",
      "Mean Squared Error: 0.017422641414930624\n",
      "Root Mean Squared Error: 0.13199485374411618\n",
      "Mean Absolute Percentage Error: 0.06242610134852953\n",
      "R-squared: 0.543679549245856\n",
      "Day 1:\n",
      "  Mean Absolute Error (MAE): 0.5631424560546918\n",
      "  Mean Squared Error (MSE): 0.3171294258113105\n",
      "  Root Mean Squared Error (RMSE): 0.5631424560546918\n",
      "  Mean Absolute Percentage Error (MAPE): 0.3840986918402689\n",
      "Day 2:\n",
      "  Mean Absolute Error (MAE): 0.572531738281242\n",
      "  Mean Squared Error (MSE): 0.32779259133934063\n",
      "  Root Mean Squared Error (RMSE): 0.572531738281242\n",
      "  Mean Absolute Percentage Error (MAPE): 0.39036698481658344\n",
      "Day 3:\n",
      "  Mean Absolute Error (MAE): 0.6436628417968677\n",
      "  Mean Squared Error (MSE): 0.41430185391001956\n",
      "  Root Mean Squared Error (RMSE): 0.6436628417968677\n",
      "  Mean Absolute Percentage Error (MAPE): 0.4388121607799594\n",
      "Day 4:\n",
      "  Mean Absolute Error (MAE): 0.5631402587890761\n",
      "  Mean Squared Error (MSE): 0.31712695106902766\n",
      "  Root Mean Squared Error (RMSE): 0.5631402587890761\n",
      "  Mean Absolute Percentage Error (MAPE): 0.3837804605507044\n",
      "Day 5:\n",
      "  Mean Absolute Error (MAE): 0.64340966796874\n",
      "  Mean Squared Error (MSE): 0.41397600083564423\n",
      "  Root Mean Squared Error (RMSE): 0.64340966796874\n",
      "  Mean Absolute Percentage Error (MAPE): 0.4384811279909089\n",
      "Day 6:\n",
      "  Mean Absolute Error (MAE): 0.624783447265628\n",
      "  Mean Squared Error (MSE): 0.3903543559771217\n",
      "  Root Mean Squared Error (RMSE): 0.624783447265628\n",
      "  Mean Absolute Percentage Error (MAPE): 0.42588321115834576\n",
      "Day 7:\n",
      "  Mean Absolute Error (MAE): 0.5325499267578095\n",
      "  Mean Squared Error (MSE): 0.2836094244897483\n",
      "  Root Mean Squared Error (RMSE): 0.5325499267578095\n",
      "  Mean Absolute Percentage Error (MAPE): 0.36308901955234096\n"
     ]
    }
   ],
   "source": [
    "from sklearn.metrics import mean_absolute_error, mean_squared_error, r2_score\n",
    "import numpy as np\n",
    "\n",
    "def mean_absolute_percentage_error(y_true, y_pred):\n",
    "    y_true, y_pred = np.array(y_true), np.array(y_pred)\n",
    "    return np.mean(np.abs((y_true - y_pred) / y_true)) * 100\n",
    "\n",
    "# Assuming real_prices and predicted_prices have the correct values\n",
    "mae = mean_absolute_error(real_prices, predicted_prices)\n",
    "mse = mean_squared_error(real_prices, predicted_prices)\n",
    "rmse = np.sqrt(mse)\n",
    "mape = mean_absolute_percentage_error(real_prices, predicted_prices)\n",
    "r2 = r2_score(real_prices, predicted_prices)\n",
    "\n",
    "print(f\"Mean Absolute Error: {mae}\")\n",
    "print(f\"Mean Squared Error: {mse}\")\n",
    "print(f\"Root Mean Squared Error: {rmse}\")\n",
    "print(f\"Mean Absolute Percentage Error: {mape}\")\n",
    "print(f\"R-squared: {r2}\")\n",
    "\n",
    "# Extract the predicted and validation prices for each day\n",
    "predicted_daily_prices = predicted_future_prices[:future_days].reshape(-1, 1)\n",
    "validation_daily_prices = validation_data[:future_days].reshape(-1, 1)\n",
    "\n",
    "# Calculate the metrics for each day\n",
    "for i in range(len(predicted_daily_prices)):\n",
    "    mae = mean_absolute_error(validation_daily_prices[i], predicted_daily_prices[i])\n",
    "    mse = mean_squared_error(validation_daily_prices[i], predicted_daily_prices[i])\n",
    "    rmse = np.sqrt(mse)\n",
    "    mape = mean_absolute_percentage_error(validation_daily_prices[i], predicted_daily_prices[i])\n",
    "\n",
    "    print(f\"Day {i + 1}:\")\n",
    "    print(f\"  Mean Absolute Error (MAE): {mae}\")\n",
    "    print(f\"  Mean Squared Error (MSE): {mse}\")\n",
    "    print(f\"  Root Mean Squared Error (RMSE): {rmse}\")\n",
    "    print(f\"  Mean Absolute Percentage Error (MAPE): {mape}\") \n",
    "    # print(f\"  Accuracy: {accuracy}%\")"
   ]
  },
  {
   "cell_type": "markdown",
   "id": "8ce488b3-3358-4e25-9e62-5fc7aede2cc0",
   "metadata": {},
   "source": [
    "**EURUSD_M5**"
   ]
  },
  {
   "cell_type": "code",
   "execution_count": 276,
   "id": "1ecd19c5-06db-404c-8682-07e1be4ffd94",
   "metadata": {},
   "outputs": [
    {
     "name": "stdout",
     "output_type": "stream",
     "text": [
      "False\n",
      "Target variable: close_wave\n",
      "Selected features:\n",
      "open_wave\n",
      "high_wave\n",
      "low_wave\n",
      "close_wave\n",
      "KAMA\n",
      "bb_bbm\n",
      "bb_bbh\n",
      "bb_bbl\n",
      "EMA\n",
      "SMA13\n",
      "SMA21\n",
      "SMA34\n"
     ]
    }
   ],
   "source": [
    "# data = ta_data_EURUSD\n",
    "# Uncomment for Prediction using Denoised OHLC + TA values \n",
    "data = ta_denoised_data_EURUSD\n",
    "\n",
    "# Window size for tuning\n",
    "window_size = 28\n",
    "# Number of future days to predict\n",
    "future_days = 7\n",
    "\n",
    "# Set up window for rolling data\n",
    "def window_data(data, window, feature_col_numbers, target_col_number):\n",
    "    X = []\n",
    "    y = []\n",
    "    for i in range(len(data) - window - future_days):\n",
    "        features = data.iloc[i:(i + window), feature_col_numbers]\n",
    "        target = data.iloc[(i + window):(i + window + future_days), target_col_number]\n",
    "        X.append(features)\n",
    "        y.append(target)\n",
    "    return np.array(X), np.array(y).reshape(-1, future_days)\n",
    "\n",
    "# Features with high correlation for pure data\n",
    "# feature_columns = [1,2,3,4,9,28,29,30,33,37,38,39]\n",
    "\n",
    "# Features with high correlation for Wavelet Denoised data\n",
    "feature_columns = [0,1,2,3,8,27,28,29,32,36,37,38]\n",
    "\n",
    "# target_column = 4 # Close value\n",
    "\n",
    "target_column = 3 # Close value for Denoised Data\n",
    "\n",
    "# Prepare the input and output arrays for the LSTM model\n",
    "X, y = window_data(data, window_size, feature_columns, target_column)\n",
    "\n",
    "# Scale the data using StandardScaler (Z-score normalization)\n",
    "scaler = StandardScaler()\n",
    "X = X.reshape(X.shape[0], -1)\n",
    "X = scaler.fit_transform(X)\n",
    "X = X.reshape(X.shape[0], window_size, len(feature_columns))\n",
    "\n",
    "# # Scale the data using MinMaxScaler\n",
    "# scaler = MinMaxScaler()\n",
    "# X = X.reshape(X.shape[0], -1)\n",
    "# X = scaler.fit_transform(X)\n",
    "# X = X.reshape(X.shape[0], window_size, len(feature_columns))\n",
    "\n",
    "scaler.fit(y)\n",
    "y = scaler.transform(y)\n",
    "\n",
    "# Split the data into training and testing sets\n",
    "split = int(0.8 * len(X))\n",
    "X_train = X[:split]\n",
    "X_test = X[split:]\n",
    "y_train = y[:split]\n",
    "y_test = y[split:]\n",
    "\n",
    "def impute_missing_values(X):\n",
    "    for i in range(X.shape[2]):\n",
    "        feature_values = X[:, :, i].flatten()\n",
    "        feature_mean = np.nanmean(feature_values)\n",
    "        feature_isnan = np.isnan(X[:, :, i])\n",
    "        X[:, :, i][feature_isnan] = feature_mean\n",
    "    return X\n",
    "\n",
    "X_train = impute_missing_values(X_train)\n",
    "X_test = impute_missing_values(X_test)\n",
    "\n",
    "print(np.isnan(X_train).any())\n",
    "\n",
    "print(f\"Target variable: {data.columns[target_column]}\")\n",
    "print(\"Selected features:\")\n",
    "for col in feature_columns:\n",
    "    print(data.columns[col])"
   ]
  },
  {
   "cell_type": "code",
   "execution_count": 277,
   "id": "d50d77ff-ac09-4aa2-a204-15ca64b0bf95",
   "metadata": {},
   "outputs": [
    {
     "name": "stdout",
     "output_type": "stream",
     "text": [
      "Epoch 1/50\n",
      "49/49 [==============================] - 1s 20ms/step - loss: 0.2619 - val_loss: 0.1863\n",
      "Epoch 2/50\n",
      "49/49 [==============================] - 1s 19ms/step - loss: 0.1994 - val_loss: 0.1571\n",
      "Epoch 3/50\n",
      "49/49 [==============================] - 1s 20ms/step - loss: 0.1938 - val_loss: 0.1490\n",
      "Epoch 4/50\n",
      "49/49 [==============================] - 1s 19ms/step - loss: 0.1696 - val_loss: 0.1614\n",
      "Epoch 5/50\n",
      "49/49 [==============================] - 1s 19ms/step - loss: 0.1666 - val_loss: 0.1568\n",
      "Epoch 6/50\n",
      "49/49 [==============================] - 1s 20ms/step - loss: 0.1418 - val_loss: 0.1770\n",
      "Epoch 7/50\n",
      "49/49 [==============================] - 1s 20ms/step - loss: 0.1117 - val_loss: 0.1800\n",
      "Epoch 8/50\n",
      "49/49 [==============================] - 1s 20ms/step - loss: 0.1132 - val_loss: 0.1876\n"
     ]
    },
    {
     "data": {
      "image/png": "[encoded data removed]",
      "text/plain": [
       "<Figure size 432x288 with 1 Axes>"
      ]
     },
     "metadata": {
      "needs_background": "light"
     },
     "output_type": "display_data"
    },
    {
     "name": "stdout",
     "output_type": "stream",
     "text": [
      "7/7 [==============================] - 0s 7ms/step\n"
     ]
    },
    {
     "data": {
      "image/png": "[encoded data removed]",
      "text/plain": [
       "<Figure size 432x288 with 1 Axes>"
      ]
     },
     "metadata": {
      "needs_background": "light"
     },
     "output_type": "display_data"
    },
    {
     "name": "stdout",
     "output_type": "stream",
     "text": [
      "Day 1: 5.819453642019692e-06\n",
      "Day 2: 3.056403930711617e-06\n",
      "Day 3: 3.1089650026822127e-06\n",
      "Day 4: 7.870263663598523e-06\n",
      "Day 5: 4.227983866003507e-06\n",
      "Day 6: 4.352197312776488e-06\n",
      "Day 7: 9.026285657195807e-06\n",
      "Overall Mean Squared Error: 5.351650439283978e-06\n"
     ]
    }
   ],
   "source": [
    "# Apply early stopping\n",
    "early_stopping = EarlyStopping(monitor='val_loss', patience=5, restore_best_weights=True)\n",
    "\n",
    "history = model.fit(X_train, y_train, epochs=50, batch_size=16, validation_data=(X_test, y_test), callbacks=[early_stopping])\n",
    "\n",
    "# Plot the training and validation loss curves\n",
    "plt.plot(history.history['loss'], 'bo', label='Training loss')\n",
    "plt.plot(history.history['val_loss'], 'b', label='Validation loss')\n",
    "plt.title('Training and Validation loss')\n",
    "plt.xlabel('Epochs')\n",
    "plt.ylabel('Loss')\n",
    "plt.legend()\n",
    "plt.show()\n",
    "\n",
    "# Make predictions using the trained model on the test data\n",
    "predicted = model.predict(X_test)\n",
    "predicted_prices = scaler.inverse_transform(predicted)\n",
    "real_prices = scaler.inverse_transform(y_test)\n",
    "\n",
    "# Calculate the mean squared error for each day\n",
    "mse_by_day = mean_squared_error(real_prices, predicted_prices, multioutput='raw_values')\n",
    "\n",
    "# Create a DataFrame with the real and predicted prices for the first test sample\n",
    "forex = pd.DataFrame({\n",
    "    \"Real\": real_prices[0],\n",
    "    \"Predicted\": predicted_prices[0]\n",
    "})\n",
    "\n",
    "# Plot the real and predicted prices for the first test sample\n",
    "plot = forex.plot.line()\n",
    "plot.set_title(f'Prediction plot for the first test sample')\n",
    "plt.xlabel('Days')\n",
    "plt.ylabel('Price')\n",
    "plt.show()\n",
    "\n",
    "# Print the mean squared error for each day\n",
    "for i, mse in enumerate(mse_by_day):\n",
    "    print(f\"Day {i + 1}: {mse}\")\n",
    "\n",
    "# Calculate and print the overall mean squared error\n",
    "overall_mse = mean_squared_error(real_prices, predicted_prices)\n",
    "print(f\"Overall Mean Squared Error: {overall_mse}\")"
   ]
  },
  {
   "cell_type": "code",
   "execution_count": 278,
   "id": "d45bf67f-5eca-4cf0-9020-a7d2e58dcd97",
   "metadata": {},
   "outputs": [
    {
     "name": "stdout",
     "output_type": "stream",
     "text": [
      "1/1 [==============================] - 0s 18ms/step\n"
     ]
    },
    {
     "data": {
      "image/png": "[encoded data removed]",
      "text/plain": [
       "<Figure size 432x288 with 1 Axes>"
      ]
     },
     "metadata": {
      "needs_background": "light"
     },
     "output_type": "display_data"
    }
   ],
   "source": [
    "from sklearn.metrics import mean_absolute_error, mean_squared_error, r2_score\n",
    "\n",
    "EURUSD_M5_202304141535_202304242355 = validation_dataframes_M5['EURUSD_M5_202304141535_202304242355']\n",
    "EURUSD_M5_202304141535_202304242355 = EURUSD_M5_202304141535_202304242355.head(7)\n",
    "\n",
    "# Make predictions using the trained model on the last window of historical data\n",
    "last_window = X[-1].reshape(1, window_size, len(feature_columns))\n",
    "predicted_future = model.predict(last_window)\n",
    "predicted_future_prices = scaler.inverse_transform(predicted_future)\n",
    "\n",
    "# Create a DataFrame with the historical data\n",
    "historical_data = data.iloc[:, target_column].values[-window_size:]\n",
    "historical_df = pd.DataFrame({\n",
    "    \"Price\": historical_data,\n",
    "    \"Type\": \"Historical\"\n",
    "})\n",
    "\n",
    "# Create a DataFrame with the predicted future data\n",
    "predicted_data = np.concatenate((historical_data[-1:], predicted_future_prices.ravel()))\n",
    "predicted_df = pd.DataFrame({\n",
    "    \"Price\": predicted_data,\n",
    "    \"Type\": \"Predicted\"\n",
    "}, index=range(len(historical_data) - 1, len(historical_data) + future_days))\n",
    "\n",
    "# Extract validation data from the provided variable\n",
    "validation_data = EURUSD_M5_202304141535_202304242355.iloc[:, target_column].values\n",
    "\n",
    "# Create a DataFrame with the validation data\n",
    "validation_df = pd.DataFrame({\n",
    "    \"Price\": validation_data,\n",
    "    \"Type\": \"Validation\"\n",
    "}, index=range(len(historical_data) - 1, len(historical_data) - 1 + len(validation_data)))\n",
    "\n",
    "# Concatenate historical, predicted, and validation DataFrames\n",
    "historical_predicted_validation = pd.concat([historical_df, predicted_df, validation_df], axis=0)\n",
    "\n",
    "# Plot the historical, predicted, and validation data\n",
    "ax = historical_predicted_validation[historical_predicted_validation['Type'] == 'Historical']['Price'].plot(color='blue', label='Historical')\n",
    "historical_predicted_validation[historical_predicted_validation['Type'] == 'Predicted']['Price'].plot(color='red', label='Predicted', ax=ax)\n",
    "historical_predicted_validation[historical_predicted_validation['Type'] == 'Validation']['Price'].plot(color='green', label='Validation', ax=ax)\n",
    "plt.title('Historical, Predicted, and Validation Prices')\n",
    "plt.xlabel('Days')\n",
    "plt.ylabel('Price')\n",
    "plt.legend()\n",
    "plt.show()"
   ]
  },
  {
   "cell_type": "code",
   "execution_count": null,
   "id": "06a14dfb-f166-4f7f-9731-d1da8b17ea40",
   "metadata": {},
   "outputs": [],
   "source": []
  },
  {
   "cell_type": "code",
   "execution_count": 279,
   "id": "fcc35528-0370-4f1c-bba9-99d8494d373d",
   "metadata": {},
   "outputs": [
    {
     "name": "stdout",
     "output_type": "stream",
     "text": [
      "Mean Absolute Error: 0.0019317592900393182\n",
      "Mean Squared Error: 5.351650439283978e-06\n",
      "Root Mean Squared Error: 0.002313363447295729\n",
      "Mean Absolute Percentage Error: 0.17476376679251063\n",
      "R-squared: 0.06592020987757954\n",
      "Day 1:\n",
      "  Mean Absolute Error (MAE): 0.0017956409072876767\n",
      "  Mean Squared Error (MSE): 3.2243262679249107e-06\n",
      "  Root Mean Squared Error (RMSE): 0.0017956409072876767\n",
      "  Mean Absolute Percentage Error (MAPE): 0.1628389066289121\n",
      "Day 2:\n",
      "  Mean Absolute Error (MAE): 0.0006128998184204981\n",
      "  Mean Squared Error (MSE): 3.7564618741987957e-07\n",
      "  Root Mean Squared Error (RMSE): 0.0006128998184204981\n",
      "  Mean Absolute Percentage Error (MAPE): 0.055606446903992725\n",
      "Day 3:\n",
      "  Mean Absolute Error (MAE): 4.125434875490441e-05\n",
      "  Mean Squared Error (MSE): 1.7019212911912832e-09\n",
      "  Root Mean Squared Error (RMSE): 4.125434875490441e-05\n",
      "  Mean Absolute Percentage Error (MAPE): 0.0037442003916160907\n",
      "Day 4:\n",
      "  Mean Absolute Error (MAE): 1.4457931518663258e-05\n",
      "  Mean Squared Error (MSE): 2.0903178379835647e-10\n",
      "  Root Mean Squared Error (RMSE): 1.4457931518663258e-05\n",
      "  Mean Absolute Percentage Error (MAPE): 0.0013116863404216193\n",
      "Day 5:\n",
      "  Mean Absolute Error (MAE): 0.0001994134140015369\n",
      "  Mean Squared Error (MSE): 3.976570968374835e-08\n",
      "  Root Mean Squared Error (RMSE): 0.0001994134140015369\n",
      "  Mean Absolute Percentage Error (MAPE): 0.018089517494265708\n",
      "Day 6:\n",
      "  Mean Absolute Error (MAE): 0.0008036566543578871\n",
      "  Mean Squared Error (MSE): 6.458640180937125e-07\n",
      "  Root Mean Squared Error (RMSE): 0.0008036566543578871\n",
      "  Mean Absolute Percentage Error (MAPE): 0.07287221551443895\n",
      "Day 7:\n",
      "  Mean Absolute Error (MAE): 0.0013741983413695369\n",
      "  Mean Squared Error (MSE): 1.8884210814227862e-06\n",
      "  Root Mean Squared Error (RMSE): 0.0013741983413695369\n",
      "  Mean Absolute Percentage Error (MAPE): 0.12462688444833238\n"
     ]
    }
   ],
   "source": [
    "from sklearn.metrics import mean_absolute_error, mean_squared_error, r2_score\n",
    "import numpy as np\n",
    "\n",
    "def mean_absolute_percentage_error(y_true, y_pred):\n",
    "    y_true, y_pred = np.array(y_true), np.array(y_pred)\n",
    "    return np.mean(np.abs((y_true - y_pred) / y_true)) * 100\n",
    "\n",
    "# Assuming real_prices and predicted_prices have the correct values\n",
    "mae = mean_absolute_error(real_prices, predicted_prices)\n",
    "mse = mean_squared_error(real_prices, predicted_prices)\n",
    "rmse = np.sqrt(mse)\n",
    "mape = mean_absolute_percentage_error(real_prices, predicted_prices)\n",
    "r2 = r2_score(real_prices, predicted_prices)\n",
    "\n",
    "print(f\"Mean Absolute Error: {mae}\")\n",
    "print(f\"Mean Squared Error: {mse}\")\n",
    "print(f\"Root Mean Squared Error: {rmse}\")\n",
    "print(f\"Mean Absolute Percentage Error: {mape}\")\n",
    "print(f\"R-squared: {r2}\")\n",
    "\n",
    "# Extract the predicted and validation prices for each day\n",
    "predicted_daily_prices = predicted_future_prices[:future_days].reshape(-1, 1)\n",
    "validation_daily_prices = validation_data[:future_days].reshape(-1, 1)\n",
    "\n",
    "# Calculate the metrics for each day\n",
    "for i in range(len(predicted_daily_prices)):\n",
    "    mae = mean_absolute_error(validation_daily_prices[i], predicted_daily_prices[i])\n",
    "    mse = mean_squared_error(validation_daily_prices[i], predicted_daily_prices[i])\n",
    "    rmse = np.sqrt(mse)\n",
    "    mape = mean_absolute_percentage_error(validation_daily_prices[i], predicted_daily_prices[i])\n",
    "\n",
    "    print(f\"Day {i + 1}:\")\n",
    "    print(f\"  Mean Absolute Error (MAE): {mae}\")\n",
    "    print(f\"  Mean Squared Error (MSE): {mse}\")\n",
    "    print(f\"  Root Mean Squared Error (RMSE): {rmse}\")\n",
    "    print(f\"  Mean Absolute Percentage Error (MAPE): {mape}\") \n",
    "    # print(f\"  Accuracy: {accuracy}%\")"
   ]
  },
  {
   "cell_type": "markdown",
   "id": "ee105c71-fc30-47ff-be3e-a2e7be367bb2",
   "metadata": {},
   "source": [
    "**GBPCHF_M5**"
   ]
  },
  {
   "cell_type": "code",
   "execution_count": 280,
   "id": "787fd446-722d-46ab-beeb-81d1f3a658ba",
   "metadata": {},
   "outputs": [
    {
     "name": "stdout",
     "output_type": "stream",
     "text": [
      "False\n",
      "Target variable: close_wave\n",
      "Selected features:\n",
      "open_wave\n",
      "high_wave\n",
      "low_wave\n",
      "close_wave\n",
      "KAMA\n",
      "bb_bbm\n",
      "bb_bbh\n",
      "bb_bbl\n",
      "EMA\n",
      "SMA13\n",
      "SMA21\n",
      "SMA34\n"
     ]
    }
   ],
   "source": [
    "# data = ta_data_GBPCHF\n",
    "# Uncomment for Prediction using Denoised OHLC + TA values \n",
    "data = ta_denoised_data_GBPCHF\n",
    "\n",
    "# Window size for tuning\n",
    "window_size = 28\n",
    "# Number of future days to predict\n",
    "future_days = 7\n",
    "\n",
    "# Set up window for rolling data\n",
    "def window_data(data, window, feature_col_numbers, target_col_number):\n",
    "    X = []\n",
    "    y = []\n",
    "    for i in range(len(data) - window - future_days):\n",
    "        features = data.iloc[i:(i + window), feature_col_numbers]\n",
    "        target = data.iloc[(i + window):(i + window + future_days), target_col_number]\n",
    "        X.append(features)\n",
    "        y.append(target)\n",
    "    return np.array(X), np.array(y).reshape(-1, future_days)\n",
    "\n",
    "# Features with high correlation for pure data\n",
    "# feature_columns = [1,2,3,4,9,28,29,30,33,37,38,39]\n",
    "\n",
    "# Features with high correlation for Wavelet Denoised data\n",
    "feature_columns = [0,1,2,3,8,27,28,29,32,36,37,38]\n",
    "\n",
    "# target_column = 4 # Close value\n",
    "\n",
    "target_column = 3 # Close value for Denoised Data\n",
    "\n",
    "# Prepare the input and output arrays for the LSTM model\n",
    "X, y = window_data(data, window_size, feature_columns, target_column)\n",
    "\n",
    "# Scale the data using StandardScaler (Z-score normalization)\n",
    "scaler = StandardScaler()\n",
    "X = X.reshape(X.shape[0], -1)\n",
    "X = scaler.fit_transform(X)\n",
    "X = X.reshape(X.shape[0], window_size, len(feature_columns))\n",
    "\n",
    "# # Scale the data using MinMaxScaler\n",
    "# scaler = MinMaxScaler()\n",
    "# X = X.reshape(X.shape[0], -1)\n",
    "# X = scaler.fit_transform(X)\n",
    "# X = X.reshape(X.shape[0], window_size, len(feature_columns))\n",
    "\n",
    "scaler.fit(y)\n",
    "y = scaler.transform(y)\n",
    "\n",
    "# Split the data into training and testing sets\n",
    "split = int(0.8 * len(X))\n",
    "X_train = X[:split]\n",
    "X_test = X[split:]\n",
    "y_train = y[:split]\n",
    "y_test = y[split:]\n",
    "\n",
    "def impute_missing_values(X):\n",
    "    for i in range(X.shape[2]):\n",
    "        feature_values = X[:, :, i].flatten()\n",
    "        feature_mean = np.nanmean(feature_values)\n",
    "        feature_isnan = np.isnan(X[:, :, i])\n",
    "        X[:, :, i][feature_isnan] = feature_mean\n",
    "    return X\n",
    "\n",
    "X_train = impute_missing_values(X_train)\n",
    "X_test = impute_missing_values(X_test)\n",
    "\n",
    "print(np.isnan(X_train).any())\n",
    "\n",
    "print(f\"Target variable: {data.columns[target_column]}\")\n",
    "print(\"Selected features:\")\n",
    "for col in feature_columns:\n",
    "    print(data.columns[col])"
   ]
  },
  {
   "cell_type": "code",
   "execution_count": 281,
   "id": "a1d01b57-e1a6-47af-805b-6478bb6f54fd",
   "metadata": {},
   "outputs": [
    {
     "name": "stdout",
     "output_type": "stream",
     "text": [
      "Epoch 1/50\n",
      "49/49 [==============================] - 1s 21ms/step - loss: 0.4569 - val_loss: 0.1048\n",
      "Epoch 2/50\n",
      "49/49 [==============================] - 1s 20ms/step - loss: 0.2591 - val_loss: 0.1183\n",
      "Epoch 3/50\n",
      "49/49 [==============================] - 1s 20ms/step - loss: 0.1733 - val_loss: 0.1155\n",
      "Epoch 4/50\n",
      "49/49 [==============================] - 1s 20ms/step - loss: 0.1563 - val_loss: 0.1053\n",
      "Epoch 5/50\n",
      "49/49 [==============================] - 1s 20ms/step - loss: 0.1083 - val_loss: 0.1077\n",
      "Epoch 6/50\n",
      "49/49 [==============================] - 1s 20ms/step - loss: 0.1072 - val_loss: 0.1081\n"
     ]
    },
    {
     "data": {
      "image/png": "[encoded data removed]",
      "text/plain": [
       "<Figure size 432x288 with 1 Axes>"
      ]
     },
     "metadata": {
      "needs_background": "light"
     },
     "output_type": "display_data"
    },
    {
     "name": "stdout",
     "output_type": "stream",
     "text": [
      "7/7 [==============================] - 0s 7ms/step\n"
     ]
    },
    {
     "data": {
      "image/png": "[encoded data removed]",
      "text/plain": [
       "<Figure size 432x288 with 1 Axes>"
      ]
     },
     "metadata": {
      "needs_background": "light"
     },
     "output_type": "display_data"
    },
    {
     "name": "stdout",
     "output_type": "stream",
     "text": [
      "Day 1: 1.1161827821656314e-06\n",
      "Day 2: 1.277557093121095e-06\n",
      "Day 3: 1.5391544813133685e-06\n",
      "Day 4: 1.776514550091293e-06\n",
      "Day 5: 2.7762297091668577e-06\n",
      "Day 6: 2.6324303970389792e-06\n",
      "Day 7: 2.793904945387603e-06\n",
      "Overall Mean Squared Error: 1.987424851183547e-06\n"
     ]
    }
   ],
   "source": [
    "# Apply early stopping\n",
    "early_stopping = EarlyStopping(monitor='val_loss', patience=5, restore_best_weights=True)\n",
    "\n",
    "history = model.fit(X_train, y_train, epochs=50, batch_size=16, validation_data=(X_test, y_test), callbacks=[early_stopping])\n",
    "\n",
    "# Plot the training and validation loss curves\n",
    "plt.plot(history.history['loss'], 'bo', label='Training loss')\n",
    "plt.plot(history.history['val_loss'], 'b', label='Validation loss')\n",
    "plt.title('Training and Validation loss')\n",
    "plt.xlabel('Epochs')\n",
    "plt.ylabel('Loss')\n",
    "plt.legend()\n",
    "plt.show()\n",
    "\n",
    "# Make predictions using the trained model on the test data\n",
    "predicted = model.predict(X_test)\n",
    "predicted_prices = scaler.inverse_transform(predicted)\n",
    "real_prices = scaler.inverse_transform(y_test)\n",
    "\n",
    "# Calculate the mean squared error for each day\n",
    "mse_by_day = mean_squared_error(real_prices, predicted_prices, multioutput='raw_values')\n",
    "\n",
    "# Create a DataFrame with the real and predicted prices for the first test sample\n",
    "forex = pd.DataFrame({\n",
    "    \"Real\": real_prices[0],\n",
    "    \"Predicted\": predicted_prices[0]\n",
    "})\n",
    "\n",
    "# Plot the real and predicted prices for the first test sample\n",
    "plot = forex.plot.line()\n",
    "plot.set_title(f'Prediction plot for the first test sample')\n",
    "plt.xlabel('Days')\n",
    "plt.ylabel('Price')\n",
    "plt.show()\n",
    "\n",
    "# Print the mean squared error for each day\n",
    "for i, mse in enumerate(mse_by_day):\n",
    "    print(f\"Day {i + 1}: {mse}\")\n",
    "\n",
    "# Calculate and print the overall mean squared error\n",
    "overall_mse = mean_squared_error(real_prices, predicted_prices)\n",
    "print(f\"Overall Mean Squared Error: {overall_mse}\")"
   ]
  },
  {
   "cell_type": "code",
   "execution_count": 282,
   "id": "c184b5b9-80c2-498d-b718-af39a1bd0dad",
   "metadata": {},
   "outputs": [
    {
     "name": "stdout",
     "output_type": "stream",
     "text": [
      "1/1 [==============================] - 0s 20ms/step\n"
     ]
    },
    {
     "data": {
      "image/png": "[encoded data removed]",
      "text/plain": [
       "<Figure size 432x288 with 1 Axes>"
      ]
     },
     "metadata": {
      "needs_background": "light"
     },
     "output_type": "display_data"
    }
   ],
   "source": [
    "from sklearn.metrics import mean_absolute_error, mean_squared_error, r2_score\n",
    "\n",
    "GBPCHF_M5_202304141535_202304242355 = validation_dataframes_M5['GBPCHF_M5_202304141535_202304242355']\n",
    "GBPCHF_M5_202304141535_202304242355 = GBPCHF_M5_202304141535_202304242355.head(7)\n",
    "\n",
    "# Make predictions using the trained model on the last window of historical data\n",
    "last_window = X[-1].reshape(1, window_size, len(feature_columns))\n",
    "predicted_future = model.predict(last_window)\n",
    "predicted_future_prices = scaler.inverse_transform(predicted_future)\n",
    "\n",
    "# Create a DataFrame with the historical data\n",
    "historical_data = data.iloc[:, target_column].values[-window_size:]\n",
    "historical_df = pd.DataFrame({\n",
    "    \"Price\": historical_data,\n",
    "    \"Type\": \"Historical\"\n",
    "})\n",
    "\n",
    "# Create a DataFrame with the predicted future data\n",
    "predicted_data = np.concatenate((historical_data[-1:], predicted_future_prices.ravel()))\n",
    "predicted_df = pd.DataFrame({\n",
    "    \"Price\": predicted_data,\n",
    "    \"Type\": \"Predicted\"\n",
    "}, index=range(len(historical_data) - 1, len(historical_data) + future_days))\n",
    "\n",
    "# Extract validation data from the provided variable\n",
    "validation_data = GBPCHF_M5_202304141535_202304242355.iloc[:, target_column].values\n",
    "\n",
    "# Create a DataFrame with the validation data\n",
    "validation_df = pd.DataFrame({\n",
    "    \"Price\": validation_data,\n",
    "    \"Type\": \"Validation\"\n",
    "}, index=range(len(historical_data) - 1, len(historical_data) - 1 + len(validation_data)))\n",
    "\n",
    "# Concatenate historical, predicted, and validation DataFrames\n",
    "historical_predicted_validation = pd.concat([historical_df, predicted_df, validation_df], axis=0)\n",
    "\n",
    "# Plot the historical, predicted, and validation data\n",
    "ax = historical_predicted_validation[historical_predicted_validation['Type'] == 'Historical']['Price'].plot(color='blue', label='Historical')\n",
    "historical_predicted_validation[historical_predicted_validation['Type'] == 'Predicted']['Price'].plot(color='red', label='Predicted', ax=ax)\n",
    "historical_predicted_validation[historical_predicted_validation['Type'] == 'Validation']['Price'].plot(color='green', label='Validation', ax=ax)\n",
    "plt.title('Historical, Predicted, and Validation Prices')\n",
    "plt.xlabel('Days')\n",
    "plt.ylabel('Price')\n",
    "plt.legend()\n",
    "plt.show()"
   ]
  },
  {
   "cell_type": "code",
   "execution_count": 283,
   "id": "d0786634-f5e0-41b1-be1c-566f8062753a",
   "metadata": {},
   "outputs": [
    {
     "name": "stdout",
     "output_type": "stream",
     "text": [
      "Mean Absolute Error: 0.0007384526010389719\n",
      "Mean Squared Error: 1.987424851183547e-06\n",
      "Root Mean Squared Error: 0.001409760565196639\n",
      "Mean Absolute Percentage Error: 0.06626980451066214\n",
      "R-squared: 0.085772195301465\n",
      "Day 1:\n",
      "  Mean Absolute Error (MAE): 0.0018185760879516621\n",
      "  Mean Squared Error (MSE): 3.3072189876695717e-06\n",
      "  Root Mean Squared Error (RMSE): 0.0018185760879516621\n",
      "  Mean Absolute Percentage Error (MAPE): 0.16361311080886923\n",
      "Day 2:\n",
      "  Mean Absolute Error (MAE): 0.0018687556457519516\n",
      "  Mean Squared Error (MSE): 3.4922476635297937e-06\n",
      "  Root Mean Squared Error (RMSE): 0.0018687556457519516\n",
      "  Mean Absolute Percentage Error (MAPE): 0.16810193992443434\n",
      "Day 3:\n",
      "  Mean Absolute Error (MAE): 0.001410248031616268\n",
      "  Mean Squared Error (MSE): 1.9887995106775582e-06\n",
      "  Root Mean Squared Error (RMSE): 0.001410248031616268\n",
      "  Mean Absolute Percentage Error (MAPE): 0.12681972568738303\n",
      "Day 4:\n",
      "  Mean Absolute Error (MAE): 0.001084046134948835\n",
      "  Mean Squared Error (MSE): 1.1751560226975078e-06\n",
      "  Root Mean Squared Error (RMSE): 0.001084046134948835\n",
      "  Mean Absolute Percentage Error (MAPE): 0.09746512757577817\n",
      "Day 5:\n",
      "  Mean Absolute Error (MAE): 0.0005693773651123113\n",
      "  Mean Squared Error (MSE): 3.2419058390223826e-07\n",
      "  Root Mean Squared Error (RMSE): 0.0005693773651123113\n",
      "  Mean Absolute Percentage Error (MAPE): 0.051177227755115344\n",
      "Day 6:\n",
      "  Mean Absolute Error (MAE): 0.000556720046997139\n",
      "  Mean Squared Error (MSE): 3.099372107284966e-07\n",
      "  Root Mean Squared Error (RMSE): 0.000556720046997139\n",
      "  Mean Absolute Percentage Error (MAPE): 0.05003235737626169\n",
      "Day 7:\n",
      "  Mean Absolute Error (MAE): 0.0011684115982055765\n",
      "  Mean Squared Error (MSE): 1.3651856628213096e-06\n",
      "  Root Mean Squared Error (RMSE): 0.0011684115982055765\n",
      "  Mean Absolute Percentage Error (MAPE): 0.10503614723303666\n"
     ]
    }
   ],
   "source": [
    "from sklearn.metrics import mean_absolute_error, mean_squared_error, r2_score\n",
    "import numpy as np\n",
    "\n",
    "def mean_absolute_percentage_error(y_true, y_pred):\n",
    "    y_true, y_pred = np.array(y_true), np.array(y_pred)\n",
    "    return np.mean(np.abs((y_true - y_pred) / y_true)) * 100\n",
    "\n",
    "# Assuming real_prices and predicted_prices have the correct values\n",
    "mae = mean_absolute_error(real_prices, predicted_prices)\n",
    "mse = mean_squared_error(real_prices, predicted_prices)\n",
    "rmse = np.sqrt(mse)\n",
    "mape = mean_absolute_percentage_error(real_prices, predicted_prices)\n",
    "r2 = r2_score(real_prices, predicted_prices)\n",
    "\n",
    "print(f\"Mean Absolute Error: {mae}\")\n",
    "print(f\"Mean Squared Error: {mse}\")\n",
    "print(f\"Root Mean Squared Error: {rmse}\")\n",
    "print(f\"Mean Absolute Percentage Error: {mape}\")\n",
    "print(f\"R-squared: {r2}\")\n",
    "\n",
    "# Extract the predicted and validation prices for each day\n",
    "predicted_daily_prices = predicted_future_prices[:future_days].reshape(-1, 1)\n",
    "validation_daily_prices = validation_data[:future_days].reshape(-1, 1)\n",
    "\n",
    "# Calculate the metrics for each day\n",
    "for i in range(len(predicted_daily_prices)):\n",
    "    mae = mean_absolute_error(validation_daily_prices[i], predicted_daily_prices[i])\n",
    "    mse = mean_squared_error(validation_daily_prices[i], predicted_daily_prices[i])\n",
    "    rmse = np.sqrt(mse)\n",
    "    mape = mean_absolute_percentage_error(validation_daily_prices[i], predicted_daily_prices[i])\n",
    "\n",
    "    print(f\"Day {i + 1}:\")\n",
    "    print(f\"  Mean Absolute Error (MAE): {mae}\")\n",
    "    print(f\"  Mean Squared Error (MSE): {mse}\")\n",
    "    print(f\"  Root Mean Squared Error (RMSE): {rmse}\")\n",
    "    print(f\"  Mean Absolute Percentage Error (MAPE): {mape}\") \n",
    "    # print(f\"  Accuracy: {accuracy}%\")"
   ]
  },
  {
   "cell_type": "markdown",
   "id": "ad985e91-4a0e-465b-b76b-159dc1da44ee",
   "metadata": {},
   "source": [
    "**GBPJPY_M5**"
   ]
  },
  {
   "cell_type": "code",
   "execution_count": 284,
   "id": "9563897f-127a-4324-b005-d452b1838b77",
   "metadata": {},
   "outputs": [
    {
     "name": "stdout",
     "output_type": "stream",
     "text": [
      "False\n",
      "Target variable: close_wave\n",
      "Selected features:\n",
      "open_wave\n",
      "high_wave\n",
      "low_wave\n",
      "close_wave\n",
      "KAMA\n",
      "bb_bbm\n",
      "bb_bbh\n",
      "bb_bbl\n",
      "EMA\n",
      "SMA13\n",
      "SMA21\n",
      "SMA34\n"
     ]
    }
   ],
   "source": [
    "# data = ta_data_GBPJPY\n",
    "# Uncomment for Prediction using Denoised OHLC + TA values \n",
    "data = ta_denoised_data_GBPJPY\n",
    "\n",
    "# Window size for tuning\n",
    "window_size = 28\n",
    "# Number of future days to predict\n",
    "future_days = 7\n",
    "\n",
    "# Set up window for rolling data\n",
    "def window_data(data, window, feature_col_numbers, target_col_number):\n",
    "    X = []\n",
    "    y = []\n",
    "    for i in range(len(data) - window - future_days):\n",
    "        features = data.iloc[i:(i + window), feature_col_numbers]\n",
    "        target = data.iloc[(i + window):(i + window + future_days), target_col_number]\n",
    "        X.append(features)\n",
    "        y.append(target)\n",
    "    return np.array(X), np.array(y).reshape(-1, future_days)\n",
    "\n",
    "# Features with high correlation for pure data\n",
    "# feature_columns = [1,2,3,4,9,28,29,30,33,37,38,39]\n",
    "\n",
    "# Features with high correlation for Wavelet Denoised data\n",
    "feature_columns = [0,1,2,3,8,27,28,29,32,36,37,38]\n",
    "\n",
    "# target_column = 4 # Close value\n",
    "\n",
    "target_column = 3 # Close value for Denoised Data\n",
    "\n",
    "# Prepare the input and output arrays for the LSTM model\n",
    "X, y = window_data(data, window_size, feature_columns, target_column)\n",
    "\n",
    "# Scale the data using StandardScaler (Z-score normalization)\n",
    "scaler = StandardScaler()\n",
    "X = X.reshape(X.shape[0], -1)\n",
    "X = scaler.fit_transform(X)\n",
    "X = X.reshape(X.shape[0], window_size, len(feature_columns))\n",
    "\n",
    "# # Scale the data using MinMaxScaler\n",
    "# scaler = MinMaxScaler()\n",
    "# X = X.reshape(X.shape[0], -1)\n",
    "# X = scaler.fit_transform(X)\n",
    "# X = X.reshape(X.shape[0], window_size, len(feature_columns))\n",
    "\n",
    "scaler.fit(y)\n",
    "y = scaler.transform(y)\n",
    "\n",
    "# Split the data into training and testing sets\n",
    "split = int(0.8 * len(X))\n",
    "X_train = X[:split]\n",
    "X_test = X[split:]\n",
    "y_train = y[:split]\n",
    "y_test = y[split:]\n",
    "\n",
    "def impute_missing_values(X):\n",
    "    for i in range(X.shape[2]):\n",
    "        feature_values = X[:, :, i].flatten()\n",
    "        feature_mean = np.nanmean(feature_values)\n",
    "        feature_isnan = np.isnan(X[:, :, i])\n",
    "        X[:, :, i][feature_isnan] = feature_mean\n",
    "    return X\n",
    "\n",
    "X_train = impute_missing_values(X_train)\n",
    "X_test = impute_missing_values(X_test)\n",
    "\n",
    "print(np.isnan(X_train).any())\n",
    "\n",
    "print(f\"Target variable: {data.columns[target_column]}\")\n",
    "print(\"Selected features:\")\n",
    "for col in feature_columns:\n",
    "    print(data.columns[col])   "
   ]
  },
  {
   "cell_type": "code",
   "execution_count": 285,
   "id": "fead300d-5906-4f9b-9528-47e0cfb4f47d",
   "metadata": {},
   "outputs": [
    {
     "name": "stdout",
     "output_type": "stream",
     "text": [
      "Epoch 1/50\n",
      "49/49 [==============================] - 1s 20ms/step - loss: 0.2995 - val_loss: 0.0537\n",
      "Epoch 2/50\n",
      "49/49 [==============================] - 1s 20ms/step - loss: 0.2140 - val_loss: 0.1294\n",
      "Epoch 3/50\n",
      "49/49 [==============================] - 1s 20ms/step - loss: 0.1675 - val_loss: 0.0800\n",
      "Epoch 4/50\n",
      "49/49 [==============================] - 1s 20ms/step - loss: 0.1564 - val_loss: 0.1121\n",
      "Epoch 5/50\n",
      "49/49 [==============================] - 1s 20ms/step - loss: 0.1796 - val_loss: 0.0493\n",
      "Epoch 6/50\n",
      "49/49 [==============================] - 1s 20ms/step - loss: 0.1440 - val_loss: 0.0350\n",
      "Epoch 7/50\n",
      "49/49 [==============================] - 1s 20ms/step - loss: 0.1500 - val_loss: 0.0303\n",
      "Epoch 8/50\n",
      "49/49 [==============================] - 1s 20ms/step - loss: 0.1103 - val_loss: 0.0263\n",
      "Epoch 9/50\n",
      "49/49 [==============================] - 1s 19ms/step - loss: 0.1187 - val_loss: 0.0904\n",
      "Epoch 10/50\n",
      "49/49 [==============================] - 1s 20ms/step - loss: 0.0931 - val_loss: 0.0637\n",
      "Epoch 11/50\n",
      "49/49 [==============================] - 1s 20ms/step - loss: 0.0899 - val_loss: 0.1179\n",
      "Epoch 12/50\n",
      "49/49 [==============================] - 1s 20ms/step - loss: 0.0969 - val_loss: 0.0841\n",
      "Epoch 13/50\n",
      "49/49 [==============================] - 1s 20ms/step - loss: 0.0939 - val_loss: 0.0433\n"
     ]
    },
    {
     "data": {
      "image/png": "[encoded data removed]",
      "text/plain": [
       "<Figure size 432x288 with 1 Axes>"
      ]
     },
     "metadata": {
      "needs_background": "light"
     },
     "output_type": "display_data"
    },
    {
     "name": "stdout",
     "output_type": "stream",
     "text": [
      "7/7 [==============================] - 0s 11ms/step\n"
     ]
    },
    {
     "data": {
      "image/png": "[encoded data removed]",
      "text/plain": [
       "<Figure size 432x288 with 1 Axes>"
      ]
     },
     "metadata": {
      "needs_background": "light"
     },
     "output_type": "display_data"
    },
    {
     "name": "stdout",
     "output_type": "stream",
     "text": [
      "Day 1: 0.0009353731467346918\n",
      "Day 2: 0.0009733613242627362\n",
      "Day 3: 0.0015983865709767813\n",
      "Day 4: 0.0016270176703899143\n",
      "Day 5: 0.0013441673396554317\n",
      "Day 6: 0.002031589460735285\n",
      "Day 7: 0.0034200255614392243\n",
      "Overall Mean Squared Error: 0.0017042744391705805\n"
     ]
    }
   ],
   "source": [
    "# Apply early stopping\n",
    "early_stopping = EarlyStopping(monitor='val_loss', patience=5, restore_best_weights=True)\n",
    "\n",
    "history = model.fit(X_train, y_train, epochs=50, batch_size=16, validation_data=(X_test, y_test), callbacks=[early_stopping])\n",
    "\n",
    "# Plot the training and validation loss curves\n",
    "plt.plot(history.history['loss'], 'bo', label='Training loss')\n",
    "plt.plot(history.history['val_loss'], 'b', label='Validation loss')\n",
    "plt.title('Training and Validation loss')\n",
    "plt.xlabel('Epochs')\n",
    "plt.ylabel('Loss')\n",
    "plt.legend()\n",
    "plt.show()\n",
    "\n",
    "# Make predictions using the trained model on the test data\n",
    "predicted = model.predict(X_test)\n",
    "predicted_prices = scaler.inverse_transform(predicted)\n",
    "real_prices = scaler.inverse_transform(y_test)\n",
    "\n",
    "# Calculate the mean squared error for each day\n",
    "mse_by_day = mean_squared_error(real_prices, predicted_prices, multioutput='raw_values')\n",
    "\n",
    "# Create a DataFrame with the real and predicted prices for the first test sample\n",
    "forex = pd.DataFrame({\n",
    "    \"Real\": real_prices[0],\n",
    "    \"Predicted\": predicted_prices[0]\n",
    "})\n",
    "\n",
    "# Plot the real and predicted prices for the first test sample\n",
    "plot = forex.plot.line()\n",
    "plot.set_title(f'Prediction plot for the first test sample')\n",
    "plt.xlabel('Days')\n",
    "plt.ylabel('Price')\n",
    "plt.show()\n",
    "\n",
    "# Print the mean squared error for each day\n",
    "for i, mse in enumerate(mse_by_day):\n",
    "    print(f\"Day {i + 1}: {mse}\")\n",
    "\n",
    "# Calculate and print the overall mean squared error\n",
    "overall_mse = mean_squared_error(real_prices, predicted_prices)\n",
    "print(f\"Overall Mean Squared Error: {overall_mse}\")"
   ]
  },
  {
   "cell_type": "code",
   "execution_count": 286,
   "id": "f004cb42-ddc2-468d-9e30-338473ec5806",
   "metadata": {},
   "outputs": [
    {
     "name": "stdout",
     "output_type": "stream",
     "text": [
      "1/1 [==============================] - 0s 19ms/step\n"
     ]
    },
    {
     "data": {
      "image/png": "[encoded data removed]",
      "text/plain": [
       "<Figure size 432x288 with 1 Axes>"
      ]
     },
     "metadata": {
      "needs_background": "light"
     },
     "output_type": "display_data"
    }
   ],
   "source": [
    "from sklearn.metrics import mean_absolute_error, mean_squared_error, r2_score\n",
    "\n",
    "GBPJPY_M5_202304141535_202304242355 = validation_dataframes_M5['GBPJPY_M5_202304141535_202304242355']\n",
    "GBPJPY_M5_202304141535_202304242355 = GBPJPY_M5_202304141535_202304242355.head(7)\n",
    "\n",
    "# Make predictions using the trained model on the last window of historical data\n",
    "last_window = X[-1].reshape(1, window_size, len(feature_columns))\n",
    "predicted_future = model.predict(last_window)\n",
    "predicted_future_prices = scaler.inverse_transform(predicted_future)\n",
    "\n",
    "# Create a DataFrame with the historical data\n",
    "historical_data = data.iloc[:, target_column].values[-window_size:]\n",
    "historical_df = pd.DataFrame({\n",
    "    \"Price\": historical_data,\n",
    "    \"Type\": \"Historical\"\n",
    "})\n",
    "\n",
    "# Create a DataFrame with the predicted future data\n",
    "predicted_data = np.concatenate((historical_data[-1:], predicted_future_prices.ravel()))\n",
    "predicted_df = pd.DataFrame({\n",
    "    \"Price\": predicted_data,\n",
    "    \"Type\": \"Predicted\"\n",
    "}, index=range(len(historical_data) - 1, len(historical_data) + future_days))\n",
    "\n",
    "# Extract validation data from the provided variable\n",
    "validation_data = GBPJPY_M5_202304141535_202304242355.iloc[:, target_column].values\n",
    "\n",
    "# Create a DataFrame with the validation data\n",
    "validation_df = pd.DataFrame({\n",
    "    \"Price\": validation_data,\n",
    "    \"Type\": \"Validation\"\n",
    "}, index=range(len(historical_data) - 1, len(historical_data) - 1 + len(validation_data)))\n",
    "\n",
    "# Concatenate historical, predicted, and validation DataFrames\n",
    "historical_predicted_validation = pd.concat([historical_df, predicted_df, validation_df], axis=0)\n",
    "\n",
    "# Plot the historical, predicted, and validation data\n",
    "ax = historical_predicted_validation[historical_predicted_validation['Type'] == 'Historical']['Price'].plot(color='blue', label='Historical')\n",
    "historical_predicted_validation[historical_predicted_validation['Type'] == 'Predicted']['Price'].plot(color='red', label='Predicted', ax=ax)\n",
    "historical_predicted_validation[historical_predicted_validation['Type'] == 'Validation']['Price'].plot(color='green', label='Validation', ax=ax)\n",
    "plt.title('Historical, Predicted, and Validation Prices')\n",
    "plt.xlabel('Days')\n",
    "plt.ylabel('Price')\n",
    "plt.legend()\n",
    "plt.show()"
   ]
  },
  {
   "cell_type": "code",
   "execution_count": 287,
   "id": "e52eab6e-ef48-4fd7-b1ac-78d9b0db8ea6",
   "metadata": {},
   "outputs": [
    {
     "name": "stdout",
     "output_type": "stream",
     "text": [
      "Mean Absolute Error: 0.029389107535454033\n",
      "Mean Squared Error: 0.0017042744391705805\n",
      "Root Mean Squared Error: 0.04128285890258305\n",
      "Mean Absolute Percentage Error: 0.01772266732160922\n",
      "R-squared: 0.8531863941258709\n",
      "Day 1:\n",
      "  Mean Absolute Error (MAE): 0.050284790039057725\n",
      "  Mean Squared Error (MSE): 0.002528560109272119\n",
      "  Root Mean Squared Error (RMSE): 0.050284790039057725\n",
      "  Mean Absolute Percentage Error (MAPE): 0.030337914581118272\n",
      "Day 2:\n",
      "  Mean Absolute Error (MAE): 0.1530493164062534\n",
      "  Mean Squared Error (MSE): 0.02342409325242147\n",
      "  Root Mean Squared Error (RMSE): 0.1530493164062534\n",
      "  Mean Absolute Percentage Error (MAPE): 0.09228733502547842\n",
      "Day 3:\n",
      "  Mean Absolute Error (MAE): 0.19370117187500568\n",
      "  Mean Squared Error (MSE): 0.037520143985750494\n",
      "  Root Mean Squared Error (RMSE): 0.19370117187500568\n",
      "  Mean Absolute Percentage Error (MAPE): 0.1167577889541927\n",
      "Day 4:\n",
      "  Mean Absolute Error (MAE): 0.25254748535155613\n",
      "  Mean Squared Error (MSE): 0.06378023235739445\n",
      "  Root Mean Squared Error (RMSE): 0.25254748535155613\n",
      "  Mean Absolute Percentage Error (MAPE): 0.15217645857153128\n",
      "Day 5:\n",
      "  Mean Absolute Error (MAE): 0.26007006835936863\n",
      "  Mean Squared Error (MSE): 0.06763644045644668\n",
      "  Root Mean Squared Error (RMSE): 0.26007006835936863\n",
      "  Mean Absolute Percentage Error (MAPE): 0.15670930925442653\n",
      "Day 6:\n",
      "  Mean Absolute Error (MAE): 0.3158325195312557\n",
      "  Mean Squared Error (MSE): 0.09975018039346101\n",
      "  Root Mean Squared Error (RMSE): 0.3158325195312557\n",
      "  Mean Absolute Percentage Error (MAPE): 0.19023190455127584\n",
      "Day 7:\n",
      "  Mean Absolute Error (MAE): 0.2351154785156382\n",
      "  Mean Squared Error (MSE): 0.055279288237637524\n",
      "  Root Mean Squared Error (RMSE): 0.2351154785156382\n",
      "  Mean Absolute Percentage Error (MAPE): 0.1416588713318661\n"
     ]
    }
   ],
   "source": [
    "from sklearn.metrics import mean_absolute_error, mean_squared_error, r2_score\n",
    "import numpy as np\n",
    "\n",
    "def mean_absolute_percentage_error(y_true, y_pred):\n",
    "    y_true, y_pred = np.array(y_true), np.array(y_pred)\n",
    "    return np.mean(np.abs((y_true - y_pred) / y_true)) * 100\n",
    "\n",
    "# Assuming real_prices and predicted_prices have the correct values\n",
    "mae = mean_absolute_error(real_prices, predicted_prices)\n",
    "mse = mean_squared_error(real_prices, predicted_prices)\n",
    "rmse = np.sqrt(mse)\n",
    "mape = mean_absolute_percentage_error(real_prices, predicted_prices)\n",
    "r2 = r2_score(real_prices, predicted_prices)\n",
    "\n",
    "print(f\"Mean Absolute Error: {mae}\")\n",
    "print(f\"Mean Squared Error: {mse}\")\n",
    "print(f\"Root Mean Squared Error: {rmse}\")\n",
    "print(f\"Mean Absolute Percentage Error: {mape}\")\n",
    "print(f\"R-squared: {r2}\")\n",
    "\n",
    "# Extract the predicted and validation prices for each day\n",
    "predicted_daily_prices = predicted_future_prices[:future_days].reshape(-1, 1)\n",
    "validation_daily_prices = validation_data[:future_days].reshape(-1, 1)\n",
    "\n",
    "# Calculate the metrics for each day\n",
    "for i in range(len(predicted_daily_prices)):\n",
    "    mae = mean_absolute_error(validation_daily_prices[i], predicted_daily_prices[i])\n",
    "    mse = mean_squared_error(validation_daily_prices[i], predicted_daily_prices[i])\n",
    "    rmse = np.sqrt(mse)\n",
    "    mape = mean_absolute_percentage_error(validation_daily_prices[i], predicted_daily_prices[i])\n",
    "\n",
    "    print(f\"Day {i + 1}:\")\n",
    "    print(f\"  Mean Absolute Error (MAE): {mae}\")\n",
    "    print(f\"  Mean Squared Error (MSE): {mse}\")\n",
    "    print(f\"  Root Mean Squared Error (RMSE): {rmse}\")\n",
    "    print(f\"  Mean Absolute Percentage Error (MAPE): {mape}\") \n",
    "    # print(f\"  Accuracy: {accuracy}%\")"
   ]
  },
  {
   "cell_type": "markdown",
   "id": "41563c8a-ad5c-431e-8934-97df799aa4ad",
   "metadata": {},
   "source": [
    "**GBPUSD_M5**"
   ]
  },
  {
   "cell_type": "code",
   "execution_count": 288,
   "id": "9ced6c0b-ded9-4409-9787-873a7dcb2f3e",
   "metadata": {},
   "outputs": [
    {
     "name": "stdout",
     "output_type": "stream",
     "text": [
      "False\n",
      "Target variable: close_wave\n",
      "Selected features:\n",
      "open_wave\n",
      "high_wave\n",
      "low_wave\n",
      "close_wave\n",
      "KAMA\n",
      "bb_bbm\n",
      "bb_bbh\n",
      "bb_bbl\n",
      "EMA\n",
      "SMA13\n",
      "SMA21\n",
      "SMA34\n"
     ]
    }
   ],
   "source": [
    "# data = ta_data_GBPUSD\n",
    "# Uncomment for Prediction using Denoised OHLC + TA values \n",
    "data = ta_denoised_data_GBPUSD\n",
    "\n",
    "# Window size for tuning\n",
    "window_size = 28\n",
    "# Number of future days to predict\n",
    "future_days = 7\n",
    "\n",
    "# Set up window for rolling data\n",
    "def window_data(data, window, feature_col_numbers, target_col_number):\n",
    "    X = []\n",
    "    y = []\n",
    "    for i in range(len(data) - window - future_days):\n",
    "        features = data.iloc[i:(i + window), feature_col_numbers]\n",
    "        target = data.iloc[(i + window):(i + window + future_days), target_col_number]\n",
    "        X.append(features)\n",
    "        y.append(target)\n",
    "    return np.array(X), np.array(y).reshape(-1, future_days)\n",
    "\n",
    "# Features with high correlation for pure data\n",
    "# feature_columns = [1,2,3,4,9,28,29,30,33,37,38,39]\n",
    "\n",
    "# Features with high correlation for Wavelet Denoised data\n",
    "feature_columns = [0,1,2,3,8,27,28,29,32,36,37,38]\n",
    "\n",
    "# target_column = 4 # Close value\n",
    "\n",
    "target_column = 3 # Close value for Denoised Data\n",
    "\n",
    "# Prepare the input and output arrays for the LSTM model\n",
    "X, y = window_data(data, window_size, feature_columns, target_column)\n",
    "\n",
    "# Scale the data using StandardScaler (Z-score normalization)\n",
    "scaler = StandardScaler()\n",
    "X = X.reshape(X.shape[0], -1)\n",
    "X = scaler.fit_transform(X)\n",
    "X = X.reshape(X.shape[0], window_size, len(feature_columns))\n",
    "\n",
    "# # Scale the data using MinMaxScaler\n",
    "# scaler = MinMaxScaler()\n",
    "# X = X.reshape(X.shape[0], -1)\n",
    "# X = scaler.fit_transform(X)\n",
    "# X = X.reshape(X.shape[0], window_size, len(feature_columns))\n",
    "\n",
    "scaler.fit(y)\n",
    "y = scaler.transform(y)\n",
    "\n",
    "# Split the data into training and testing sets\n",
    "split = int(0.8 * len(X))\n",
    "X_train = X[:split]\n",
    "X_test = X[split:]\n",
    "y_train = y[:split]\n",
    "y_test = y[split:]\n",
    "\n",
    "def impute_missing_values(X):\n",
    "    for i in range(X.shape[2]):\n",
    "        feature_values = X[:, :, i].flatten()\n",
    "        feature_mean = np.nanmean(feature_values)\n",
    "        feature_isnan = np.isnan(X[:, :, i])\n",
    "        X[:, :, i][feature_isnan] = feature_mean\n",
    "    return X\n",
    "\n",
    "X_train = impute_missing_values(X_train)\n",
    "X_test = impute_missing_values(X_test)\n",
    "\n",
    "print(np.isnan(X_train).any())\n",
    "\n",
    "print(f\"Target variable: {data.columns[target_column]}\")\n",
    "print(\"Selected features:\")\n",
    "for col in feature_columns:\n",
    "    print(data.columns[col])"
   ]
  },
  {
   "cell_type": "code",
   "execution_count": 289,
   "id": "cea81ff4-785e-4fee-979c-47d005a29a10",
   "metadata": {},
   "outputs": [
    {
     "name": "stdout",
     "output_type": "stream",
     "text": [
      "Epoch 1/50\n",
      "49/49 [==============================] - 1s 20ms/step - loss: 0.2364 - val_loss: 0.0569\n",
      "Epoch 2/50\n",
      "49/49 [==============================] - 1s 20ms/step - loss: 0.1414 - val_loss: 0.0510\n",
      "Epoch 3/50\n",
      "49/49 [==============================] - 1s 21ms/step - loss: 0.0703 - val_loss: 0.0502\n",
      "Epoch 4/50\n",
      "49/49 [==============================] - 1s 20ms/step - loss: 0.0940 - val_loss: 0.0360\n",
      "Epoch 5/50\n",
      "49/49 [==============================] - 1s 20ms/step - loss: 0.0703 - val_loss: 0.0474\n",
      "Epoch 6/50\n",
      "49/49 [==============================] - 1s 20ms/step - loss: 0.0619 - val_loss: 0.0676\n",
      "Epoch 7/50\n",
      "49/49 [==============================] - 1s 20ms/step - loss: 0.0682 - val_loss: 0.0616\n",
      "Epoch 8/50\n",
      "49/49 [==============================] - 1s 20ms/step - loss: 0.0728 - val_loss: 0.0836\n",
      "Epoch 9/50\n",
      "49/49 [==============================] - 1s 20ms/step - loss: 0.0776 - val_loss: 0.1022\n"
     ]
    },
    {
     "data": {
      "image/png": "[encoded data removed]",
      "text/plain": [
       "<Figure size 432x288 with 1 Axes>"
      ]
     },
     "metadata": {
      "needs_background": "light"
     },
     "output_type": "display_data"
    },
    {
     "name": "stdout",
     "output_type": "stream",
     "text": [
      "7/7 [==============================] - 0s 7ms/step\n"
     ]
    },
    {
     "data": {
      "image/png": "[encoded data removed]",
      "text/plain": [
       "<Figure size 432x288 with 1 Axes>"
      ]
     },
     "metadata": {
      "needs_background": "light"
     },
     "output_type": "display_data"
    },
    {
     "name": "stdout",
     "output_type": "stream",
     "text": [
      "Day 1: 7.767385963723378e-07\n",
      "Day 2: 5.124795021436956e-07\n",
      "Day 3: 4.3387625986204735e-07\n",
      "Day 4: 4.827056047781651e-07\n",
      "Day 5: 8.678199441021208e-07\n",
      "Day 6: 8.940703680164153e-07\n",
      "Day 7: 8.24861431219164e-07\n",
      "Overall Mean Squared Error: 6.846502437848494e-07\n"
     ]
    }
   ],
   "source": [
    "# Apply early stopping\n",
    "early_stopping = EarlyStopping(monitor='val_loss', patience=5, restore_best_weights=True)\n",
    "\n",
    "history = model.fit(X_train, y_train, epochs=50, batch_size=16, validation_data=(X_test, y_test), callbacks=[early_stopping])\n",
    "\n",
    "# Plot the training and validation loss curves\n",
    "plt.plot(history.history['loss'], 'bo', label='Training loss')\n",
    "plt.plot(history.history['val_loss'], 'b', label='Validation loss')\n",
    "plt.title('Training and Validation loss')\n",
    "plt.xlabel('Epochs')\n",
    "plt.ylabel('Loss')\n",
    "plt.legend()\n",
    "plt.show()\n",
    "\n",
    "# Make predictions using the trained model on the test data\n",
    "predicted = model.predict(X_test)\n",
    "predicted_prices = scaler.inverse_transform(predicted)\n",
    "real_prices = scaler.inverse_transform(y_test)\n",
    "\n",
    "# Calculate the mean squared error for each day\n",
    "mse_by_day = mean_squared_error(real_prices, predicted_prices, multioutput='raw_values')\n",
    "\n",
    "# Create a DataFrame with the real and predicted prices for the first test sample\n",
    "forex = pd.DataFrame({\n",
    "    \"Real\": real_prices[0],\n",
    "    \"Predicted\": predicted_prices[0]\n",
    "})\n",
    "\n",
    "# Plot the real and predicted prices for the first test sample\n",
    "plot = forex.plot.line()\n",
    "plot.set_title(f'Prediction plot for the first test sample')\n",
    "plt.xlabel('Days')\n",
    "plt.ylabel('Price')\n",
    "plt.show()\n",
    "\n",
    "# Print the mean squared error for each day\n",
    "for i, mse in enumerate(mse_by_day):\n",
    "    print(f\"Day {i + 1}: {mse}\")\n",
    "\n",
    "# Calculate and print the overall mean squared error\n",
    "overall_mse = mean_squared_error(real_prices, predicted_prices)\n",
    "print(f\"Overall Mean Squared Error: {overall_mse}\")"
   ]
  },
  {
   "cell_type": "code",
   "execution_count": 290,
   "id": "7af0e877-702a-47a5-a9ff-73d92876dd92",
   "metadata": {},
   "outputs": [
    {
     "name": "stdout",
     "output_type": "stream",
     "text": [
      "1/1 [==============================] - 0s 17ms/step\n"
     ]
    },
    {
     "data": {
      "image/png": "[encoded data removed]",
      "text/plain": [
       "<Figure size 432x288 with 1 Axes>"
      ]
     },
     "metadata": {
      "needs_background": "light"
     },
     "output_type": "display_data"
    }
   ],
   "source": [
    "from sklearn.metrics import mean_absolute_error, mean_squared_error, r2_score\n",
    "\n",
    "GBPUSD_M5_202304141535_202304242355 = validation_dataframes_M5['GBPUSD_M5_202304141535_202304242355']\n",
    "GBPUSD_M5_202304141535_202304242355 = GBPUSD_M5_202304141535_202304242355.head(7)\n",
    "\n",
    "# Make predictions using the trained model on the last window of historical data\n",
    "last_window = X[-1].reshape(1, window_size, len(feature_columns))\n",
    "predicted_future = model.predict(last_window)\n",
    "predicted_future_prices = scaler.inverse_transform(predicted_future)\n",
    "\n",
    "# Create a DataFrame with the historical data\n",
    "historical_data = data.iloc[:, target_column].values[-window_size:]\n",
    "historical_df = pd.DataFrame({\n",
    "    \"Price\": historical_data,\n",
    "    \"Type\": \"Historical\"\n",
    "})\n",
    "\n",
    "# Create a DataFrame with the predicted future data\n",
    "predicted_data = np.concatenate((historical_data[-1:], predicted_future_prices.ravel()))\n",
    "predicted_df = pd.DataFrame({\n",
    "    \"Price\": predicted_data,\n",
    "    \"Type\": \"Predicted\"\n",
    "}, index=range(len(historical_data) - 1, len(historical_data) + future_days))\n",
    "\n",
    "# Extract validation data from the provided variable\n",
    "validation_data = GBPUSD_M5_202304141535_202304242355.iloc[:, target_column].values\n",
    "\n",
    "# Create a DataFrame with the validation data\n",
    "validation_df = pd.DataFrame({\n",
    "    \"Price\": validation_data,\n",
    "    \"Type\": \"Validation\"\n",
    "}, index=range(len(historical_data) - 1, len(historical_data) - 1 + len(validation_data)))\n",
    "\n",
    "# Concatenate historical, predicted, and validation DataFrames\n",
    "historical_predicted_validation = pd.concat([historical_df, predicted_df, validation_df], axis=0)\n",
    "\n",
    "# Plot the historical, predicted, and validation data\n",
    "ax = historical_predicted_validation[historical_predicted_validation['Type'] == 'Historical']['Price'].plot(color='blue', label='Historical')\n",
    "historical_predicted_validation[historical_predicted_validation['Type'] == 'Predicted']['Price'].plot(color='red', label='Predicted', ax=ax)\n",
    "historical_predicted_validation[historical_predicted_validation['Type'] == 'Validation']['Price'].plot(color='green', label='Validation', ax=ax)\n",
    "plt.title('Historical, Predicted, and Validation Prices')\n",
    "plt.xlabel('Days')\n",
    "plt.ylabel('Price')\n",
    "plt.legend()\n",
    "plt.show()"
   ]
  },
  {
   "cell_type": "code",
   "execution_count": 291,
   "id": "b4dcbca9-f295-4f17-9ae5-a3dac99df016",
   "metadata": {},
   "outputs": [
    {
     "name": "stdout",
     "output_type": "stream",
     "text": [
      "Mean Absolute Error: 0.0007040718479359198\n",
      "Mean Squared Error: 6.846502437848494e-07\n",
      "Root Mean Squared Error: 0.0008274359454271065\n",
      "Mean Absolute Percentage Error: 0.056230733285776865\n",
      "R-squared: 0.8375831851100803\n",
      "Day 1:\n",
      "  Mean Absolute Error (MAE): 0.0006826136779785053\n",
      "  Mean Squared Error (MSE): 4.6596143336334244e-07\n",
      "  Root Mean Squared Error (RMSE): 0.0006826136779785053\n",
      "  Mean Absolute Percentage Error (MAPE): 0.05475452224937476\n",
      "Day 2:\n",
      "  Mean Absolute Error (MAE): 0.001179485549926751\n",
      "  Mean Squared Error (MSE): 1.39118616248601e-06\n",
      "  Root Mean Squared Error (RMSE): 0.001179485549926751\n",
      "  Mean Absolute Percentage Error (MAPE): 0.09462303149808271\n",
      "Day 3:\n",
      "  Mean Absolute Error (MAE): 0.0011108557128907126\n",
      "  Mean Squared Error (MSE): 1.2340004148619333e-06\n",
      "  Root Mean Squared Error (RMSE): 0.0011108557128907126\n",
      "  Mean Absolute Percentage Error (MAPE): 0.08912799776073628\n",
      "Day 4:\n",
      "  Mean Absolute Error (MAE): 0.000680979461670006\n",
      "  Mean Squared Error (MSE): 4.637330272163712e-07\n",
      "  Root Mean Squared Error (RMSE): 0.000680979461670006\n",
      "  Mean Absolute Percentage Error (MAPE): 0.054630009840918876\n",
      "Day 5:\n",
      "  Mean Absolute Error (MAE): 0.0004114155578613943\n",
      "  Mean Squared Error (MSE): 1.6926276125040227e-07\n",
      "  Root Mean Squared Error (RMSE): 0.0004114155578613943\n",
      "  Mean Absolute Percentage Error (MAPE): 0.03299851278595044\n",
      "Day 6:\n",
      "  Mean Absolute Error (MAE): 0.000674430236816459\n",
      "  Mean Squared Error (MSE): 4.548561443323049e-07\n",
      "  Root Mean Squared Error (RMSE): 0.000674430236816459\n",
      "  Mean Absolute Percentage Error (MAPE): 0.054036121561117124\n",
      "Day 7:\n",
      "  Mean Absolute Error (MAE): 0.0005835535049438789\n",
      "  Mean Squared Error (MSE): 3.405346931322857e-07\n",
      "  Root Mean Squared Error (RMSE): 0.0005835535049438789\n",
      "  Mean Absolute Percentage Error (MAPE): 0.04677033781709376\n"
     ]
    }
   ],
   "source": [
    "from sklearn.metrics import mean_absolute_error, mean_squared_error, r2_score\n",
    "import numpy as np\n",
    "\n",
    "def mean_absolute_percentage_error(y_true, y_pred):\n",
    "    y_true, y_pred = np.array(y_true), np.array(y_pred)\n",
    "    return np.mean(np.abs((y_true - y_pred) / y_true)) * 100\n",
    "\n",
    "# Assuming real_prices and predicted_prices have the correct values\n",
    "mae = mean_absolute_error(real_prices, predicted_prices)\n",
    "mse = mean_squared_error(real_prices, predicted_prices)\n",
    "rmse = np.sqrt(mse)\n",
    "mape = mean_absolute_percentage_error(real_prices, predicted_prices)\n",
    "r2 = r2_score(real_prices, predicted_prices)\n",
    "\n",
    "print(f\"Mean Absolute Error: {mae}\")\n",
    "print(f\"Mean Squared Error: {mse}\")\n",
    "print(f\"Root Mean Squared Error: {rmse}\")\n",
    "print(f\"Mean Absolute Percentage Error: {mape}\")\n",
    "print(f\"R-squared: {r2}\")\n",
    "\n",
    "# Extract the predicted and validation prices for each day\n",
    "predicted_daily_prices = predicted_future_prices[:future_days].reshape(-1, 1)\n",
    "validation_daily_prices = validation_data[:future_days].reshape(-1, 1)\n",
    "\n",
    "# Calculate the metrics for each day\n",
    "for i in range(len(predicted_daily_prices)):\n",
    "    mae = mean_absolute_error(validation_daily_prices[i], predicted_daily_prices[i])\n",
    "    mse = mean_squared_error(validation_daily_prices[i], predicted_daily_prices[i])\n",
    "    rmse = np.sqrt(mse)\n",
    "    mape = mean_absolute_percentage_error(validation_daily_prices[i], predicted_daily_prices[i])\n",
    "\n",
    "    print(f\"Day {i + 1}:\")\n",
    "    print(f\"  Mean Absolute Error (MAE): {mae}\")\n",
    "    print(f\"  Mean Squared Error (MSE): {mse}\")\n",
    "    print(f\"  Root Mean Squared Error (RMSE): {rmse}\")\n",
    "    print(f\"  Mean Absolute Percentage Error (MAPE): {mape}\") \n",
    "    # print(f\"  Accuracy: {accuracy}%\")"
   ]
  },
  {
   "cell_type": "markdown",
   "id": "3dcd9b86-1ea0-4068-9f75-ab0f5f487dbe",
   "metadata": {},
   "source": [
    "**USDCHF_M5**"
   ]
  },
  {
   "cell_type": "code",
   "execution_count": 292,
   "id": "10751f12-33f8-4028-9a33-65740e3761b9",
   "metadata": {},
   "outputs": [
    {
     "name": "stdout",
     "output_type": "stream",
     "text": [
      "False\n",
      "Target variable: close_wave\n",
      "Selected features:\n",
      "open_wave\n",
      "high_wave\n",
      "low_wave\n",
      "close_wave\n",
      "KAMA\n",
      "bb_bbm\n",
      "bb_bbh\n",
      "bb_bbl\n",
      "EMA\n",
      "SMA13\n",
      "SMA21\n",
      "SMA34\n"
     ]
    }
   ],
   "source": [
    "# data = ta_data_USDCHF\n",
    "# Uncomment for Prediction using Denoised OHLC + TA values \n",
    "data = ta_denoised_data_USDCHF\n",
    "\n",
    "# Window size for tuning\n",
    "window_size = 28\n",
    "# Number of future days to predict\n",
    "future_days = 7\n",
    "\n",
    "# Set up window for rolling data\n",
    "def window_data(data, window, feature_col_numbers, target_col_number):\n",
    "    X = []\n",
    "    y = []\n",
    "    for i in range(len(data) - window - future_days):\n",
    "        features = data.iloc[i:(i + window), feature_col_numbers]\n",
    "        target = data.iloc[(i + window):(i + window + future_days), target_col_number]\n",
    "        X.append(features)\n",
    "        y.append(target)\n",
    "    return np.array(X), np.array(y).reshape(-1, future_days)\n",
    "\n",
    "# Features with high correlation for pure data\n",
    "# feature_columns = [1,2,3,4,9,28,29,30,33,37,38,39]\n",
    "\n",
    "# Features with high correlation for Wavelet Denoised data\n",
    "feature_columns = [0,1,2,3,8,27,28,29,32,36,37,38]\n",
    "\n",
    "# target_column = 4 # Close value\n",
    "\n",
    "target_column = 3 # Close value for Denoised Data\n",
    "\n",
    "# Prepare the input and output arrays for the LSTM model\n",
    "X, y = window_data(data, window_size, feature_columns, target_column)\n",
    "\n",
    "# Scale the data using StandardScaler (Z-score normalization)\n",
    "scaler = StandardScaler()\n",
    "X = X.reshape(X.shape[0], -1)\n",
    "X = scaler.fit_transform(X)\n",
    "X = X.reshape(X.shape[0], window_size, len(feature_columns))\n",
    "\n",
    "# # Scale the data using MinMaxScaler\n",
    "# scaler = MinMaxScaler()\n",
    "# X = X.reshape(X.shape[0], -1)\n",
    "# X = scaler.fit_transform(X)\n",
    "# X = X.reshape(X.shape[0], window_size, len(feature_columns))\n",
    "\n",
    "scaler.fit(y)\n",
    "y = scaler.transform(y)\n",
    "\n",
    "# Split the data into training and testing sets\n",
    "split = int(0.8 * len(X))\n",
    "X_train = X[:split]\n",
    "X_test = X[split:]\n",
    "y_train = y[:split]\n",
    "y_test = y[split:]\n",
    "\n",
    "def impute_missing_values(X):\n",
    "    for i in range(X.shape[2]):\n",
    "        feature_values = X[:, :, i].flatten()\n",
    "        feature_mean = np.nanmean(feature_values)\n",
    "        feature_isnan = np.isnan(X[:, :, i])\n",
    "        X[:, :, i][feature_isnan] = feature_mean\n",
    "    return X\n",
    "\n",
    "X_train = impute_missing_values(X_train)\n",
    "X_test = impute_missing_values(X_test)\n",
    "\n",
    "print(np.isnan(X_train).any())\n",
    "\n",
    "print(f\"Target variable: {data.columns[target_column]}\")\n",
    "print(\"Selected features:\")\n",
    "for col in feature_columns:\n",
    "    print(data.columns[col])"
   ]
  },
  {
   "cell_type": "code",
   "execution_count": 293,
   "id": "a40ad006-4c5d-4cfe-9bd0-c1d30bf0f6ef",
   "metadata": {},
   "outputs": [
    {
     "name": "stdout",
     "output_type": "stream",
     "text": [
      "Epoch 1/50\n",
      "49/49 [==============================] - 1s 20ms/step - loss: 0.2867 - val_loss: 0.0912\n",
      "Epoch 2/50\n",
      "49/49 [==============================] - 1s 20ms/step - loss: 0.1586 - val_loss: 0.0950\n",
      "Epoch 3/50\n",
      "49/49 [==============================] - 1s 20ms/step - loss: 0.1117 - val_loss: 0.0790\n",
      "Epoch 4/50\n",
      "49/49 [==============================] - 1s 20ms/step - loss: 0.0852 - val_loss: 0.0703\n",
      "Epoch 5/50\n",
      "49/49 [==============================] - 1s 20ms/step - loss: 0.0649 - val_loss: 0.0846\n",
      "Epoch 6/50\n",
      "49/49 [==============================] - 1s 20ms/step - loss: 0.0606 - val_loss: 0.0965\n",
      "Epoch 7/50\n",
      "49/49 [==============================] - 1s 20ms/step - loss: 0.0480 - val_loss: 0.1001\n",
      "Epoch 8/50\n",
      "49/49 [==============================] - 1s 20ms/step - loss: 0.0497 - val_loss: 0.0848\n",
      "Epoch 9/50\n",
      "49/49 [==============================] - 1s 20ms/step - loss: 0.0648 - val_loss: 0.0820\n"
     ]
    },
    {
     "data": {
      "image/png": "[encoded data removed]",
      "text/plain": [
       "<Figure size 432x288 with 1 Axes>"
      ]
     },
     "metadata": {
      "needs_background": "light"
     },
     "output_type": "display_data"
    },
    {
     "name": "stdout",
     "output_type": "stream",
     "text": [
      "7/7 [==============================] - 0s 7ms/step\n"
     ]
    },
    {
     "data": {
      "image/png": "[encoded data removed]",
      "text/plain": [
       "<Figure size 432x288 with 1 Axes>"
      ]
     },
     "metadata": {
      "needs_background": "light"
     },
     "output_type": "display_data"
    },
    {
     "name": "stdout",
     "output_type": "stream",
     "text": [
      "Day 1: 1.637378734362353e-06\n",
      "Day 2: 2.123948151761372e-06\n",
      "Day 3: 2.338628677830081e-06\n",
      "Day 4: 2.889651588478969e-06\n",
      "Day 5: 3.313443252861596e-06\n",
      "Day 6: 3.928484822784572e-06\n",
      "Day 7: 4.6263743667102725e-06\n",
      "Overall Mean Squared Error: 2.979701370684173e-06\n"
     ]
    }
   ],
   "source": [
    "# Apply early stopping\n",
    "early_stopping = EarlyStopping(monitor='val_loss', patience=5, restore_best_weights=True)\n",
    "\n",
    "history = model.fit(X_train, y_train, epochs=50, batch_size=16, validation_data=(X_test, y_test), callbacks=[early_stopping])\n",
    "\n",
    "# Plot the training and validation loss curves\n",
    "plt.plot(history.history['loss'], 'bo', label='Training loss')\n",
    "plt.plot(history.history['val_loss'], 'b', label='Validation loss')\n",
    "plt.title('Training and Validation loss')\n",
    "plt.xlabel('Epochs')\n",
    "plt.ylabel('Loss')\n",
    "plt.legend()\n",
    "plt.show()\n",
    "\n",
    "# Make predictions using the trained model on the test data\n",
    "predicted = model.predict(X_test)\n",
    "predicted_prices = scaler.inverse_transform(predicted)\n",
    "real_prices = scaler.inverse_transform(y_test)\n",
    "\n",
    "# Calculate the mean squared error for each day\n",
    "mse_by_day = mean_squared_error(real_prices, predicted_prices, multioutput='raw_values')\n",
    "\n",
    "# Create a DataFrame with the real and predicted prices for the first test sample\n",
    "forex = pd.DataFrame({\n",
    "    \"Real\": real_prices[0],\n",
    "    \"Predicted\": predicted_prices[0]\n",
    "})\n",
    "\n",
    "# Plot the real and predicted prices for the first test sample\n",
    "plot = forex.plot.line()\n",
    "plot.set_title(f'Prediction plot for the first test sample')\n",
    "plt.xlabel('Days')\n",
    "plt.ylabel('Price')\n",
    "plt.show()\n",
    "\n",
    "# Print the mean squared error for each day\n",
    "for i, mse in enumerate(mse_by_day):\n",
    "    print(f\"Day {i + 1}: {mse}\")\n",
    "\n",
    "# Calculate and print the overall mean squared error\n",
    "overall_mse = mean_squared_error(real_prices, predicted_prices)\n",
    "print(f\"Overall Mean Squared Error: {overall_mse}\")"
   ]
  },
  {
   "cell_type": "code",
   "execution_count": 294,
   "id": "552f72ab-adfc-4e22-b4e3-d5384cb55bd1",
   "metadata": {},
   "outputs": [
    {
     "name": "stdout",
     "output_type": "stream",
     "text": [
      "1/1 [==============================] - 0s 17ms/step\n"
     ]
    },
    {
     "data": {
      "image/png": "[encoded data removed]",
      "text/plain": [
       "<Figure size 432x288 with 1 Axes>"
      ]
     },
     "metadata": {
      "needs_background": "light"
     },
     "output_type": "display_data"
    }
   ],
   "source": [
    "from sklearn.metrics import mean_absolute_error, mean_squared_error, r2_score\n",
    "\n",
    "USDCHF_M5_202304141535_202304242355 = validation_dataframes_M5['USDCHF_M5_202304141535_202304242355']\n",
    "USDCHF_M5_202304141535_202304242355 = USDCHF_M5_202304141535_202304242355.head(7)\n",
    "\n",
    "# Make predictions using the trained model on the last window of historical data\n",
    "last_window = X[-1].reshape(1, window_size, len(feature_columns))\n",
    "predicted_future = model.predict(last_window)\n",
    "predicted_future_prices = scaler.inverse_transform(predicted_future)\n",
    "\n",
    "# Create a DataFrame with the historical data\n",
    "historical_data = data.iloc[:, target_column].values[-window_size:]\n",
    "historical_df = pd.DataFrame({\n",
    "    \"Price\": historical_data,\n",
    "    \"Type\": \"Historical\"\n",
    "})\n",
    "\n",
    "# Create a DataFrame with the predicted future data\n",
    "predicted_data = np.concatenate((historical_data[-1:], predicted_future_prices.ravel()))\n",
    "predicted_df = pd.DataFrame({\n",
    "    \"Price\": predicted_data,\n",
    "    \"Type\": \"Predicted\"\n",
    "}, index=range(len(historical_data) - 1, len(historical_data) + future_days))\n",
    "\n",
    "# Extract validation data from the provided variable\n",
    "validation_data = USDCHF_M5_202304141535_202304242355.iloc[:, target_column].values\n",
    "\n",
    "# Create a DataFrame with the validation data\n",
    "validation_df = pd.DataFrame({\n",
    "    \"Price\": validation_data,\n",
    "    \"Type\": \"Validation\"\n",
    "}, index=range(len(historical_data) - 1, len(historical_data) - 1 + len(validation_data)))\n",
    "\n",
    "# Concatenate historical, predicted, and validation DataFrames\n",
    "historical_predicted_validation = pd.concat([historical_df, predicted_df, validation_df], axis=0)\n",
    "\n",
    "# Plot the historical, predicted, and validation data\n",
    "ax = historical_predicted_validation[historical_predicted_validation['Type'] == 'Historical']['Price'].plot(color='blue', label='Historical')\n",
    "historical_predicted_validation[historical_predicted_validation['Type'] == 'Predicted']['Price'].plot(color='red', label='Predicted', ax=ax)\n",
    "historical_predicted_validation[historical_predicted_validation['Type'] == 'Validation']['Price'].plot(color='green', label='Validation', ax=ax)\n",
    "plt.title('Historical, Predicted, and Validation Prices')\n",
    "plt.xlabel('Days')\n",
    "plt.ylabel('Price')\n",
    "plt.legend()\n",
    "plt.show()"
   ]
  },
  {
   "cell_type": "code",
   "execution_count": 295,
   "id": "93850184-c61b-4f5d-a90c-5c4317bd635e",
   "metadata": {},
   "outputs": [
    {
     "name": "stdout",
     "output_type": "stream",
     "text": [
      "Mean Absolute Error: 0.0009577895146857236\n",
      "Mean Squared Error: 2.979701370684173e-06\n",
      "Root Mean Squared Error: 0.001726181152337197\n",
      "Mean Absolute Percentage Error: 0.1074408490259187\n",
      "R-squared: 0.49553080097885516\n",
      "Day 1:\n",
      "  Mean Absolute Error (MAE): 0.0026220347595214966\n",
      "  Mean Squared Error (MSE): 6.8750662801389525e-06\n",
      "  Root Mean Squared Error (RMSE): 0.0026220347595214966\n",
      "  Mean Absolute Percentage Error (MAPE): 0.29460071677600713\n",
      "Day 2:\n",
      "  Mean Absolute Error (MAE): 0.0023904910659789946\n",
      "  Mean Squared Error (MSE): 5.71444753652539e-06\n",
      "  Root Mean Squared Error (RMSE): 0.0023904910659789946\n",
      "  Mean Absolute Percentage Error (MAPE): 0.26846177911807584\n",
      "Day 3:\n",
      "  Mean Absolute Error (MAE): 0.0007311459732055603\n",
      "  Mean Squared Error (MSE): 5.345744341347059e-07\n",
      "  Root Mean Squared Error (RMSE): 0.0007311459732055603\n",
      "  Mean Absolute Percentage Error (MAPE): 0.08197806579422795\n",
      "Day 4:\n",
      "  Mean Absolute Error (MAE): 0.0008721403884888179\n",
      "  Mean Squared Error (MSE): 7.606288572334262e-07\n",
      "  Root Mean Squared Error (RMSE): 0.0008721403884888179\n",
      "  Mean Absolute Percentage Error (MAPE): 0.0977988033336867\n",
      "Day 5:\n",
      "  Mean Absolute Error (MAE): 0.0010676051521301133\n",
      "  Mean Squared Error (MSE): 1.1397807608547623e-06\n",
      "  Root Mean Squared Error (RMSE): 0.0010676051521301133\n",
      "  Mean Absolute Percentage Error (MAPE): 0.11973902851360049\n",
      "Day 6:\n",
      "  Mean Absolute Error (MAE): 0.0011404873085022471\n",
      "  Mean Squared Error (MSE): 1.3007113008546999e-06\n",
      "  Root Mean Squared Error (RMSE): 0.0011404873085022471\n",
      "  Mean Absolute Percentage Error (MAPE): 0.12794625283293848\n",
      "Day 7:\n",
      "  Mean Absolute Error (MAE): 0.0008469532966614013\n",
      "  Mean Squared Error (MSE): 7.173298867256156e-07\n",
      "  Root Mean Squared Error (RMSE): 0.0008469532966614013\n",
      "  Mean Absolute Percentage Error (MAPE): 0.09501916157080847\n"
     ]
    }
   ],
   "source": [
    "from sklearn.metrics import mean_absolute_error, mean_squared_error, r2_score\n",
    "import numpy as np\n",
    "\n",
    "def mean_absolute_percentage_error(y_true, y_pred):\n",
    "    y_true, y_pred = np.array(y_true), np.array(y_pred)\n",
    "    return np.mean(np.abs((y_true - y_pred) / y_true)) * 100\n",
    "\n",
    "# Assuming real_prices and predicted_prices have the correct values\n",
    "mae = mean_absolute_error(real_prices, predicted_prices)\n",
    "mse = mean_squared_error(real_prices, predicted_prices)\n",
    "rmse = np.sqrt(mse)\n",
    "mape = mean_absolute_percentage_error(real_prices, predicted_prices)\n",
    "r2 = r2_score(real_prices, predicted_prices)\n",
    "\n",
    "print(f\"Mean Absolute Error: {mae}\")\n",
    "print(f\"Mean Squared Error: {mse}\")\n",
    "print(f\"Root Mean Squared Error: {rmse}\")\n",
    "print(f\"Mean Absolute Percentage Error: {mape}\")\n",
    "print(f\"R-squared: {r2}\")\n",
    "\n",
    "# Extract the predicted and validation prices for each day\n",
    "predicted_daily_prices = predicted_future_prices[:future_days].reshape(-1, 1)\n",
    "validation_daily_prices = validation_data[:future_days].reshape(-1, 1)\n",
    "\n",
    "# Calculate the metrics for each day\n",
    "for i in range(len(predicted_daily_prices)):\n",
    "    mae = mean_absolute_error(validation_daily_prices[i], predicted_daily_prices[i])\n",
    "    mse = mean_squared_error(validation_daily_prices[i], predicted_daily_prices[i])\n",
    "    rmse = np.sqrt(mse)\n",
    "    mape = mean_absolute_percentage_error(validation_daily_prices[i], predicted_daily_prices[i])\n",
    "\n",
    "    print(f\"Day {i + 1}:\")\n",
    "    print(f\"  Mean Absolute Error (MAE): {mae}\")\n",
    "    print(f\"  Mean Squared Error (MSE): {mse}\")\n",
    "    print(f\"  Root Mean Squared Error (RMSE): {rmse}\")\n",
    "    print(f\"  Mean Absolute Percentage Error (MAPE): {mape}\") \n",
    "    # print(f\"  Accuracy: {accuracy}%\")"
   ]
  },
  {
   "cell_type": "markdown",
   "id": "96cf7b0c-7577-495a-912e-7c92173604dd",
   "metadata": {},
   "source": [
    "**USDJPY_M5**"
   ]
  },
  {
   "cell_type": "code",
   "execution_count": 296,
   "id": "4de9fb08-1587-432a-ad41-5f3aed343517",
   "metadata": {},
   "outputs": [
    {
     "name": "stdout",
     "output_type": "stream",
     "text": [
      "False\n",
      "Target variable: close_wave\n",
      "Selected features:\n",
      "open_wave\n",
      "high_wave\n",
      "low_wave\n",
      "close_wave\n",
      "KAMA\n",
      "bb_bbm\n",
      "bb_bbh\n",
      "bb_bbl\n",
      "EMA\n",
      "SMA13\n",
      "SMA21\n",
      "SMA34\n"
     ]
    }
   ],
   "source": [
    "# data = ta_data_USDJPY\n",
    "# Uncomment for Prediction using Denoised OHLC + TA values \n",
    "data = ta_denoised_data_USDJPY\n",
    "\n",
    "# Window size for tuning\n",
    "window_size = 28\n",
    "# Number of future days to predict\n",
    "future_days = 7\n",
    "\n",
    "# Set up window for rolling data\n",
    "def window_data(data, window, feature_col_numbers, target_col_number):\n",
    "    X = []\n",
    "    y = []\n",
    "    for i in range(len(data) - window - future_days):\n",
    "        features = data.iloc[i:(i + window), feature_col_numbers]\n",
    "        target = data.iloc[(i + window):(i + window + future_days), target_col_number]\n",
    "        X.append(features)\n",
    "        y.append(target)\n",
    "    return np.array(X), np.array(y).reshape(-1, future_days)\n",
    "\n",
    "# Features with high correlation for pure data\n",
    "# feature_columns = [1,2,3,4,9,28,29,30,33,37,38,39]\n",
    "\n",
    "# Features with high correlation for Wavelet Denoised data\n",
    "feature_columns = [0,1,2,3,8,27,28,29,32,36,37,38]\n",
    "\n",
    "# target_column = 4 # Close value\n",
    "\n",
    "target_column = 3 # Close value for Denoised Data\n",
    "\n",
    "# Prepare the input and output arrays for the LSTM model\n",
    "X, y = window_data(data, window_size, feature_columns, target_column)\n",
    "\n",
    "# Scale the data using StandardScaler (Z-score normalization)\n",
    "scaler = StandardScaler()\n",
    "X = X.reshape(X.shape[0], -1)\n",
    "X = scaler.fit_transform(X)\n",
    "X = X.reshape(X.shape[0], window_size, len(feature_columns))\n",
    "\n",
    "# # Scale the data using MinMaxScaler\n",
    "# scaler = MinMaxScaler()\n",
    "# X = X.reshape(X.shape[0], -1)\n",
    "# X = scaler.fit_transform(X)\n",
    "# X = X.reshape(X.shape[0], window_size, len(feature_columns))\n",
    "\n",
    "scaler.fit(y)\n",
    "y = scaler.transform(y)\n",
    "\n",
    "# Split the data into training and testing sets\n",
    "split = int(0.8 * len(X))\n",
    "X_train = X[:split]\n",
    "X_test = X[split:]\n",
    "y_train = y[:split]\n",
    "y_test = y[split:]\n",
    "\n",
    "def impute_missing_values(X):\n",
    "    for i in range(X.shape[2]):\n",
    "        feature_values = X[:, :, i].flatten()\n",
    "        feature_mean = np.nanmean(feature_values)\n",
    "        feature_isnan = np.isnan(X[:, :, i])\n",
    "        X[:, :, i][feature_isnan] = feature_mean\n",
    "    return X\n",
    "\n",
    "X_train = impute_missing_values(X_train)\n",
    "X_test = impute_missing_values(X_test)\n",
    "\n",
    "print(np.isnan(X_train).any())\n",
    "\n",
    "print(f\"Target variable: {data.columns[target_column]}\")\n",
    "print(\"Selected features:\")\n",
    "for col in feature_columns:\n",
    "    print(data.columns[col])"
   ]
  },
  {
   "cell_type": "code",
   "execution_count": 297,
   "id": "0b0cfbeb-656d-4360-832c-e7b2d4677516",
   "metadata": {},
   "outputs": [
    {
     "name": "stdout",
     "output_type": "stream",
     "text": [
      "Epoch 1/50\n",
      "49/49 [==============================] - 1s 24ms/step - loss: 0.0683 - val_loss: 0.0601\n",
      "Epoch 2/50\n",
      "49/49 [==============================] - 1s 22ms/step - loss: 0.0795 - val_loss: 0.1254\n",
      "Epoch 3/50\n",
      "49/49 [==============================] - 1s 21ms/step - loss: 0.0608 - val_loss: 0.0822\n",
      "Epoch 4/50\n",
      "49/49 [==============================] - 1s 23ms/step - loss: 0.0571 - val_loss: 0.1539\n",
      "Epoch 5/50\n",
      "49/49 [==============================] - 1s 20ms/step - loss: 0.0479 - val_loss: 0.1115\n",
      "Epoch 6/50\n",
      "49/49 [==============================] - 1s 20ms/step - loss: 0.0637 - val_loss: 0.1477\n"
     ]
    },
    {
     "data": {
      "image/png": "[encoded data removed]",
      "text/plain": [
       "<Figure size 432x288 with 1 Axes>"
      ]
     },
     "metadata": {
      "needs_background": "light"
     },
     "output_type": "display_data"
    },
    {
     "name": "stdout",
     "output_type": "stream",
     "text": [
      "7/7 [==============================] - 0s 7ms/step\n"
     ]
    },
    {
     "data": {
      "image/png": "[encoded data removed]",
      "text/plain": [
       "<Figure size 432x288 with 1 Axes>"
      ]
     },
     "metadata": {
      "needs_background": "light"
     },
     "output_type": "display_data"
    },
    {
     "name": "stdout",
     "output_type": "stream",
     "text": [
      "Day 1: 0.00976031335803887\n",
      "Day 2: 0.010686072566450218\n",
      "Day 3: 0.009833319927525163\n",
      "Day 4: 0.011224379767680849\n",
      "Day 5: 0.011349192988779282\n",
      "Day 6: 0.013857717292604396\n",
      "Day 7: 0.014610085333927568\n",
      "Overall Mean Squared Error: 0.01161729731928662\n"
     ]
    }
   ],
   "source": [
    "# Apply early stopping\n",
    "early_stopping = EarlyStopping(monitor='val_loss', patience=5, restore_best_weights=True)\n",
    "\n",
    "history = model.fit(X_train, y_train, epochs=50, batch_size=16, validation_data=(X_test, y_test), callbacks=[early_stopping])\n",
    "\n",
    "# Plot the training and validation loss curves\n",
    "plt.plot(history.history['loss'], 'bo', label='Training loss')\n",
    "plt.plot(history.history['val_loss'], 'b', label='Validation loss')\n",
    "plt.title('Training and Validation loss')\n",
    "plt.xlabel('Epochs')\n",
    "plt.ylabel('Loss')\n",
    "plt.legend()\n",
    "plt.show()\n",
    "\n",
    "# Make predictions using the trained model on the test data\n",
    "predicted = model.predict(X_test)\n",
    "predicted_prices = scaler.inverse_transform(predicted)\n",
    "real_prices = scaler.inverse_transform(y_test)\n",
    "\n",
    "# Calculate the mean squared error for each day\n",
    "mse_by_day = mean_squared_error(real_prices, predicted_prices, multioutput='raw_values')\n",
    "\n",
    "# Create a DataFrame with the real and predicted prices for the first test sample\n",
    "forex = pd.DataFrame({\n",
    "    \"Real\": real_prices[0],\n",
    "    \"Predicted\": predicted_prices[0]\n",
    "})\n",
    "\n",
    "# Plot the real and predicted prices for the first test sample\n",
    "plot = forex.plot.line()\n",
    "plot.set_title(f'Prediction plot for the first test sample')\n",
    "plt.xlabel('Days')\n",
    "plt.ylabel('Price')\n",
    "plt.show()\n",
    "\n",
    "# Print the mean squared error for each day\n",
    "for i, mse in enumerate(mse_by_day):\n",
    "    print(f\"Day {i + 1}: {mse}\")\n",
    "\n",
    "# Calculate and print the overall mean squared error\n",
    "overall_mse = mean_squared_error(real_prices, predicted_prices)\n",
    "print(f\"Overall Mean Squared Error: {overall_mse}\")"
   ]
  },
  {
   "cell_type": "code",
   "execution_count": 298,
   "id": "5238c3ea-5033-4a2e-97e5-1755bd8c487d",
   "metadata": {},
   "outputs": [
    {
     "name": "stdout",
     "output_type": "stream",
     "text": [
      "1/1 [==============================] - 0s 42ms/step\n"
     ]
    },
    {
     "data": {
      "image/png": "[encoded data removed]",
      "text/plain": [
       "<Figure size 432x288 with 1 Axes>"
      ]
     },
     "metadata": {
      "needs_background": "light"
     },
     "output_type": "display_data"
    }
   ],
   "source": [
    "from sklearn.metrics import mean_absolute_error, mean_squared_error, r2_score\n",
    "\n",
    "USDJPY_M5_202304141535_202304242355 = validation_dataframes_M5['USDJPY_M5_202304141535_202304242355']\n",
    "USDJPY_M5_202304141535_202304242355 = USDJPY_M5_202304141535_202304242355.head(7)\n",
    "\n",
    "# Make predictions using the trained model on the last window of historical data\n",
    "last_window = X[-1].reshape(1, window_size, len(feature_columns))\n",
    "predicted_future = model.predict(last_window)\n",
    "predicted_future_prices = scaler.inverse_transform(predicted_future)\n",
    "\n",
    "# Create a DataFrame with the historical data\n",
    "historical_data = data.iloc[:, target_column].values[-window_size:]\n",
    "historical_df = pd.DataFrame({\n",
    "    \"Price\": historical_data,\n",
    "    \"Type\": \"Historical\"\n",
    "})\n",
    "\n",
    "# Create a DataFrame with the predicted future data\n",
    "predicted_data = np.concatenate((historical_data[-1:], predicted_future_prices.ravel()))\n",
    "predicted_df = pd.DataFrame({\n",
    "    \"Price\": predicted_data,\n",
    "    \"Type\": \"Predicted\"\n",
    "}, index=range(len(historical_data) - 1, len(historical_data) + future_days))\n",
    "\n",
    "# Extract validation data from the provided variable\n",
    "validation_data = USDJPY_M5_202304141535_202304242355.iloc[:, target_column].values\n",
    "\n",
    "# Create a DataFrame with the validation data\n",
    "validation_df = pd.DataFrame({\n",
    "    \"Price\": validation_data,\n",
    "    \"Type\": \"Validation\"\n",
    "}, index=range(len(historical_data) - 1, len(historical_data) - 1 + len(validation_data)))\n",
    "\n",
    "# Concatenate historical, predicted, and validation DataFrames\n",
    "historical_predicted_validation = pd.concat([historical_df, predicted_df, validation_df], axis=0)\n",
    "\n",
    "# Plot the historical, predicted, and validation data\n",
    "ax = historical_predicted_validation[historical_predicted_validation['Type'] == 'Historical']['Price'].plot(color='blue', label='Historical')\n",
    "historical_predicted_validation[historical_predicted_validation['Type'] == 'Predicted']['Price'].plot(color='red', label='Predicted', ax=ax)\n",
    "historical_predicted_validation[historical_predicted_validation['Type'] == 'Validation']['Price'].plot(color='green', label='Validation', ax=ax)\n",
    "plt.title('Historical, Predicted, and Validation Prices')\n",
    "plt.xlabel('Days')\n",
    "plt.ylabel('Price')\n",
    "plt.legend()\n",
    "plt.show()"
   ]
  },
  {
   "cell_type": "code",
   "execution_count": 299,
   "id": "db097d08-8145-4ad4-8822-c28a9cf17f69",
   "metadata": {},
   "outputs": [
    {
     "name": "stdout",
     "output_type": "stream",
     "text": [
      "Mean Absolute Error: 0.08686987278737814\n",
      "Mean Squared Error: 0.01161729731928662\n",
      "Root Mean Squared Error: 0.10778356701875579\n",
      "Mean Absolute Percentage Error: 0.06554703221209303\n",
      "R-squared: 0.32792241388624965\n",
      "Day 1:\n",
      "  Mean Absolute Error (MAE): 0.06336767578125091\n",
      "  Mean Squared Error (MSE): 0.004015462333917733\n",
      "  Root Mean Squared Error (RMSE): 0.06336767578125091\n",
      "  Mean Absolute Percentage Error (MAPE): 0.047725967268630085\n",
      "Day 2:\n",
      "  Mean Absolute Error (MAE): 0.12996386718751296\n",
      "  Mean Squared Error (MSE): 0.01689060677433351\n",
      "  Root Mean Squared Error (RMSE): 0.12996386718751296\n",
      "  Mean Absolute Percentage Error (MAPE): 0.09783341653054978\n",
      "Day 3:\n",
      "  Mean Absolute Error (MAE): 0.3465916748046993\n",
      "  Mean Squared Error (MSE): 0.12012578904392644\n",
      "  Root Mean Squared Error (RMSE): 0.3465916748046993\n",
      "  Mean Absolute Percentage Error (MAPE): 0.26047382032789174\n",
      "Day 4:\n",
      "  Mean Absolute Error (MAE): 0.350904418945305\n",
      "  Mean Squared Error (MSE): 0.12313391123534212\n",
      "  Root Mean Squared Error (RMSE): 0.350904418945305\n",
      "  Mean Absolute Percentage Error (MAPE): 0.26373479462563887\n",
      "Day 5:\n",
      "  Mean Absolute Error (MAE): 0.2590964355468657\n",
      "  Mean Squared Error (MSE): 0.06713096291309112\n",
      "  Root Mean Squared Error (RMSE): 0.2590964355468657\n",
      "  Mean Absolute Percentage Error (MAPE): 0.19480349128361982\n",
      "Day 6:\n",
      "  Mean Absolute Error (MAE): 0.2341611328124884\n",
      "  Mean Squared Error (MSE): 0.05483143612002783\n",
      "  Root Mean Squared Error (RMSE): 0.2341611328124884\n",
      "  Mean Absolute Percentage Error (MAPE): 0.17613516428909046\n",
      "Day 7:\n",
      "  Mean Absolute Error (MAE): 0.27020141601562386\n",
      "  Mean Squared Error (MSE): 0.07300880521684823\n",
      "  Root Mean Squared Error (RMSE): 0.27020141601562386\n",
      "  Mean Absolute Percentage Error (MAPE): 0.2032047950783063\n"
     ]
    }
   ],
   "source": [
    "from sklearn.metrics import mean_absolute_error, mean_squared_error, r2_score\n",
    "import numpy as np\n",
    "\n",
    "def mean_absolute_percentage_error(y_true, y_pred):\n",
    "    y_true, y_pred = np.array(y_true), np.array(y_pred)\n",
    "    return np.mean(np.abs((y_true - y_pred) / y_true)) * 100\n",
    "\n",
    "# Assuming real_prices and predicted_prices have the correct values\n",
    "mae = mean_absolute_error(real_prices, predicted_prices)\n",
    "mse = mean_squared_error(real_prices, predicted_prices)\n",
    "rmse = np.sqrt(mse)\n",
    "mape = mean_absolute_percentage_error(real_prices, predicted_prices)\n",
    "r2 = r2_score(real_prices, predicted_prices)\n",
    "\n",
    "print(f\"Mean Absolute Error: {mae}\")\n",
    "print(f\"Mean Squared Error: {mse}\")\n",
    "print(f\"Root Mean Squared Error: {rmse}\")\n",
    "print(f\"Mean Absolute Percentage Error: {mape}\")\n",
    "print(f\"R-squared: {r2}\")\n",
    "\n",
    "# Extract the predicted and validation prices for each day\n",
    "predicted_daily_prices = predicted_future_prices[:future_days].reshape(-1, 1)\n",
    "validation_daily_prices = validation_data[:future_days].reshape(-1, 1)\n",
    "\n",
    "# Calculate the metrics for each day\n",
    "for i in range(len(predicted_daily_prices)):\n",
    "    mae = mean_absolute_error(validation_daily_prices[i], predicted_daily_prices[i])\n",
    "    mse = mean_squared_error(validation_daily_prices[i], predicted_daily_prices[i])\n",
    "    rmse = np.sqrt(mse)\n",
    "    mape = mean_absolute_percentage_error(validation_daily_prices[i], predicted_daily_prices[i])\n",
    "\n",
    "    print(f\"Day {i + 1}:\")\n",
    "    print(f\"  Mean Absolute Error (MAE): {mae}\")\n",
    "    print(f\"  Mean Squared Error (MSE): {mse}\")\n",
    "    print(f\"  Root Mean Squared Error (RMSE): {rmse}\")\n",
    "    print(f\"  Mean Absolute Percentage Error (MAPE): {mape}\") \n",
    "    # print(f\"  Accuracy: {accuracy}%\")"
   ]
  },
  {
   "cell_type": "code",
   "execution_count": null,
   "id": "e376a013-9ed4-4992-8cf7-5db740ecf6d0",
   "metadata": {},
   "outputs": [],
   "source": []
  },
  {
   "cell_type": "code",
   "execution_count": null,
   "id": "3df5180b-ca93-4253-8e6a-0509ab92ff01",
   "metadata": {},
   "outputs": [],
   "source": []
  },
  {
   "cell_type": "code",
   "execution_count": null,
   "id": "145eef03-d556-4cbe-af10-ceaf4473bedb",
   "metadata": {},
   "outputs": [],
   "source": []
  },
  {
   "cell_type": "code",
   "execution_count": null,
   "id": "260888bf-fedf-4fd7-8409-63b3e05e36f5",
   "metadata": {},
   "outputs": [],
   "source": []
  }
 ],
 "metadata": {
  "kernelspec": {
   "display_name": "Python 3 (ipykernel)",
   "language": "python",
   "name": "python3"
  },
  "language_info": {
   "codemirror_mode": {
    "name": "ipython",
    "version": 3
   },
   "file_extension": ".py",
   "mimetype": "text/x-python",
   "name": "python",
   "nbconvert_exporter": "python",
   "pygments_lexer": "ipython3",
   "version": "3.10.4"
  }
 },
 "nbformat": 4,
 "nbformat_minor": 5
}
